{
 "cells": [
  {
   "cell_type": "code",
   "execution_count": 322,
   "id": "80370fb5-4b94-4de3-a388-7a38087e2f11",
   "metadata": {},
   "outputs": [],
   "source": [
    "import pandas as pd\n",
    "import seaborn as sns"
   ]
  },
  {
   "cell_type": "markdown",
   "id": "f863351c-48a9-484c-9899-05b219b14990",
   "metadata": {},
   "source": [
    "## Import du fichier Excel traité manuellement :"
   ]
  },
  {
   "cell_type": "code",
   "execution_count": 58,
   "id": "03fbbdf2-ffcd-4efc-81b9-af40a3bb5055",
   "metadata": {},
   "outputs": [
    {
     "name": "stderr",
     "output_type": "stream",
     "text": [
      "C:\\Users\\julien.bacquart\\Development\\BSO-Inserm-Sante\\venv\\Lib\\site-packages\\openpyxl\\worksheet\\_reader.py:329: UserWarning: Data Validation extension is not supported and will be removed\n",
      "  warn(msg)\n"
     ]
    }
   ],
   "source": [
    "df_from_excel = pd.read_excel(\n",
    "    'Data/inputs/20240531_df_results.xlsx',\n",
    "    usecols=[\n",
    "        'NCTId',\n",
    "        'pmid',\n",
    "        'type_de_publication',\n",
    "        'commentaire',\n",
    "    ],\n",
    ")\n",
    "df_from_excel = df_from_excel.astype(\n",
    "    {\n",
    "        'pmid': 'Int64',\n",
    "        'type_de_publication': 'category',\n",
    "    }\n",
    ")"
   ]
  },
  {
   "cell_type": "code",
   "execution_count": 59,
   "id": "d2d196e4-3d39-4e87-9056-dacf2f671daa",
   "metadata": {},
   "outputs": [
    {
     "data": {
      "text/html": [
       "<div>\n",
       "<style scoped>\n",
       "    .dataframe tbody tr th:only-of-type {\n",
       "        vertical-align: middle;\n",
       "    }\n",
       "\n",
       "    .dataframe tbody tr th {\n",
       "        vertical-align: top;\n",
       "    }\n",
       "\n",
       "    .dataframe thead th {\n",
       "        text-align: right;\n",
       "    }\n",
       "</style>\n",
       "<table border=\"1\" class=\"dataframe\">\n",
       "  <thead>\n",
       "    <tr style=\"text-align: right;\">\n",
       "      <th></th>\n",
       "      <th>NCTId</th>\n",
       "      <th>pmid</th>\n",
       "      <th>type_de_publication</th>\n",
       "      <th>commentaire</th>\n",
       "    </tr>\n",
       "  </thead>\n",
       "  <tbody>\n",
       "    <tr>\n",
       "      <th>0</th>\n",
       "      <td>NCT02592174</td>\n",
       "      <td>31755936</td>\n",
       "      <td>publication</td>\n",
       "      <td>NaN</td>\n",
       "    </tr>\n",
       "    <tr>\n",
       "      <th>1</th>\n",
       "      <td>NCT02273765</td>\n",
       "      <td>33667406</td>\n",
       "      <td>publication</td>\n",
       "      <td>NaN</td>\n",
       "    </tr>\n",
       "    <tr>\n",
       "      <th>2</th>\n",
       "      <td>NCT05311865</td>\n",
       "      <td>36438274</td>\n",
       "      <td>protocole</td>\n",
       "      <td>NaN</td>\n",
       "    </tr>\n",
       "    <tr>\n",
       "      <th>3</th>\n",
       "      <td>NCT05311865</td>\n",
       "      <td>37795682</td>\n",
       "      <td>publication</td>\n",
       "      <td>NaN</td>\n",
       "    </tr>\n",
       "    <tr>\n",
       "      <th>4</th>\n",
       "      <td>NCT02107365</td>\n",
       "      <td>&lt;NA&gt;</td>\n",
       "      <td>NaN</td>\n",
       "      <td>NaN</td>\n",
       "    </tr>\n",
       "    <tr>\n",
       "      <th>...</th>\n",
       "      <td>...</td>\n",
       "      <td>...</td>\n",
       "      <td>...</td>\n",
       "      <td>...</td>\n",
       "    </tr>\n",
       "    <tr>\n",
       "      <th>495</th>\n",
       "      <td>NCT02481453</td>\n",
       "      <td>20413309</td>\n",
       "      <td>background</td>\n",
       "      <td>NaN</td>\n",
       "    </tr>\n",
       "    <tr>\n",
       "      <th>496</th>\n",
       "      <td>NCT02481453</td>\n",
       "      <td>24975859</td>\n",
       "      <td>background</td>\n",
       "      <td>NaN</td>\n",
       "    </tr>\n",
       "    <tr>\n",
       "      <th>497</th>\n",
       "      <td>NCT02481453</td>\n",
       "      <td>38273639</td>\n",
       "      <td>résultat négatif</td>\n",
       "      <td>NaN</td>\n",
       "    </tr>\n",
       "    <tr>\n",
       "      <th>498</th>\n",
       "      <td>NCT02658253</td>\n",
       "      <td>33717176</td>\n",
       "      <td>publication</td>\n",
       "      <td>NaN</td>\n",
       "    </tr>\n",
       "    <tr>\n",
       "      <th>499</th>\n",
       "      <td>NCT02658253</td>\n",
       "      <td>32032566</td>\n",
       "      <td>publication</td>\n",
       "      <td>NaN</td>\n",
       "    </tr>\n",
       "  </tbody>\n",
       "</table>\n",
       "<p>500 rows × 4 columns</p>\n",
       "</div>"
      ],
      "text/plain": [
       "           NCTId      pmid type_de_publication commentaire\n",
       "0    NCT02592174  31755936         publication         NaN\n",
       "1    NCT02273765  33667406         publication         NaN\n",
       "2    NCT05311865  36438274           protocole         NaN\n",
       "3    NCT05311865  37795682         publication         NaN\n",
       "4    NCT02107365      <NA>                 NaN         NaN\n",
       "..           ...       ...                 ...         ...\n",
       "495  NCT02481453  20413309          background         NaN\n",
       "496  NCT02481453  24975859          background         NaN\n",
       "497  NCT02481453  38273639    résultat négatif         NaN\n",
       "498  NCT02658253  33717176         publication         NaN\n",
       "499  NCT02658253  32032566         publication         NaN\n",
       "\n",
       "[500 rows x 4 columns]"
      ]
     },
     "execution_count": 59,
     "metadata": {},
     "output_type": "execute_result"
    }
   ],
   "source": [
    "df_from_excel"
   ]
  },
  {
   "cell_type": "code",
   "execution_count": 60,
   "id": "b8e5e29c-7918-4542-b5ff-a092f650ca5a",
   "metadata": {},
   "outputs": [
    {
     "name": "stdout",
     "output_type": "stream",
     "text": [
      "<class 'pandas.core.frame.DataFrame'>\n",
      "RangeIndex: 500 entries, 0 to 499\n",
      "Data columns (total 4 columns):\n",
      " #   Column               Non-Null Count  Dtype   \n",
      "---  ------               --------------  -----   \n",
      " 0   NCTId                500 non-null    object  \n",
      " 1   pmid                 394 non-null    Int64   \n",
      " 2   type_de_publication  394 non-null    category\n",
      " 3   commentaire          10 non-null     object  \n",
      "dtypes: Int64(1), category(1), object(2)\n",
      "memory usage: 13.0+ KB\n"
     ]
    }
   ],
   "source": [
    "df_from_excel.info()"
   ]
  },
  {
   "cell_type": "code",
   "execution_count": null,
   "id": "265c8f52-3fc8-40f1-a73e-9d674bb0cb6e",
   "metadata": {},
   "outputs": [],
   "source": []
  },
  {
   "cell_type": "markdown",
   "id": "b63926af-cce9-4175-9950-110d5d7819a8",
   "metadata": {},
   "source": [
    "#### type_de_publication :"
   ]
  },
  {
   "cell_type": "code",
   "execution_count": 61,
   "id": "e9a7b426-256c-408f-a59c-b9fcba8f7540",
   "metadata": {},
   "outputs": [
    {
     "data": {
      "text/plain": [
       "type_de_publication\n",
       "publication         233\n",
       "background          113\n",
       "protocole            19\n",
       "résultat négatif     17\n",
       "autre                 7\n",
       "méta-analyse          5\n",
       "Name: count, dtype: int64"
      ]
     },
     "execution_count": 61,
     "metadata": {},
     "output_type": "execute_result"
    }
   ],
   "source": [
    "df_from_excel.loc[:, 'type_de_publication'].value_counts()"
   ]
  },
  {
   "cell_type": "code",
   "execution_count": null,
   "id": "56d5278a-003e-44e5-99ed-055df1db65ff",
   "metadata": {},
   "outputs": [],
   "source": []
  },
  {
   "cell_type": "markdown",
   "id": "e9fa6eea-7106-4926-bf76-31b6867b8d97",
   "metadata": {},
   "source": [
    "## Import de la DataFrame :"
   ]
  },
  {
   "cell_type": "code",
   "execution_count": 62,
   "id": "be2ad446-e2f3-45c4-86a4-d8973196f771",
   "metadata": {},
   "outputs": [],
   "source": [
    "df_corrected = pd.read_csv('Data/outputs/df_corrected.csv', sep=';', encoding='utf-8-sig')"
   ]
  },
  {
   "cell_type": "code",
   "execution_count": 63,
   "id": "7812d5b9-bea7-47c8-a044-4f307cd1bee1",
   "metadata": {},
   "outputs": [
    {
     "name": "stdout",
     "output_type": "stream",
     "text": [
      "<class 'pandas.core.frame.DataFrame'>\n",
      "RangeIndex: 500 entries, 0 to 499\n",
      "Data columns (total 26 columns):\n",
      " #   Column               Non-Null Count  Dtype         \n",
      "---  ------               --------------  -----         \n",
      " 0   NCTId                500 non-null    object        \n",
      " 1   BriefTitle           500 non-null    object        \n",
      " 2   LeadSponsorName      500 non-null    object        \n",
      " 3   CollaboratorName     225 non-null    object        \n",
      " 4   OverallStatus        500 non-null    category      \n",
      " 5   StudyType            500 non-null    category      \n",
      " 6   HasResults           500 non-null    bool          \n",
      " 7   StudyFirstPostDate   500 non-null    datetime64[ns]\n",
      " 8   StartDate            500 non-null    datetime64[ns]\n",
      " 9   CompletionDate       500 non-null    datetime64[ns]\n",
      " 10  pmid                 394 non-null    Int64         \n",
      " 11  type                 394 non-null    category      \n",
      " 12  title                394 non-null    object        \n",
      " 13  authors              394 non-null    object        \n",
      " 14  doi                  393 non-null    object        \n",
      " 15  publication_types    394 non-null    object        \n",
      " 16  is_paratext          393 non-null    boolean       \n",
      " 17  published_date       393 non-null    datetime64[ns]\n",
      " 18  is_oa                393 non-null    boolean       \n",
      " 19  oa_status            393 non-null    category      \n",
      " 20  has_repository_copy  393 non-null    boolean       \n",
      " 21  type_openalex        393 non-null    category      \n",
      " 22  primary_topic        393 non-null    category      \n",
      " 23  subfield             393 non-null    category      \n",
      " 24  field                393 non-null    category      \n",
      " 25  domain               393 non-null    category      \n",
      "dtypes: Int64(1), bool(1), boolean(3), category(9), datetime64[ns](4), object(8)\n",
      "memory usage: 64.7+ KB\n"
     ]
    }
   ],
   "source": [
    "df_corrected = df_corrected.astype(\n",
    "    {\n",
    "        # ClinicalTrial\n",
    "        'OverallStatus': 'category',\n",
    "        'StudyType': 'category',\n",
    "        'type': 'category',\n",
    "\n",
    "        'pmid': 'Int64',\n",
    "\n",
    "        'StudyFirstPostDate': 'datetime64[ns]',\n",
    "        'StartDate': 'datetime64[ns]',\n",
    "        'CompletionDate': 'datetime64[ns]',\n",
    "\n",
    "        # Unpaywall\n",
    "        'is_paratext': 'boolean',\n",
    "        'published_date': 'datetime64[ns]',\n",
    "        'is_oa': 'boolean',\n",
    "        'oa_status': 'category',\n",
    "        'has_repository_copy': 'boolean',\n",
    "\n",
    "        # OpenAlex\n",
    "        'type_openalex': 'category',\n",
    "        'primary_topic': 'category',\n",
    "        'subfield': 'category',\n",
    "        'field': 'category',\n",
    "        'domain': 'category',\n",
    "    }\n",
    ")  # fmt: skip\n",
    "# df_corrected = df_extract.convert_dtypes()\n",
    "df_corrected.info()"
   ]
  },
  {
   "cell_type": "code",
   "execution_count": null,
   "id": "31ecb4d2-514c-475f-8eac-47b1aa09b449",
   "metadata": {},
   "outputs": [],
   "source": []
  },
  {
   "cell_type": "markdown",
   "id": "3dfc8567-f02f-4b2e-80c2-224dfa5e467f",
   "metadata": {},
   "source": [
    "On incorpore les données du traitement manuel dans notre dataframe  :"
   ]
  },
  {
   "cell_type": "code",
   "execution_count": 64,
   "id": "0e0f2424-dc9a-41fd-9fa2-61e63b2095f2",
   "metadata": {},
   "outputs": [],
   "source": [
    "df_complete = df_corrected.merge(\n",
    "    df_from_excel.loc[:, ['NCTId', 'pmid', 'type_de_publication']],\n",
    "    on=['NCTId', 'pmid'],\n",
    "    how='left',\n",
    "    validate='one_to_one',\n",
    ")"
   ]
  },
  {
   "cell_type": "code",
   "execution_count": 65,
   "id": "29ad60a6-4679-4d77-ad04-5d0d0414f868",
   "metadata": {},
   "outputs": [
    {
     "data": {
      "text/html": [
       "<div>\n",
       "<style scoped>\n",
       "    .dataframe tbody tr th:only-of-type {\n",
       "        vertical-align: middle;\n",
       "    }\n",
       "\n",
       "    .dataframe tbody tr th {\n",
       "        vertical-align: top;\n",
       "    }\n",
       "\n",
       "    .dataframe thead th {\n",
       "        text-align: right;\n",
       "    }\n",
       "</style>\n",
       "<table border=\"1\" class=\"dataframe\">\n",
       "  <thead>\n",
       "    <tr style=\"text-align: right;\">\n",
       "      <th></th>\n",
       "      <th>NCTId</th>\n",
       "      <th>pmid</th>\n",
       "      <th>type</th>\n",
       "      <th>type_de_publication</th>\n",
       "    </tr>\n",
       "  </thead>\n",
       "  <tbody>\n",
       "    <tr>\n",
       "      <th>0</th>\n",
       "      <td>NCT02592174</td>\n",
       "      <td>31755936</td>\n",
       "      <td>DERIVED</td>\n",
       "      <td>publication</td>\n",
       "    </tr>\n",
       "    <tr>\n",
       "      <th>1</th>\n",
       "      <td>NCT02273765</td>\n",
       "      <td>33667406</td>\n",
       "      <td>DERIVED</td>\n",
       "      <td>publication</td>\n",
       "    </tr>\n",
       "    <tr>\n",
       "      <th>2</th>\n",
       "      <td>NCT05311865</td>\n",
       "      <td>36438274</td>\n",
       "      <td>PUBMED</td>\n",
       "      <td>protocole</td>\n",
       "    </tr>\n",
       "    <tr>\n",
       "      <th>3</th>\n",
       "      <td>NCT05311865</td>\n",
       "      <td>37795682</td>\n",
       "      <td>PUBMED</td>\n",
       "      <td>publication</td>\n",
       "    </tr>\n",
       "    <tr>\n",
       "      <th>4</th>\n",
       "      <td>NCT02107365</td>\n",
       "      <td>&lt;NA&gt;</td>\n",
       "      <td>NaN</td>\n",
       "      <td>NaN</td>\n",
       "    </tr>\n",
       "    <tr>\n",
       "      <th>...</th>\n",
       "      <td>...</td>\n",
       "      <td>...</td>\n",
       "      <td>...</td>\n",
       "      <td>...</td>\n",
       "    </tr>\n",
       "    <tr>\n",
       "      <th>495</th>\n",
       "      <td>NCT02481453</td>\n",
       "      <td>20413309</td>\n",
       "      <td>BACKGROUND</td>\n",
       "      <td>background</td>\n",
       "    </tr>\n",
       "    <tr>\n",
       "      <th>496</th>\n",
       "      <td>NCT02481453</td>\n",
       "      <td>24975859</td>\n",
       "      <td>BACKGROUND</td>\n",
       "      <td>background</td>\n",
       "    </tr>\n",
       "    <tr>\n",
       "      <th>497</th>\n",
       "      <td>NCT02481453</td>\n",
       "      <td>38273639</td>\n",
       "      <td>PUBMED</td>\n",
       "      <td>résultat négatif</td>\n",
       "    </tr>\n",
       "    <tr>\n",
       "      <th>498</th>\n",
       "      <td>NCT02658253</td>\n",
       "      <td>33717176</td>\n",
       "      <td>DERIVED</td>\n",
       "      <td>publication</td>\n",
       "    </tr>\n",
       "    <tr>\n",
       "      <th>499</th>\n",
       "      <td>NCT02658253</td>\n",
       "      <td>32032566</td>\n",
       "      <td>DERIVED</td>\n",
       "      <td>publication</td>\n",
       "    </tr>\n",
       "  </tbody>\n",
       "</table>\n",
       "<p>500 rows × 4 columns</p>\n",
       "</div>"
      ],
      "text/plain": [
       "           NCTId      pmid        type type_de_publication\n",
       "0    NCT02592174  31755936     DERIVED         publication\n",
       "1    NCT02273765  33667406     DERIVED         publication\n",
       "2    NCT05311865  36438274      PUBMED           protocole\n",
       "3    NCT05311865  37795682      PUBMED         publication\n",
       "4    NCT02107365      <NA>         NaN                 NaN\n",
       "..           ...       ...         ...                 ...\n",
       "495  NCT02481453  20413309  BACKGROUND          background\n",
       "496  NCT02481453  24975859  BACKGROUND          background\n",
       "497  NCT02481453  38273639      PUBMED    résultat négatif\n",
       "498  NCT02658253  33717176     DERIVED         publication\n",
       "499  NCT02658253  32032566     DERIVED         publication\n",
       "\n",
       "[500 rows x 4 columns]"
      ]
     },
     "execution_count": 65,
     "metadata": {},
     "output_type": "execute_result"
    }
   ],
   "source": [
    "df_complete.loc[:, ['NCTId', 'pmid', 'type', 'type_de_publication']]"
   ]
  },
  {
   "cell_type": "code",
   "execution_count": null,
   "id": "47f3d323-9a60-408f-8640-f37ecca0dd3c",
   "metadata": {},
   "outputs": [],
   "source": []
  },
  {
   "cell_type": "markdown",
   "id": "bb7be8c2-03ad-4794-a0bc-9b911713e38d",
   "metadata": {},
   "source": [
    "Pour chaque étude clinique, on cherche à savoir si elle a donné lieu a la publication d'un résultat.  \n",
    "Donc pour chaque 'type_de_publication' issu du traitement manuel, on le répartit dans l'une des deux catégories :\n",
    "\n",
    "- Résultat :\n",
    "    + publication\n",
    "    + résultat négatif\n",
    "    + méta-analyse\n",
    "- Non Résultat:\n",
    "    + background\n",
    "    + protocole\n",
    "    + autre (commentaire, lettre, erratum...)\n"
   ]
  },
  {
   "cell_type": "code",
   "execution_count": 66,
   "id": "66f8f913-2168-4246-aad9-5b81d6b05aac",
   "metadata": {},
   "outputs": [],
   "source": [
    "mask_is_result = df_complete.loc[:, 'type_de_publication'].isin(['publication', 'résultat négatif', 'méta-analyse'])\n",
    "df_complete.loc[mask_is_result, 'is_result'] = True\n",
    "\n",
    "mask_not_result = df_complete.loc[:, 'type_de_publication'].isin(['background', 'protocole', 'autre'])\n",
    "df_complete.loc[mask_not_result, 'is_result'] = False\n",
    "\n",
    "df_complete['is_result'] = df_complete['is_result'].astype('boolean')"
   ]
  },
  {
   "cell_type": "code",
   "execution_count": 187,
   "id": "30075d11-028b-4346-addc-3646bbc70f67",
   "metadata": {},
   "outputs": [
    {
     "data": {
      "text/html": [
       "<div>\n",
       "<style scoped>\n",
       "    .dataframe tbody tr th:only-of-type {\n",
       "        vertical-align: middle;\n",
       "    }\n",
       "\n",
       "    .dataframe tbody tr th {\n",
       "        vertical-align: top;\n",
       "    }\n",
       "\n",
       "    .dataframe thead th {\n",
       "        text-align: right;\n",
       "    }\n",
       "</style>\n",
       "<table border=\"1\" class=\"dataframe\">\n",
       "  <thead>\n",
       "    <tr style=\"text-align: right;\">\n",
       "      <th></th>\n",
       "      <th>NCTId</th>\n",
       "      <th>type_de_publication</th>\n",
       "      <th>is_result</th>\n",
       "    </tr>\n",
       "  </thead>\n",
       "  <tbody>\n",
       "    <tr>\n",
       "      <th>0</th>\n",
       "      <td>NCT02592174</td>\n",
       "      <td>publication</td>\n",
       "      <td>True</td>\n",
       "    </tr>\n",
       "    <tr>\n",
       "      <th>1</th>\n",
       "      <td>NCT02273765</td>\n",
       "      <td>publication</td>\n",
       "      <td>True</td>\n",
       "    </tr>\n",
       "    <tr>\n",
       "      <th>2</th>\n",
       "      <td>NCT05311865</td>\n",
       "      <td>protocole</td>\n",
       "      <td>False</td>\n",
       "    </tr>\n",
       "    <tr>\n",
       "      <th>3</th>\n",
       "      <td>NCT05311865</td>\n",
       "      <td>publication</td>\n",
       "      <td>True</td>\n",
       "    </tr>\n",
       "    <tr>\n",
       "      <th>4</th>\n",
       "      <td>NCT02107365</td>\n",
       "      <td>NaN</td>\n",
       "      <td>&lt;NA&gt;</td>\n",
       "    </tr>\n",
       "    <tr>\n",
       "      <th>...</th>\n",
       "      <td>...</td>\n",
       "      <td>...</td>\n",
       "      <td>...</td>\n",
       "    </tr>\n",
       "    <tr>\n",
       "      <th>495</th>\n",
       "      <td>NCT02481453</td>\n",
       "      <td>background</td>\n",
       "      <td>False</td>\n",
       "    </tr>\n",
       "    <tr>\n",
       "      <th>496</th>\n",
       "      <td>NCT02481453</td>\n",
       "      <td>background</td>\n",
       "      <td>False</td>\n",
       "    </tr>\n",
       "    <tr>\n",
       "      <th>497</th>\n",
       "      <td>NCT02481453</td>\n",
       "      <td>résultat négatif</td>\n",
       "      <td>True</td>\n",
       "    </tr>\n",
       "    <tr>\n",
       "      <th>498</th>\n",
       "      <td>NCT02658253</td>\n",
       "      <td>publication</td>\n",
       "      <td>True</td>\n",
       "    </tr>\n",
       "    <tr>\n",
       "      <th>499</th>\n",
       "      <td>NCT02658253</td>\n",
       "      <td>publication</td>\n",
       "      <td>True</td>\n",
       "    </tr>\n",
       "  </tbody>\n",
       "</table>\n",
       "<p>500 rows × 3 columns</p>\n",
       "</div>"
      ],
      "text/plain": [
       "           NCTId type_de_publication  is_result\n",
       "0    NCT02592174         publication       True\n",
       "1    NCT02273765         publication       True\n",
       "2    NCT05311865           protocole      False\n",
       "3    NCT05311865         publication       True\n",
       "4    NCT02107365                 NaN       <NA>\n",
       "..           ...                 ...        ...\n",
       "495  NCT02481453          background      False\n",
       "496  NCT02481453          background      False\n",
       "497  NCT02481453    résultat négatif       True\n",
       "498  NCT02658253         publication       True\n",
       "499  NCT02658253         publication       True\n",
       "\n",
       "[500 rows x 3 columns]"
      ]
     },
     "execution_count": 187,
     "metadata": {},
     "output_type": "execute_result"
    }
   ],
   "source": [
    "df_complete.loc[:, ['NCTId', 'type_de_publication', 'is_result']]"
   ]
  },
  {
   "cell_type": "code",
   "execution_count": 242,
   "id": "8a546f37-4b95-4224-81e2-da096fa9505b",
   "metadata": {},
   "outputs": [
    {
     "data": {
      "text/plain": [
       "is_result\n",
       "True     255\n",
       "False    139\n",
       "<NA>     106\n",
       "Name: count, dtype: Int64"
      ]
     },
     "execution_count": 242,
     "metadata": {},
     "output_type": "execute_result"
    }
   ],
   "source": [
    "df_complete.loc[:, 'is_result'].value_counts(dropna=False)"
   ]
  },
  {
   "cell_type": "code",
   "execution_count": null,
   "id": "1813a5ce-59a2-42cb-8aae-9d73e8e091d2",
   "metadata": {},
   "outputs": [],
   "source": []
  },
  {
   "cell_type": "markdown",
   "id": "d642a385-1093-4b65-8615-51bff0cab0d0",
   "metadata": {},
   "source": [
    "## Correlation entre le 'type' ClinicalTrial et le 'type' du traitement manuel :"
   ]
  },
  {
   "cell_type": "markdown",
   "id": "60aa62f5-8574-4250-8487-2f97abb04bb4",
   "metadata": {},
   "source": [
    "On cherche a comparer la correlation des types renvoyés par ClinicalTrial ('RESULT', 'BACKGROUND', ...) et les types déterminés à l'issu du traitement manuel ('publication', 'background' ...).  \n",
    "Est-ce que les résultats concordent ?  \n",
    "Si la correlation est très forte, peut-on se passer du traitement manuel et faire uniquement confiance aux types renvoyés par CT ? "
   ]
  },
  {
   "cell_type": "code",
   "execution_count": 12,
   "id": "31a94f84-e543-46e1-bc12-0eef98717ff5",
   "metadata": {},
   "outputs": [
    {
     "data": {
      "text/plain": [
       "type\n",
       "DERIVED       142\n",
       "BACKGROUND    110\n",
       "NaN           106\n",
       "RESULT         89\n",
       "PUBMED         31\n",
       "SUSPICIOUS     22\n",
       "Name: count, dtype: int64"
      ]
     },
     "execution_count": 12,
     "metadata": {},
     "output_type": "execute_result"
    }
   ],
   "source": [
    "df_complete.loc[:, 'type'].value_counts(dropna=False)"
   ]
  },
  {
   "cell_type": "code",
   "execution_count": 15,
   "id": "bc42e9da-c930-4834-860e-c1a7e38075d3",
   "metadata": {},
   "outputs": [
    {
     "data": {
      "text/plain": [
       "type_de_publication\n",
       "publication         233\n",
       "background          113\n",
       "NaN                 106\n",
       "protocole            19\n",
       "résultat négatif     17\n",
       "autre                 7\n",
       "méta-analyse          5\n",
       "Name: count, dtype: int64"
      ]
     },
     "execution_count": 15,
     "metadata": {},
     "output_type": "execute_result"
    }
   ],
   "source": [
    "df_complete.loc[:, 'type_de_publication'].value_counts(dropna=False)"
   ]
  },
  {
   "cell_type": "code",
   "execution_count": 18,
   "id": "dc989e96-380d-4a9c-b5d5-5db6c296a0a6",
   "metadata": {},
   "outputs": [
    {
     "data": {
      "text/html": [
       "<div>\n",
       "<style scoped>\n",
       "    .dataframe tbody tr th:only-of-type {\n",
       "        vertical-align: middle;\n",
       "    }\n",
       "\n",
       "    .dataframe tbody tr th {\n",
       "        vertical-align: top;\n",
       "    }\n",
       "\n",
       "    .dataframe thead th {\n",
       "        text-align: right;\n",
       "    }\n",
       "</style>\n",
       "<table border=\"1\" class=\"dataframe\">\n",
       "  <thead>\n",
       "    <tr style=\"text-align: right;\">\n",
       "      <th></th>\n",
       "      <th>type</th>\n",
       "      <th>type_de_publication</th>\n",
       "    </tr>\n",
       "  </thead>\n",
       "  <tbody>\n",
       "    <tr>\n",
       "      <th>0</th>\n",
       "      <td>DERIVED</td>\n",
       "      <td>publication</td>\n",
       "    </tr>\n",
       "    <tr>\n",
       "      <th>1</th>\n",
       "      <td>DERIVED</td>\n",
       "      <td>publication</td>\n",
       "    </tr>\n",
       "    <tr>\n",
       "      <th>2</th>\n",
       "      <td>PUBMED</td>\n",
       "      <td>protocole</td>\n",
       "    </tr>\n",
       "    <tr>\n",
       "      <th>3</th>\n",
       "      <td>PUBMED</td>\n",
       "      <td>publication</td>\n",
       "    </tr>\n",
       "    <tr>\n",
       "      <th>4</th>\n",
       "      <td>NaN</td>\n",
       "      <td>NaN</td>\n",
       "    </tr>\n",
       "    <tr>\n",
       "      <th>...</th>\n",
       "      <td>...</td>\n",
       "      <td>...</td>\n",
       "    </tr>\n",
       "    <tr>\n",
       "      <th>495</th>\n",
       "      <td>BACKGROUND</td>\n",
       "      <td>background</td>\n",
       "    </tr>\n",
       "    <tr>\n",
       "      <th>496</th>\n",
       "      <td>BACKGROUND</td>\n",
       "      <td>background</td>\n",
       "    </tr>\n",
       "    <tr>\n",
       "      <th>497</th>\n",
       "      <td>PUBMED</td>\n",
       "      <td>résultat négatif</td>\n",
       "    </tr>\n",
       "    <tr>\n",
       "      <th>498</th>\n",
       "      <td>DERIVED</td>\n",
       "      <td>publication</td>\n",
       "    </tr>\n",
       "    <tr>\n",
       "      <th>499</th>\n",
       "      <td>DERIVED</td>\n",
       "      <td>publication</td>\n",
       "    </tr>\n",
       "  </tbody>\n",
       "</table>\n",
       "<p>500 rows × 2 columns</p>\n",
       "</div>"
      ],
      "text/plain": [
       "           type type_de_publication\n",
       "0       DERIVED         publication\n",
       "1       DERIVED         publication\n",
       "2        PUBMED           protocole\n",
       "3        PUBMED         publication\n",
       "4           NaN                 NaN\n",
       "..          ...                 ...\n",
       "495  BACKGROUND          background\n",
       "496  BACKGROUND          background\n",
       "497      PUBMED    résultat négatif\n",
       "498     DERIVED         publication\n",
       "499     DERIVED         publication\n",
       "\n",
       "[500 rows x 2 columns]"
      ]
     },
     "execution_count": 18,
     "metadata": {},
     "output_type": "execute_result"
    }
   ],
   "source": [
    "df_complete.loc[:, ['type','type_de_publication']]"
   ]
  },
  {
   "cell_type": "markdown",
   "id": "c2b2e9d0-4ae4-49c6-86b3-0911ec373e46",
   "metadata": {},
   "source": [
    "### Pivot tables :"
   ]
  },
  {
   "cell_type": "code",
   "execution_count": 20,
   "id": "58366c5a-c58d-4b39-a817-39dccbda5617",
   "metadata": {},
   "outputs": [
    {
     "data": {
      "text/html": [
       "<div>\n",
       "<style scoped>\n",
       "    .dataframe tbody tr th:only-of-type {\n",
       "        vertical-align: middle;\n",
       "    }\n",
       "\n",
       "    .dataframe tbody tr th {\n",
       "        vertical-align: top;\n",
       "    }\n",
       "\n",
       "    .dataframe thead th {\n",
       "        text-align: right;\n",
       "    }\n",
       "</style>\n",
       "<table border=\"1\" class=\"dataframe\">\n",
       "  <thead>\n",
       "    <tr style=\"text-align: right;\">\n",
       "      <th>type</th>\n",
       "      <th>BACKGROUND</th>\n",
       "      <th>DERIVED</th>\n",
       "      <th>PUBMED</th>\n",
       "      <th>RESULT</th>\n",
       "      <th>SUSPICIOUS</th>\n",
       "    </tr>\n",
       "    <tr>\n",
       "      <th>type_de_publication</th>\n",
       "      <th></th>\n",
       "      <th></th>\n",
       "      <th></th>\n",
       "      <th></th>\n",
       "      <th></th>\n",
       "    </tr>\n",
       "  </thead>\n",
       "  <tbody>\n",
       "    <tr>\n",
       "      <th>autre</th>\n",
       "      <td>2</td>\n",
       "      <td>2</td>\n",
       "      <td>0</td>\n",
       "      <td>3</td>\n",
       "      <td>0</td>\n",
       "    </tr>\n",
       "    <tr>\n",
       "      <th>background</th>\n",
       "      <td>88</td>\n",
       "      <td>1</td>\n",
       "      <td>0</td>\n",
       "      <td>3</td>\n",
       "      <td>21</td>\n",
       "    </tr>\n",
       "    <tr>\n",
       "      <th>méta-analyse</th>\n",
       "      <td>1</td>\n",
       "      <td>3</td>\n",
       "      <td>1</td>\n",
       "      <td>0</td>\n",
       "      <td>0</td>\n",
       "    </tr>\n",
       "    <tr>\n",
       "      <th>protocole</th>\n",
       "      <td>6</td>\n",
       "      <td>12</td>\n",
       "      <td>1</td>\n",
       "      <td>0</td>\n",
       "      <td>0</td>\n",
       "    </tr>\n",
       "    <tr>\n",
       "      <th>publication</th>\n",
       "      <td>13</td>\n",
       "      <td>110</td>\n",
       "      <td>27</td>\n",
       "      <td>82</td>\n",
       "      <td>1</td>\n",
       "    </tr>\n",
       "    <tr>\n",
       "      <th>résultat négatif</th>\n",
       "      <td>0</td>\n",
       "      <td>14</td>\n",
       "      <td>2</td>\n",
       "      <td>1</td>\n",
       "      <td>0</td>\n",
       "    </tr>\n",
       "  </tbody>\n",
       "</table>\n",
       "</div>"
      ],
      "text/plain": [
       "type                 BACKGROUND  DERIVED  PUBMED  RESULT  SUSPICIOUS\n",
       "type_de_publication                                                 \n",
       "autre                         2        2       0       3           0\n",
       "background                   88        1       0       3          21\n",
       "méta-analyse                  1        3       1       0           0\n",
       "protocole                     6       12       1       0           0\n",
       "publication                  13      110      27      82           1\n",
       "résultat négatif              0       14       2       1           0"
      ]
     },
     "execution_count": 20,
     "metadata": {},
     "output_type": "execute_result"
    }
   ],
   "source": [
    "df_correlation = pd.pivot_table(\n",
    "    df_complete,\n",
    "    index='type_de_publication',\n",
    "    columns='type',\n",
    "    aggfunc='size',\n",
    "    observed=False,\n",
    ")\n",
    "df_correlation"
   ]
  },
  {
   "cell_type": "code",
   "execution_count": 24,
   "id": "86eca84f-9fa1-4e76-ab7a-3cee07673bf8",
   "metadata": {},
   "outputs": [
    {
     "data": {
      "text/html": [
       "<div>\n",
       "<style scoped>\n",
       "    .dataframe tbody tr th:only-of-type {\n",
       "        vertical-align: middle;\n",
       "    }\n",
       "\n",
       "    .dataframe tbody tr th {\n",
       "        vertical-align: top;\n",
       "    }\n",
       "\n",
       "    .dataframe thead th {\n",
       "        text-align: right;\n",
       "    }\n",
       "</style>\n",
       "<table border=\"1\" class=\"dataframe\">\n",
       "  <thead>\n",
       "    <tr style=\"text-align: right;\">\n",
       "      <th>type</th>\n",
       "      <th>BACKGROUND</th>\n",
       "      <th>DERIVED</th>\n",
       "      <th>PUBMED</th>\n",
       "      <th>RESULT</th>\n",
       "      <th>SUSPICIOUS</th>\n",
       "    </tr>\n",
       "    <tr>\n",
       "      <th>type_de_publication</th>\n",
       "      <th></th>\n",
       "      <th></th>\n",
       "      <th></th>\n",
       "      <th></th>\n",
       "      <th></th>\n",
       "    </tr>\n",
       "  </thead>\n",
       "  <tbody>\n",
       "    <tr>\n",
       "      <th>autre</th>\n",
       "      <td>0.018182</td>\n",
       "      <td>0.014085</td>\n",
       "      <td>0.000000</td>\n",
       "      <td>0.033708</td>\n",
       "      <td>0.000000</td>\n",
       "    </tr>\n",
       "    <tr>\n",
       "      <th>background</th>\n",
       "      <td>0.800000</td>\n",
       "      <td>0.007042</td>\n",
       "      <td>0.000000</td>\n",
       "      <td>0.033708</td>\n",
       "      <td>0.954545</td>\n",
       "    </tr>\n",
       "    <tr>\n",
       "      <th>méta-analyse</th>\n",
       "      <td>0.009091</td>\n",
       "      <td>0.021127</td>\n",
       "      <td>0.032258</td>\n",
       "      <td>0.000000</td>\n",
       "      <td>0.000000</td>\n",
       "    </tr>\n",
       "    <tr>\n",
       "      <th>protocole</th>\n",
       "      <td>0.054545</td>\n",
       "      <td>0.084507</td>\n",
       "      <td>0.032258</td>\n",
       "      <td>0.000000</td>\n",
       "      <td>0.000000</td>\n",
       "    </tr>\n",
       "    <tr>\n",
       "      <th>publication</th>\n",
       "      <td>0.118182</td>\n",
       "      <td>0.774648</td>\n",
       "      <td>0.870968</td>\n",
       "      <td>0.921348</td>\n",
       "      <td>0.045455</td>\n",
       "    </tr>\n",
       "    <tr>\n",
       "      <th>résultat négatif</th>\n",
       "      <td>0.000000</td>\n",
       "      <td>0.098592</td>\n",
       "      <td>0.064516</td>\n",
       "      <td>0.011236</td>\n",
       "      <td>0.000000</td>\n",
       "    </tr>\n",
       "  </tbody>\n",
       "</table>\n",
       "</div>"
      ],
      "text/plain": [
       "type                 BACKGROUND   DERIVED    PUBMED    RESULT  SUSPICIOUS\n",
       "type_de_publication                                                      \n",
       "autre                  0.018182  0.014085  0.000000  0.033708    0.000000\n",
       "background             0.800000  0.007042  0.000000  0.033708    0.954545\n",
       "méta-analyse           0.009091  0.021127  0.032258  0.000000    0.000000\n",
       "protocole              0.054545  0.084507  0.032258  0.000000    0.000000\n",
       "publication            0.118182  0.774648  0.870968  0.921348    0.045455\n",
       "résultat négatif       0.000000  0.098592  0.064516  0.011236    0.000000"
      ]
     },
     "execution_count": 24,
     "metadata": {},
     "output_type": "execute_result"
    }
   ],
   "source": [
    "df_correlation_perc = pd.crosstab(\n",
    "    index = df_complete.loc[:,'type_de_publication'],\n",
    "    columns= df_corrected.loc[:,'type'],\n",
    "    normalize= 'columns',\n",
    "    # aggfunc='size',\n",
    "    # fill_value=0,\n",
    "    # observed=False,\n",
    ")\n",
    "df_correlation_perc"
   ]
  },
  {
   "cell_type": "markdown",
   "id": "0e9514e0-b5fc-4fe6-899c-ab18468dc096",
   "metadata": {},
   "source": [
    "### Heatmaps :"
   ]
  },
  {
   "cell_type": "markdown",
   "id": "07fc611a-5c4b-4fad-8098-2532233f1a9a",
   "metadata": {},
   "source": [
    "#### Effectifs :"
   ]
  },
  {
   "cell_type": "code",
   "execution_count": 26,
   "id": "90888731-1f6a-450b-8b2b-99a9b0eb8cc4",
   "metadata": {},
   "outputs": [
    {
     "data": {
      "text/plain": [
       "<Axes: xlabel='type', ylabel='type_de_publication'>"
      ]
     },
     "execution_count": 26,
     "metadata": {},
     "output_type": "execute_result"
    },
    {
     "data": {
      "image/png": "[encoded data removed]",
      "text/plain": [
       "<Figure size 640x480 with 2 Axes>"
      ]
     },
     "metadata": {},
     "output_type": "display_data"
    }
   ],
   "source": [
    "sns.heatmap(\n",
    "    df_correlation, \n",
    "    annot =True,\n",
    "    linewidth=.4,\n",
    "    fmt='d'\n",
    ")"
   ]
  },
  {
   "cell_type": "markdown",
   "id": "02f6c6b1-e3c8-4388-af87-29efcc8f4447",
   "metadata": {},
   "source": [
    "#### Pourcentages :"
   ]
  },
  {
   "cell_type": "code",
   "execution_count": 27,
   "id": "c27f3827-bc72-4904-b3b7-7d92c9d9212c",
   "metadata": {},
   "outputs": [
    {
     "data": {
      "text/plain": [
       "<Axes: xlabel='type', ylabel='type_de_publication'>"
      ]
     },
     "execution_count": 27,
     "metadata": {},
     "output_type": "execute_result"
    },
    {
     "data": {
      "image/png": "[encoded data removed]",
      "text/plain": [
       "<Figure size 640x480 with 2 Axes>"
      ]
     },
     "metadata": {},
     "output_type": "display_data"
    }
   ],
   "source": [
    "sns.heatmap(\n",
    "    df_correlation_perc, \n",
    "    annot=True,\n",
    "    linewidth=.4,\n",
    ")"
   ]
  },
  {
   "cell_type": "markdown",
   "id": "d4aab448-d7b9-4cee-9abb-eeae87e53b92",
   "metadata": {},
   "source": [
    "Les 'types' où la correlation est la plus faible sont malheuresement les types où l'effectif est le plus important."
   ]
  },
  {
   "cell_type": "markdown",
   "id": "d87e806a-3ac5-4003-aad1-9c38e4c32137",
   "metadata": {},
   "source": [
    "## Correlation entre le 'type' ClinicalTrial et 'is_result' du traitement manuel :"
   ]
  },
  {
   "cell_type": "code",
   "execution_count": 316,
   "id": "a3d8ab0e-a8ab-4abb-be33-13ff787cb503",
   "metadata": {},
   "outputs": [
    {
     "data": {
      "text/html": [
       "<div>\n",
       "<style scoped>\n",
       "    .dataframe tbody tr th:only-of-type {\n",
       "        vertical-align: middle;\n",
       "    }\n",
       "\n",
       "    .dataframe tbody tr th {\n",
       "        vertical-align: top;\n",
       "    }\n",
       "\n",
       "    .dataframe thead th {\n",
       "        text-align: right;\n",
       "    }\n",
       "</style>\n",
       "<table border=\"1\" class=\"dataframe\">\n",
       "  <thead>\n",
       "    <tr style=\"text-align: right;\">\n",
       "      <th></th>\n",
       "      <th>type</th>\n",
       "      <th>is_result</th>\n",
       "    </tr>\n",
       "  </thead>\n",
       "  <tbody>\n",
       "    <tr>\n",
       "      <th>0</th>\n",
       "      <td>DERIVED</td>\n",
       "      <td>True</td>\n",
       "    </tr>\n",
       "    <tr>\n",
       "      <th>1</th>\n",
       "      <td>DERIVED</td>\n",
       "      <td>True</td>\n",
       "    </tr>\n",
       "    <tr>\n",
       "      <th>2</th>\n",
       "      <td>PUBMED</td>\n",
       "      <td>False</td>\n",
       "    </tr>\n",
       "    <tr>\n",
       "      <th>3</th>\n",
       "      <td>PUBMED</td>\n",
       "      <td>True</td>\n",
       "    </tr>\n",
       "    <tr>\n",
       "      <th>4</th>\n",
       "      <td>NaN</td>\n",
       "      <td>&lt;NA&gt;</td>\n",
       "    </tr>\n",
       "    <tr>\n",
       "      <th>...</th>\n",
       "      <td>...</td>\n",
       "      <td>...</td>\n",
       "    </tr>\n",
       "    <tr>\n",
       "      <th>495</th>\n",
       "      <td>BACKGROUND</td>\n",
       "      <td>False</td>\n",
       "    </tr>\n",
       "    <tr>\n",
       "      <th>496</th>\n",
       "      <td>BACKGROUND</td>\n",
       "      <td>False</td>\n",
       "    </tr>\n",
       "    <tr>\n",
       "      <th>497</th>\n",
       "      <td>PUBMED</td>\n",
       "      <td>True</td>\n",
       "    </tr>\n",
       "    <tr>\n",
       "      <th>498</th>\n",
       "      <td>DERIVED</td>\n",
       "      <td>True</td>\n",
       "    </tr>\n",
       "    <tr>\n",
       "      <th>499</th>\n",
       "      <td>DERIVED</td>\n",
       "      <td>True</td>\n",
       "    </tr>\n",
       "  </tbody>\n",
       "</table>\n",
       "<p>500 rows × 2 columns</p>\n",
       "</div>"
      ],
      "text/plain": [
       "           type  is_result\n",
       "0       DERIVED       True\n",
       "1       DERIVED       True\n",
       "2        PUBMED      False\n",
       "3        PUBMED       True\n",
       "4           NaN       <NA>\n",
       "..          ...        ...\n",
       "495  BACKGROUND      False\n",
       "496  BACKGROUND      False\n",
       "497      PUBMED       True\n",
       "498     DERIVED       True\n",
       "499     DERIVED       True\n",
       "\n",
       "[500 rows x 2 columns]"
      ]
     },
     "execution_count": 316,
     "metadata": {},
     "output_type": "execute_result"
    }
   ],
   "source": [
    "df_complete.loc[:, ['type','is_result']]"
   ]
  },
  {
   "cell_type": "markdown",
   "id": "b2a05c0d-0053-4eda-a71d-b2229ddd0224",
   "metadata": {},
   "source": [
    "### Pivot tables :"
   ]
  },
  {
   "cell_type": "code",
   "execution_count": 318,
   "id": "9d87cedc-a001-454e-b385-07d1a68ba272",
   "metadata": {},
   "outputs": [
    {
     "data": {
      "text/html": [
       "<div>\n",
       "<style scoped>\n",
       "    .dataframe tbody tr th:only-of-type {\n",
       "        vertical-align: middle;\n",
       "    }\n",
       "\n",
       "    .dataframe tbody tr th {\n",
       "        vertical-align: top;\n",
       "    }\n",
       "\n",
       "    .dataframe thead th {\n",
       "        text-align: right;\n",
       "    }\n",
       "</style>\n",
       "<table border=\"1\" class=\"dataframe\">\n",
       "  <thead>\n",
       "    <tr style=\"text-align: right;\">\n",
       "      <th>type</th>\n",
       "      <th>BACKGROUND</th>\n",
       "      <th>DERIVED</th>\n",
       "      <th>PUBMED</th>\n",
       "      <th>RESULT</th>\n",
       "      <th>SUSPICIOUS</th>\n",
       "    </tr>\n",
       "    <tr>\n",
       "      <th>is_result</th>\n",
       "      <th></th>\n",
       "      <th></th>\n",
       "      <th></th>\n",
       "      <th></th>\n",
       "      <th></th>\n",
       "    </tr>\n",
       "  </thead>\n",
       "  <tbody>\n",
       "    <tr>\n",
       "      <th>False</th>\n",
       "      <td>96</td>\n",
       "      <td>15</td>\n",
       "      <td>1</td>\n",
       "      <td>6</td>\n",
       "      <td>21</td>\n",
       "    </tr>\n",
       "    <tr>\n",
       "      <th>True</th>\n",
       "      <td>14</td>\n",
       "      <td>127</td>\n",
       "      <td>30</td>\n",
       "      <td>83</td>\n",
       "      <td>1</td>\n",
       "    </tr>\n",
       "  </tbody>\n",
       "</table>\n",
       "</div>"
      ],
      "text/plain": [
       "type       BACKGROUND  DERIVED  PUBMED  RESULT  SUSPICIOUS\n",
       "is_result                                                 \n",
       "False              96       15       1       6          21\n",
       "True               14      127      30      83           1"
      ]
     },
     "execution_count": 318,
     "metadata": {},
     "output_type": "execute_result"
    }
   ],
   "source": [
    "df_correlation_result = pd.pivot_table(\n",
    "    df_complete,\n",
    "    index='is_result',\n",
    "    columns='type',\n",
    "    aggfunc='size',\n",
    "    observed=False,\n",
    ")\n",
    "df_correlation_result"
   ]
  },
  {
   "cell_type": "code",
   "execution_count": 319,
   "id": "1a1f5181-1117-488e-84da-cafc88b10ce1",
   "metadata": {},
   "outputs": [
    {
     "data": {
      "text/html": [
       "<div>\n",
       "<style scoped>\n",
       "    .dataframe tbody tr th:only-of-type {\n",
       "        vertical-align: middle;\n",
       "    }\n",
       "\n",
       "    .dataframe tbody tr th {\n",
       "        vertical-align: top;\n",
       "    }\n",
       "\n",
       "    .dataframe thead th {\n",
       "        text-align: right;\n",
       "    }\n",
       "</style>\n",
       "<table border=\"1\" class=\"dataframe\">\n",
       "  <thead>\n",
       "    <tr style=\"text-align: right;\">\n",
       "      <th>type</th>\n",
       "      <th>BACKGROUND</th>\n",
       "      <th>DERIVED</th>\n",
       "      <th>PUBMED</th>\n",
       "      <th>RESULT</th>\n",
       "      <th>SUSPICIOUS</th>\n",
       "    </tr>\n",
       "    <tr>\n",
       "      <th>is_result</th>\n",
       "      <th></th>\n",
       "      <th></th>\n",
       "      <th></th>\n",
       "      <th></th>\n",
       "      <th></th>\n",
       "    </tr>\n",
       "  </thead>\n",
       "  <tbody>\n",
       "    <tr>\n",
       "      <th>False</th>\n",
       "      <td>0.872727</td>\n",
       "      <td>0.105634</td>\n",
       "      <td>0.032258</td>\n",
       "      <td>0.067416</td>\n",
       "      <td>0.954545</td>\n",
       "    </tr>\n",
       "    <tr>\n",
       "      <th>True</th>\n",
       "      <td>0.127273</td>\n",
       "      <td>0.894366</td>\n",
       "      <td>0.967742</td>\n",
       "      <td>0.932584</td>\n",
       "      <td>0.045455</td>\n",
       "    </tr>\n",
       "  </tbody>\n",
       "</table>\n",
       "</div>"
      ],
      "text/plain": [
       "type       BACKGROUND   DERIVED    PUBMED    RESULT  SUSPICIOUS\n",
       "is_result                                                      \n",
       "False        0.872727  0.105634  0.032258  0.067416    0.954545\n",
       "True         0.127273  0.894366  0.967742  0.932584    0.045455"
      ]
     },
     "execution_count": 319,
     "metadata": {},
     "output_type": "execute_result"
    }
   ],
   "source": [
    "df_correlation_result_perc = pd.crosstab(\n",
    "    index = df_complete.loc[:, 'is_result'],\n",
    "    columns= df_corrected.loc[:,'type'],\n",
    "    normalize= 'columns',\n",
    "    # aggfunc='size',\n",
    "    # fill_value=0,\n",
    "    # observed=False,\n",
    ")\n",
    "df_correlation_result_perc"
   ]
  },
  {
   "cell_type": "markdown",
   "id": "bc09010a-20e1-4385-bf09-936f3ac563cf",
   "metadata": {},
   "source": [
    "### Heatmaps :"
   ]
  },
  {
   "cell_type": "markdown",
   "id": "9fcdbecd-936d-447e-a98f-8a102649e114",
   "metadata": {},
   "source": [
    "#### Effectifs :"
   ]
  },
  {
   "cell_type": "code",
   "execution_count": 320,
   "id": "7fd5191b-f860-4114-839b-57d2c06e3c16",
   "metadata": {},
   "outputs": [
    {
     "data": {
      "text/plain": [
       "<Axes: xlabel='type', ylabel='is_result'>"
      ]
     },
     "execution_count": 320,
     "metadata": {},
     "output_type": "execute_result"
    },
    {
     "data": {
      "image/png": "[encoded data removed]",
      "text/plain": [
       "<Figure size 640x480 with 2 Axes>"
      ]
     },
     "metadata": {},
     "output_type": "display_data"
    }
   ],
   "source": [
    "sns.heatmap(\n",
    "    df_correlation_result, \n",
    "    annot =True,\n",
    "    linewidth=.4,\n",
    "    fmt='d'\n",
    ")"
   ]
  },
  {
   "cell_type": "markdown",
   "id": "8a9b4ae0-af67-4b38-82b3-e05ed046a471",
   "metadata": {},
   "source": [
    "#### Pourcentages :"
   ]
  },
  {
   "cell_type": "code",
   "execution_count": 321,
   "id": "e154b992-f670-46b1-8cc0-5d7d18514538",
   "metadata": {},
   "outputs": [
    {
     "data": {
      "text/plain": [
       "<Axes: xlabel='type', ylabel='is_result'>"
      ]
     },
     "execution_count": 321,
     "metadata": {},
     "output_type": "execute_result"
    },
    {
     "data": {
      "image/png": "[encoded data removed]",
      "text/plain": [
       "<Figure size 640x480 with 2 Axes>"
      ]
     },
     "metadata": {},
     "output_type": "display_data"
    }
   ],
   "source": [
    "sns.heatmap(\n",
    "    df_correlation_result_perc, \n",
    "    annot=True,\n",
    "    linewidth=.4,\n",
    ")"
   ]
  },
  {
   "cell_type": "markdown",
   "id": "8cc7701b-1f43-4d80-a981-12f69e5beac5",
   "metadata": {},
   "source": [
    "Les 'types' où la correlation est la plus faible sont malheuresement les types où l'effectif est le plus important."
   ]
  },
  {
   "cell_type": "code",
   "execution_count": null,
   "id": "432edbaa-f868-4734-b61d-7c42f966db31",
   "metadata": {},
   "outputs": [],
   "source": []
  },
  {
   "cell_type": "markdown",
   "id": "03c68a79-a12b-48e9-86a6-c41c7eed2374",
   "metadata": {},
   "source": [
    "## Date de fin d'étude antérieure à 2023 :"
   ]
  },
  {
   "cell_type": "markdown",
   "id": "2e8c702d-4674-4700-97b2-01b77041576a",
   "metadata": {},
   "source": [
    "Les essais terminés doivent normalement faire l'objet d’un dépôt des résultats de ces essais, dans les 12 mois au plus tard après\n",
    "la date de la fin d’étude et d’une publication dans les journaux.  \n",
    "Pour des données récoltées en 2024, on va donc se limiter aux essais terminés en 2022 et qui ont pu faire l'objet de publications en 2023."
   ]
  },
  {
   "cell_type": "markdown",
   "id": "18370a22-dd49-4af7-96fe-3c93c0b3e587",
   "metadata": {},
   "source": [
    "<span style=\"color:red\">**Mettre à jour la date si nécessaire**</span>"
   ]
  },
  {
   "cell_type": "code",
   "execution_count": 323,
   "id": "50b1fa47-2a0f-4448-a879-bb1c7d966d1c",
   "metadata": {},
   "outputs": [],
   "source": [
    "mask_date = df_complete['CompletionDate'].dt.year < 2023\n",
    "# df_complete.loc[mask_date, 'CompletionDate']"
   ]
  },
  {
   "cell_type": "code",
   "execution_count": 326,
   "id": "eb339587-a2f4-4bfc-ab18-3274638b95e4",
   "metadata": {},
   "outputs": [],
   "source": [
    "df_complete_date = df_complete.loc[mask_date]\n",
    "# df_complete_date"
   ]
  },
  {
   "cell_type": "code",
   "execution_count": null,
   "id": "c5e81a43-7564-410d-9dd8-77f93d0cf7f9",
   "metadata": {},
   "outputs": [],
   "source": []
  },
  {
   "cell_type": "markdown",
   "id": "d3f5e931-3bf1-4881-b72d-47978c02eec8",
   "metadata": {},
   "source": [
    "#### Nombre d'études cliniques:"
   ]
  },
  {
   "cell_type": "code",
   "execution_count": 327,
   "id": "815d2a05-8aeb-4394-9a70-aefb74aebdef",
   "metadata": {},
   "outputs": [
    {
     "data": {
      "text/plain": [
       "190"
      ]
     },
     "execution_count": 327,
     "metadata": {},
     "output_type": "execute_result"
    }
   ],
   "source": [
    "num_trials = len(df_complete_date.loc[:, 'NCTId'].unique())\n",
    "num_trials"
   ]
  },
  {
   "cell_type": "markdown",
   "id": "c5fc6a6e-4166-4052-8bb9-a497c6a29191",
   "metadata": {},
   "source": [
    "#### Nombre de publications :"
   ]
  },
  {
   "cell_type": "code",
   "execution_count": 328,
   "id": "f048d913-a46d-4702-9b95-cbcbe5b395b1",
   "metadata": {},
   "outputs": [
    {
     "data": {
      "text/plain": [
       "368"
      ]
     },
     "execution_count": 328,
     "metadata": {},
     "output_type": "execute_result"
    }
   ],
   "source": [
    "num_publications = df_complete_date.loc[:, 'pmid'].notna().sum()\n",
    "num_publications"
   ]
  },
  {
   "cell_type": "code",
   "execution_count": null,
   "id": "b792512d-bd21-4807-aa5e-5535e7c72e8c",
   "metadata": {},
   "outputs": [],
   "source": []
  },
  {
   "cell_type": "markdown",
   "id": "96bd59e5-813a-4785-a351-f5b7108544d1",
   "metadata": {},
   "source": [
    "#### Nombre d'études sans publications :"
   ]
  },
  {
   "cell_type": "code",
   "execution_count": 331,
   "id": "7adf2e9a-7dbc-487c-9705-4b459d769085",
   "metadata": {},
   "outputs": [
    {
     "name": "stdout",
     "output_type": "stream",
     "text": [
      "Nombre d'études sans publications:\n",
      "99 / 190 (52.11%)\n"
     ]
    }
   ],
   "source": [
    "num_trials_wo_pub = len(df_complete_date.loc[df_complete_date.loc[:, 'pmid'].isna(), 'NCTId'])\n",
    "print(\"Nombre d'études sans publications:\")\n",
    "print(f'{num_trials_wo_pub} / {num_trials} ({num_trials_wo_pub / num_trials:.2%})')"
   ]
  },
  {
   "cell_type": "markdown",
   "id": "9354c40a-3b04-4b24-b023-326525aef5d9",
   "metadata": {},
   "source": [
    "#### Nombre d'études avec publications :"
   ]
  },
  {
   "cell_type": "code",
   "execution_count": 340,
   "id": "9b81c3a4-7cb7-4be2-b2b5-7ec4dc558fa3",
   "metadata": {},
   "outputs": [
    {
     "name": "stdout",
     "output_type": "stream",
     "text": [
      "Nombre d'études avec au moins une publication :\n",
      "91 / 190 (47.89%)\n"
     ]
    }
   ],
   "source": [
    "num_trials_with_pub = len(\n",
    "    df_complete_date.loc[df_complete_date.loc[:, 'pmid'].notna(), 'NCTId'].unique()\n",
    ")\n",
    "print(\"Nombre d'études avec au moins une publication :\")\n",
    "print(f'{num_trials_with_pub} / {num_trials} ({num_trials_with_pub / num_trials:.2%})')"
   ]
  },
  {
   "cell_type": "code",
   "execution_count": null,
   "id": "b38c2ae9-bf2c-4cb5-8853-926c3929251e",
   "metadata": {},
   "outputs": [],
   "source": []
  },
  {
   "cell_type": "markdown",
   "id": "64bb2a5d-e531-4489-a067-b25c6ef00653",
   "metadata": {},
   "source": [
    "#### Nombre d'études avec au moins une publication de type 'Résultat' :"
   ]
  },
  {
   "cell_type": "code",
   "execution_count": 341,
   "id": "2bc2077b-a1fe-4f78-9ed9-46ddf034c322",
   "metadata": {},
   "outputs": [
    {
     "name": "stdout",
     "output_type": "stream",
     "text": [
      "Nombre d'études avec au moins une publication de type 'Résultat' :\n",
      "78 / 190 (41.05%)\n"
     ]
    }
   ],
   "source": [
    "# 'is_result' == True\n",
    "mask_is_result = df_complete_date.loc[:, 'is_result']\n",
    "num_trials_with_result = len(df_complete_date.loc[mask_is_result, 'NCTId'].unique())\n",
    "\n",
    "print(\"Nombre d'études avec au moins une publication de type 'Résultat' :\")\n",
    "print(f'{num_trials_with_result} / {num_trials} ({num_trials_with_result / num_trials:.2%})')"
   ]
  },
  {
   "cell_type": "markdown",
   "id": "00726e8b-1049-4f51-b8f5-353b22955f3f",
   "metadata": {},
   "source": [
    "#### Nombre d'études avec des publications, mais aucune de type 'Résultat' :"
   ]
  },
  {
   "cell_type": "code",
   "execution_count": 333,
   "id": "4ccd2e0a-3f5b-4c6a-b019-53a7ba1e4032",
   "metadata": {},
   "outputs": [
    {
     "name": "stdout",
     "output_type": "stream",
     "text": [
      "Nombre d'études avec des publications, mais aucune de type 'Résultat :\n",
      "13 / 190 (6.84%)\n"
     ]
    }
   ],
   "source": [
    "nctids = df_complete_date.loc[:, 'NCTId'].unique()\n",
    "\n",
    "# NCTIDs with publications, but none of their publications are of type result\n",
    "# (eq. for which all 'is_result' are False)\n",
    "res = []\n",
    "for nctid in nctids:\n",
    "    mask = df_complete_date.loc[:, 'NCTId'] == nctid\n",
    "    \n",
    "    # 'is_result' is not <NA> and all the values of 'is_result' are False\n",
    "    if (not df_complete_date.loc[mask, 'is_result'].dropna().empty and (~(df_complete_date.loc[mask, 'is_result'])).all()):\n",
    "        res.append(nctid)\n",
    "\n",
    "num_trials_wo_any_result = len(res)\n",
    "# df_complete_date.loc[df_complete_date.loc[:, 'NCTId'].isin(res), ['NCTId', 'type_de_publication', 'is_result']]\n",
    "\n",
    "print(\"Nombre d'études avec des publications, mais aucune de type 'Résultat :\")\n",
    "print(f'{num_trials_wo_any_result} / {num_trials} ({num_trials_wo_any_result / num_trials:.2%})')"
   ]
  },
  {
   "cell_type": "code",
   "execution_count": null,
   "id": "69cb31ac-4968-4e1c-825f-441d7517bac9",
   "metadata": {},
   "outputs": [],
   "source": []
  },
  {
   "cell_type": "code",
   "execution_count": null,
   "id": "aac05519-f463-44d1-9173-0d0c8a68241f",
   "metadata": {},
   "outputs": [],
   "source": []
  },
  {
   "cell_type": "code",
   "execution_count": null,
   "id": "b8fa46c5-ce95-43eb-af35-514cf43b02f1",
   "metadata": {},
   "outputs": [],
   "source": []
  },
  {
   "cell_type": "code",
   "execution_count": 334,
   "id": "3207ad5d-1e11-4d7e-8e43-44e30768e3a8",
   "metadata": {},
   "outputs": [
    {
     "data": {
      "text/plain": [
       "StudyType\n",
       "INTERVENTIONAL    130\n",
       "OBSERVATIONAL      60\n",
       "Name: count, dtype: int64"
      ]
     },
     "execution_count": 334,
     "metadata": {},
     "output_type": "execute_result"
    }
   ],
   "source": [
    "df_complete_date.drop_duplicates(subset=['NCTId']).loc[:, 'StudyType'].value_counts()"
   ]
  },
  {
   "cell_type": "code",
   "execution_count": 336,
   "id": "5a7bb89e-b732-4ee9-832c-8986963466a7",
   "metadata": {},
   "outputs": [
    {
     "data": {
      "text/plain": [
       "StudyType\n",
       "INTERVENTIONAL    130\n",
       "OBSERVATIONAL      60\n",
       "Name: count, dtype: int64"
      ]
     },
     "execution_count": 336,
     "metadata": {},
     "output_type": "execute_result"
    }
   ],
   "source": [
    "df_complete_date.loc[~df_complete_date.loc[:, 'NCTId'].duplicated(), 'StudyType'].value_counts()"
   ]
  },
  {
   "cell_type": "code",
   "execution_count": null,
   "id": "b3d26ba8-2111-455d-891d-4f4d11f5511b",
   "metadata": {},
   "outputs": [],
   "source": []
  },
  {
   "cell_type": "code",
   "execution_count": 337,
   "id": "a5ff856a-60b2-4ec0-9e35-8dbec1f8373d",
   "metadata": {},
   "outputs": [
    {
     "data": {
      "text/plain": [
       "is_oa\n",
       "True     66.76%\n",
       "False    33.24%\n",
       "Name: proportion, dtype: object"
      ]
     },
     "execution_count": 337,
     "metadata": {},
     "output_type": "execute_result"
    }
   ],
   "source": [
    "df_complete_date.loc[:, 'is_oa'].value_counts(normalize=True).mul(100).round(2).astype(str) + '%'"
   ]
  },
  {
   "cell_type": "code",
   "execution_count": 338,
   "id": "c6b5e856-ce09-4f0e-bcb6-64fe130bcaf7",
   "metadata": {},
   "outputs": [
    {
     "data": {
      "text/plain": [
       "is_oa\n",
       "True     67.8%\n",
       "False    32.2%\n",
       "Name: proportion, dtype: object"
      ]
     },
     "execution_count": 338,
     "metadata": {},
     "output_type": "execute_result"
    }
   ],
   "source": [
    "df_complete_date.loc[df_complete['is_result'], 'is_oa'].value_counts(normalize=True).mul(100).round(2).astype(str) + '%'"
   ]
  },
  {
   "cell_type": "code",
   "execution_count": null,
   "id": "4a0cea57-8305-4a63-9fe1-cdf686d37a01",
   "metadata": {},
   "outputs": [],
   "source": []
  },
  {
   "cell_type": "code",
   "execution_count": null,
   "id": "eb77fc0e-daa1-4621-8995-16f1021d32fa",
   "metadata": {},
   "outputs": [],
   "source": []
  },
  {
   "cell_type": "code",
   "execution_count": null,
   "id": "2edf6ccc-0250-4e3d-8303-452ec39146b1",
   "metadata": {},
   "outputs": [],
   "source": []
  },
  {
   "cell_type": "code",
   "execution_count": null,
   "id": "af01f5ba-d0b9-4357-b821-599a71a7b267",
   "metadata": {},
   "outputs": [],
   "source": []
  },
  {
   "cell_type": "code",
   "execution_count": null,
   "id": "7b034e56-8e97-4da8-a4b4-b93923c652a4",
   "metadata": {},
   "outputs": [],
   "source": []
  },
  {
   "cell_type": "code",
   "execution_count": null,
   "id": "558f7fdf-22b3-4268-98cd-ebe584ba6f57",
   "metadata": {},
   "outputs": [],
   "source": []
  },
  {
   "cell_type": "code",
   "execution_count": 33,
   "id": "6439b8e8-1bd2-4c50-8e76-b2219ab16de2",
   "metadata": {},
   "outputs": [
    {
     "data": {
      "text/html": [
       "<div>\n",
       "<style scoped>\n",
       "    .dataframe tbody tr th:only-of-type {\n",
       "        vertical-align: middle;\n",
       "    }\n",
       "\n",
       "    .dataframe tbody tr th {\n",
       "        vertical-align: top;\n",
       "    }\n",
       "\n",
       "    .dataframe thead th {\n",
       "        text-align: right;\n",
       "    }\n",
       "</style>\n",
       "<table border=\"1\" class=\"dataframe\">\n",
       "  <thead>\n",
       "    <tr style=\"text-align: right;\">\n",
       "      <th></th>\n",
       "      <th>NCTId</th>\n",
       "      <th>BriefTitle</th>\n",
       "      <th>pmid</th>\n",
       "      <th>title</th>\n",
       "      <th>type</th>\n",
       "      <th>type_de_publication</th>\n",
       "    </tr>\n",
       "  </thead>\n",
       "  <tbody>\n",
       "    <tr>\n",
       "      <th>32</th>\n",
       "      <td>NCT00640263</td>\n",
       "      <td>Comparison of Efficacy and Safety of Infant Pe...</td>\n",
       "      <td>17825642</td>\n",
       "      <td>Prevention of human immunodeficiency virus-1 t...</td>\n",
       "      <td>BACKGROUND</td>\n",
       "      <td>background</td>\n",
       "    </tr>\n",
       "    <tr>\n",
       "      <th>33</th>\n",
       "      <td>NCT00640263</td>\n",
       "      <td>Comparison of Efficacy and Safety of Infant Pe...</td>\n",
       "      <td>32991450</td>\n",
       "      <td>Antiretroviral treatment and its impact on ora...</td>\n",
       "      <td>DERIVED</td>\n",
       "      <td>publication</td>\n",
       "    </tr>\n",
       "    <tr>\n",
       "      <th>34</th>\n",
       "      <td>NCT00640263</td>\n",
       "      <td>Comparison of Efficacy and Safety of Infant Pe...</td>\n",
       "      <td>23039034</td>\n",
       "      <td>Lopinavir/Ritonavir versus Lamivudine peri-exp...</td>\n",
       "      <td>DERIVED</td>\n",
       "      <td>protocole</td>\n",
       "    </tr>\n",
       "    <tr>\n",
       "      <th>35</th>\n",
       "      <td>NCT00640263</td>\n",
       "      <td>Comparison of Efficacy and Safety of Infant Pe...</td>\n",
       "      <td>32067040</td>\n",
       "      <td>Clinical and Biological Factors Associated Wit...</td>\n",
       "      <td>DERIVED</td>\n",
       "      <td>publication</td>\n",
       "    </tr>\n",
       "    <tr>\n",
       "      <th>36</th>\n",
       "      <td>NCT00640263</td>\n",
       "      <td>Comparison of Efficacy and Safety of Infant Pe...</td>\n",
       "      <td>31994250</td>\n",
       "      <td>Association of maternal HIV-1 severity with de...</td>\n",
       "      <td>DERIVED</td>\n",
       "      <td>publication</td>\n",
       "    </tr>\n",
       "    <tr>\n",
       "      <th>37</th>\n",
       "      <td>NCT00640263</td>\n",
       "      <td>Comparison of Efficacy and Safety of Infant Pe...</td>\n",
       "      <td>30814028</td>\n",
       "      <td>Growth in HIV-1-exposed but uninfected infants...</td>\n",
       "      <td>DERIVED</td>\n",
       "      <td>publication</td>\n",
       "    </tr>\n",
       "    <tr>\n",
       "      <th>38</th>\n",
       "      <td>NCT00640263</td>\n",
       "      <td>Comparison of Efficacy and Safety of Infant Pe...</td>\n",
       "      <td>26603917</td>\n",
       "      <td>Extended pre-exposure prophylaxis with lopinav...</td>\n",
       "      <td>DERIVED</td>\n",
       "      <td>publication</td>\n",
       "    </tr>\n",
       "    <tr>\n",
       "      <th>39</th>\n",
       "      <td>NCT00640263</td>\n",
       "      <td>Comparison of Efficacy and Safety of Infant Pe...</td>\n",
       "      <td>28469697</td>\n",
       "      <td>Breastfeeding patterns and its determinants am...</td>\n",
       "      <td>DERIVED</td>\n",
       "      <td>publication</td>\n",
       "    </tr>\n",
       "    <tr>\n",
       "      <th>40</th>\n",
       "      <td>NCT00640263</td>\n",
       "      <td>Comparison of Efficacy and Safety of Infant Pe...</td>\n",
       "      <td>31633158</td>\n",
       "      <td>Lopinavir-Ritonavir Impairs Adrenal Function i...</td>\n",
       "      <td>DERIVED</td>\n",
       "      <td>publication</td>\n",
       "    </tr>\n",
       "    <tr>\n",
       "      <th>41</th>\n",
       "      <td>NCT00640263</td>\n",
       "      <td>Comparison of Efficacy and Safety of Infant Pe...</td>\n",
       "      <td>32228542</td>\n",
       "      <td>Caries experience and oral health related qual...</td>\n",
       "      <td>DERIVED</td>\n",
       "      <td>publication</td>\n",
       "    </tr>\n",
       "    <tr>\n",
       "      <th>42</th>\n",
       "      <td>NCT00640263</td>\n",
       "      <td>Comparison of Efficacy and Safety of Infant Pe...</td>\n",
       "      <td>34425825</td>\n",
       "      <td>The prevalence and socio-behavioural and clini...</td>\n",
       "      <td>PUBMED</td>\n",
       "      <td>publication</td>\n",
       "    </tr>\n",
       "    <tr>\n",
       "      <th>43</th>\n",
       "      <td>NCT00640263</td>\n",
       "      <td>Comparison of Efficacy and Safety of Infant Pe...</td>\n",
       "      <td>27895016</td>\n",
       "      <td>Are Prophylactic and Therapeutic Target Concen...</td>\n",
       "      <td>DERIVED</td>\n",
       "      <td>publication</td>\n",
       "    </tr>\n",
       "  </tbody>\n",
       "</table>\n",
       "</div>"
      ],
      "text/plain": [
       "          NCTId                                         BriefTitle      pmid  \\\n",
       "32  NCT00640263  Comparison of Efficacy and Safety of Infant Pe...  17825642   \n",
       "33  NCT00640263  Comparison of Efficacy and Safety of Infant Pe...  32991450   \n",
       "34  NCT00640263  Comparison of Efficacy and Safety of Infant Pe...  23039034   \n",
       "35  NCT00640263  Comparison of Efficacy and Safety of Infant Pe...  32067040   \n",
       "36  NCT00640263  Comparison of Efficacy and Safety of Infant Pe...  31994250   \n",
       "37  NCT00640263  Comparison of Efficacy and Safety of Infant Pe...  30814028   \n",
       "38  NCT00640263  Comparison of Efficacy and Safety of Infant Pe...  26603917   \n",
       "39  NCT00640263  Comparison of Efficacy and Safety of Infant Pe...  28469697   \n",
       "40  NCT00640263  Comparison of Efficacy and Safety of Infant Pe...  31633158   \n",
       "41  NCT00640263  Comparison of Efficacy and Safety of Infant Pe...  32228542   \n",
       "42  NCT00640263  Comparison of Efficacy and Safety of Infant Pe...  34425825   \n",
       "43  NCT00640263  Comparison of Efficacy and Safety of Infant Pe...  27895016   \n",
       "\n",
       "                                                title        type  \\\n",
       "32  Prevention of human immunodeficiency virus-1 t...  BACKGROUND   \n",
       "33  Antiretroviral treatment and its impact on ora...     DERIVED   \n",
       "34  Lopinavir/Ritonavir versus Lamivudine peri-exp...     DERIVED   \n",
       "35  Clinical and Biological Factors Associated Wit...     DERIVED   \n",
       "36  Association of maternal HIV-1 severity with de...     DERIVED   \n",
       "37  Growth in HIV-1-exposed but uninfected infants...     DERIVED   \n",
       "38  Extended pre-exposure prophylaxis with lopinav...     DERIVED   \n",
       "39  Breastfeeding patterns and its determinants am...     DERIVED   \n",
       "40  Lopinavir-Ritonavir Impairs Adrenal Function i...     DERIVED   \n",
       "41  Caries experience and oral health related qual...     DERIVED   \n",
       "42  The prevalence and socio-behavioural and clini...      PUBMED   \n",
       "43  Are Prophylactic and Therapeutic Target Concen...     DERIVED   \n",
       "\n",
       "   type_de_publication  \n",
       "32          background  \n",
       "33         publication  \n",
       "34           protocole  \n",
       "35         publication  \n",
       "36         publication  \n",
       "37         publication  \n",
       "38         publication  \n",
       "39         publication  \n",
       "40         publication  \n",
       "41         publication  \n",
       "42         publication  \n",
       "43         publication  "
      ]
     },
     "execution_count": 33,
     "metadata": {},
     "output_type": "execute_result"
    }
   ],
   "source": [
    "mask = df_complete.loc[:, 'NCTId'] == 'NCT00640263'\n",
    "df_complete.loc[mask, ['NCTId', 'BriefTitle', 'pmid', 'title', 'type', 'type_de_publication']]"
   ]
  },
  {
   "cell_type": "code",
   "execution_count": null,
   "id": "6ab8fe09-4210-4d44-b335-f293a5428081",
   "metadata": {},
   "outputs": [],
   "source": []
  },
  {
   "cell_type": "code",
   "execution_count": null,
   "id": "a5d1c50c-8524-46df-81e7-d8a62a6d4abd",
   "metadata": {},
   "outputs": [],
   "source": []
  },
  {
   "cell_type": "code",
   "execution_count": 42,
   "id": "0513ab8e-1866-41d4-af32-b03aa8aa21d3",
   "metadata": {},
   "outputs": [
    {
     "data": {
      "text/html": [
       "<div>\n",
       "<style scoped>\n",
       "    .dataframe tbody tr th:only-of-type {\n",
       "        vertical-align: middle;\n",
       "    }\n",
       "\n",
       "    .dataframe tbody tr th {\n",
       "        vertical-align: top;\n",
       "    }\n",
       "\n",
       "    .dataframe thead th {\n",
       "        text-align: right;\n",
       "    }\n",
       "</style>\n",
       "<table border=\"1\" class=\"dataframe\">\n",
       "  <thead>\n",
       "    <tr style=\"text-align: right;\">\n",
       "      <th></th>\n",
       "      <th>NCTId</th>\n",
       "      <th>pmid</th>\n",
       "      <th>type de publi</th>\n",
       "    </tr>\n",
       "  </thead>\n",
       "  <tbody>\n",
       "    <tr>\n",
       "      <th>0</th>\n",
       "      <td>NCT02014727</td>\n",
       "      <td>28947345</td>\n",
       "      <td>publi</td>\n",
       "    </tr>\n",
       "    <tr>\n",
       "      <th>1</th>\n",
       "      <td>NCT00117494</td>\n",
       "      <td>22739396</td>\n",
       "      <td>publi</td>\n",
       "    </tr>\n",
       "    <tr>\n",
       "      <th>2</th>\n",
       "      <td>NCT00117494</td>\n",
       "      <td>22318219</td>\n",
       "      <td>publi</td>\n",
       "    </tr>\n",
       "    <tr>\n",
       "      <th>3</th>\n",
       "      <td>NCT00536627</td>\n",
       "      <td>24394187</td>\n",
       "      <td>publi</td>\n",
       "    </tr>\n",
       "    <tr>\n",
       "      <th>4</th>\n",
       "      <td>NCT00536627</td>\n",
       "      <td>15382173</td>\n",
       "      <td>background</td>\n",
       "    </tr>\n",
       "    <tr>\n",
       "      <th>...</th>\n",
       "      <td>...</td>\n",
       "      <td>...</td>\n",
       "      <td>...</td>\n",
       "    </tr>\n",
       "    <tr>\n",
       "      <th>492</th>\n",
       "      <td>NCT01688453</td>\n",
       "      <td>35272723</td>\n",
       "      <td>publi</td>\n",
       "    </tr>\n",
       "    <tr>\n",
       "      <th>493</th>\n",
       "      <td>NCT01688453</td>\n",
       "      <td>29934380</td>\n",
       "      <td>publi</td>\n",
       "    </tr>\n",
       "    <tr>\n",
       "      <th>494</th>\n",
       "      <td>NCT02658253</td>\n",
       "      <td>33717176</td>\n",
       "      <td>publi</td>\n",
       "    </tr>\n",
       "    <tr>\n",
       "      <th>495</th>\n",
       "      <td>NCT02658253</td>\n",
       "      <td>32032566</td>\n",
       "      <td>publi</td>\n",
       "    </tr>\n",
       "    <tr>\n",
       "      <th>496</th>\n",
       "      <td>NCT00118677</td>\n",
       "      <td>20657770</td>\n",
       "      <td>résultats négatifs</td>\n",
       "    </tr>\n",
       "  </tbody>\n",
       "</table>\n",
       "<p>497 rows × 3 columns</p>\n",
       "</div>"
      ],
      "text/plain": [
       "           NCTId      pmid       type de publi\n",
       "0    NCT02014727  28947345               publi\n",
       "1    NCT00117494  22739396               publi\n",
       "2    NCT00117494  22318219               publi\n",
       "3    NCT00536627  24394187               publi\n",
       "4    NCT00536627  15382173          background\n",
       "..           ...       ...                 ...\n",
       "492  NCT01688453  35272723               publi\n",
       "493  NCT01688453  29934380               publi\n",
       "494  NCT02658253  33717176               publi\n",
       "495  NCT02658253  32032566               publi\n",
       "496  NCT00118677  20657770  résultats négatifs\n",
       "\n",
       "[497 rows x 3 columns]"
      ]
     },
     "execution_count": 42,
     "metadata": {},
     "output_type": "execute_result"
    }
   ],
   "source": [
    "df_from_excel.loc[:, ['NCTId', 'pmid', 'type de publi']]"
   ]
  },
  {
   "cell_type": "code",
   "execution_count": 45,
   "id": "6a7d28d2-f90f-41bc-bd9d-c67a92946946",
   "metadata": {},
   "outputs": [
    {
     "data": {
      "text/plain": [
       "type de publi\n",
       "publi                 302\n",
       "background             88\n",
       "résultats négatifs     29\n",
       "protocole              22\n",
       "commentaire             2\n",
       "méta analyse            1\n",
       "Name: count, dtype: int64"
      ]
     },
     "execution_count": 45,
     "metadata": {},
     "output_type": "execute_result"
    }
   ],
   "source": [
    "df_from_excel.loc[:, 'type de publi'].value_counts()"
   ]
  },
  {
   "cell_type": "code",
   "execution_count": 43,
   "id": "ce148845-71be-48cf-81ab-544275b2a232",
   "metadata": {},
   "outputs": [
    {
     "data": {
      "text/html": [
       "<div>\n",
       "<style scoped>\n",
       "    .dataframe tbody tr th:only-of-type {\n",
       "        vertical-align: middle;\n",
       "    }\n",
       "\n",
       "    .dataframe tbody tr th {\n",
       "        vertical-align: top;\n",
       "    }\n",
       "\n",
       "    .dataframe thead th {\n",
       "        text-align: right;\n",
       "    }\n",
       "</style>\n",
       "<table border=\"1\" class=\"dataframe\">\n",
       "  <thead>\n",
       "    <tr style=\"text-align: right;\">\n",
       "      <th></th>\n",
       "      <th>NCTId</th>\n",
       "      <th>BriefTitle</th>\n",
       "      <th>HasResults</th>\n",
       "      <th>doi</th>\n",
       "      <th>pmid</th>\n",
       "    </tr>\n",
       "  </thead>\n",
       "  <tbody>\n",
       "    <tr>\n",
       "      <th>0</th>\n",
       "      <td>NCT02592174</td>\n",
       "      <td>Prevalence, Characteristics and Risk Factors o...</td>\n",
       "      <td>False</td>\n",
       "      <td>10.1093/cid/ciz670</td>\n",
       "      <td>31755936.0</td>\n",
       "    </tr>\n",
       "    <tr>\n",
       "      <th>1</th>\n",
       "      <td>NCT02273765</td>\n",
       "      <td>Raltegravir Versus Efavirenz in Naive HIV-1-in...</td>\n",
       "      <td>False</td>\n",
       "      <td>10.1016/S1473-3099(20)30869-0</td>\n",
       "      <td>33667406.0</td>\n",
       "    </tr>\n",
       "    <tr>\n",
       "      <th>2</th>\n",
       "      <td>NCT05311865</td>\n",
       "      <td>Transmission of Covid-19 During Clubbing Event...</td>\n",
       "      <td>False</td>\n",
       "      <td>10.3389/fpubh.2022.981213</td>\n",
       "      <td>36438274.0</td>\n",
       "    </tr>\n",
       "    <tr>\n",
       "      <th>3</th>\n",
       "      <td>NCT05311865</td>\n",
       "      <td>Transmission of Covid-19 During Clubbing Event...</td>\n",
       "      <td>False</td>\n",
       "      <td>10.1093/cid/ciad603</td>\n",
       "      <td>37795682.0</td>\n",
       "    </tr>\n",
       "    <tr>\n",
       "      <th>4</th>\n",
       "      <td>NCT02107365</td>\n",
       "      <td>Therapy With Asunaprevir, Daclatasvir, Ribavir...</td>\n",
       "      <td>False</td>\n",
       "      <td>NaN</td>\n",
       "      <td>NaN</td>\n",
       "    </tr>\n",
       "    <tr>\n",
       "      <th>...</th>\n",
       "      <td>...</td>\n",
       "      <td>...</td>\n",
       "      <td>...</td>\n",
       "      <td>...</td>\n",
       "      <td>...</td>\n",
       "    </tr>\n",
       "    <tr>\n",
       "      <th>495</th>\n",
       "      <td>NCT02481453</td>\n",
       "      <td>Rapamycine vs Placebo for the Treatment of Inc...</td>\n",
       "      <td>False</td>\n",
       "      <td>10.1016/j.nmd.2010.03.014</td>\n",
       "      <td>20413309.0</td>\n",
       "    </tr>\n",
       "    <tr>\n",
       "      <th>496</th>\n",
       "      <td>NCT02481453</td>\n",
       "      <td>Rapamycine vs Placebo for the Treatment of Inc...</td>\n",
       "      <td>False</td>\n",
       "      <td>10.1212/WNL.0000000000000642</td>\n",
       "      <td>24975859.0</td>\n",
       "    </tr>\n",
       "    <tr>\n",
       "      <th>497</th>\n",
       "      <td>NCT02481453</td>\n",
       "      <td>Rapamycine vs Placebo for the Treatment of Inc...</td>\n",
       "      <td>False</td>\n",
       "      <td>10.1016/S2665-9913(20)30280-0</td>\n",
       "      <td>38273639.0</td>\n",
       "    </tr>\n",
       "    <tr>\n",
       "      <th>498</th>\n",
       "      <td>NCT02658253</td>\n",
       "      <td>Trial to Evaluate the Safety and Immunogenicit...</td>\n",
       "      <td>False</td>\n",
       "      <td>10.3389/fimmu.2021.634508</td>\n",
       "      <td>33717176.0</td>\n",
       "    </tr>\n",
       "    <tr>\n",
       "      <th>499</th>\n",
       "      <td>NCT02658253</td>\n",
       "      <td>Trial to Evaluate the Safety and Immunogenicit...</td>\n",
       "      <td>False</td>\n",
       "      <td>10.1016/S1473-3099(19)30739-X</td>\n",
       "      <td>32032566.0</td>\n",
       "    </tr>\n",
       "  </tbody>\n",
       "</table>\n",
       "<p>500 rows × 5 columns</p>\n",
       "</div>"
      ],
      "text/plain": [
       "           NCTId                                         BriefTitle  \\\n",
       "0    NCT02592174  Prevalence, Characteristics and Risk Factors o...   \n",
       "1    NCT02273765  Raltegravir Versus Efavirenz in Naive HIV-1-in...   \n",
       "2    NCT05311865  Transmission of Covid-19 During Clubbing Event...   \n",
       "3    NCT05311865  Transmission of Covid-19 During Clubbing Event...   \n",
       "4    NCT02107365  Therapy With Asunaprevir, Daclatasvir, Ribavir...   \n",
       "..           ...                                                ...   \n",
       "495  NCT02481453  Rapamycine vs Placebo for the Treatment of Inc...   \n",
       "496  NCT02481453  Rapamycine vs Placebo for the Treatment of Inc...   \n",
       "497  NCT02481453  Rapamycine vs Placebo for the Treatment of Inc...   \n",
       "498  NCT02658253  Trial to Evaluate the Safety and Immunogenicit...   \n",
       "499  NCT02658253  Trial to Evaluate the Safety and Immunogenicit...   \n",
       "\n",
       "     HasResults                            doi        pmid  \n",
       "0         False             10.1093/cid/ciz670  31755936.0  \n",
       "1         False  10.1016/S1473-3099(20)30869-0  33667406.0  \n",
       "2         False      10.3389/fpubh.2022.981213  36438274.0  \n",
       "3         False            10.1093/cid/ciad603  37795682.0  \n",
       "4         False                            NaN         NaN  \n",
       "..          ...                            ...         ...  \n",
       "495       False      10.1016/j.nmd.2010.03.014  20413309.0  \n",
       "496       False   10.1212/WNL.0000000000000642  24975859.0  \n",
       "497       False  10.1016/S2665-9913(20)30280-0  38273639.0  \n",
       "498       False      10.3389/fimmu.2021.634508  33717176.0  \n",
       "499       False  10.1016/S1473-3099(19)30739-X  32032566.0  \n",
       "\n",
       "[500 rows x 5 columns]"
      ]
     },
     "execution_count": 43,
     "metadata": {},
     "output_type": "execute_result"
    }
   ],
   "source": [
    "df_tmp = pd.read_excel(\n",
    "    'Data/outputs/df_for_manual_treatment.xlsx',\n",
    "    usecols=[\n",
    "        'NCTId',\n",
    "        'BriefTitle',\n",
    "        'HasResults',\n",
    "        'pmid',\n",
    "        'doi',\n",
    "    ],\n",
    ")\n",
    "df_tmp"
   ]
  },
  {
   "cell_type": "code",
   "execution_count": 46,
   "id": "96f010ed-169d-4035-9fe4-275dd786cfc4",
   "metadata": {},
   "outputs": [
    {
     "data": {
      "text/html": [
       "<div>\n",
       "<style scoped>\n",
       "    .dataframe tbody tr th:only-of-type {\n",
       "        vertical-align: middle;\n",
       "    }\n",
       "\n",
       "    .dataframe tbody tr th {\n",
       "        vertical-align: top;\n",
       "    }\n",
       "\n",
       "    .dataframe thead th {\n",
       "        text-align: right;\n",
       "    }\n",
       "</style>\n",
       "<table border=\"1\" class=\"dataframe\">\n",
       "  <thead>\n",
       "    <tr style=\"text-align: right;\">\n",
       "      <th></th>\n",
       "      <th>NCTId</th>\n",
       "      <th>BriefTitle</th>\n",
       "      <th>HasResults</th>\n",
       "      <th>doi</th>\n",
       "      <th>pmid</th>\n",
       "      <th>type de publi</th>\n",
       "    </tr>\n",
       "  </thead>\n",
       "  <tbody>\n",
       "    <tr>\n",
       "      <th>0</th>\n",
       "      <td>NCT02592174</td>\n",
       "      <td>Prevalence, Characteristics and Risk Factors o...</td>\n",
       "      <td>False</td>\n",
       "      <td>10.1093/cid/ciz670</td>\n",
       "      <td>31755936.0</td>\n",
       "      <td>publi</td>\n",
       "    </tr>\n",
       "    <tr>\n",
       "      <th>1</th>\n",
       "      <td>NCT02273765</td>\n",
       "      <td>Raltegravir Versus Efavirenz in Naive HIV-1-in...</td>\n",
       "      <td>False</td>\n",
       "      <td>10.1016/S1473-3099(20)30869-0</td>\n",
       "      <td>33667406.0</td>\n",
       "      <td>publi</td>\n",
       "    </tr>\n",
       "    <tr>\n",
       "      <th>2</th>\n",
       "      <td>NCT05311865</td>\n",
       "      <td>Transmission of Covid-19 During Clubbing Event...</td>\n",
       "      <td>False</td>\n",
       "      <td>10.3389/fpubh.2022.981213</td>\n",
       "      <td>36438274.0</td>\n",
       "      <td>protocole</td>\n",
       "    </tr>\n",
       "    <tr>\n",
       "      <th>3</th>\n",
       "      <td>NCT05311865</td>\n",
       "      <td>Transmission of Covid-19 During Clubbing Event...</td>\n",
       "      <td>False</td>\n",
       "      <td>10.1093/cid/ciad603</td>\n",
       "      <td>37795682.0</td>\n",
       "      <td>publi</td>\n",
       "    </tr>\n",
       "    <tr>\n",
       "      <th>4</th>\n",
       "      <td>NCT02107365</td>\n",
       "      <td>Therapy With Asunaprevir, Daclatasvir, Ribavir...</td>\n",
       "      <td>False</td>\n",
       "      <td>NaN</td>\n",
       "      <td>NaN</td>\n",
       "      <td>NaN</td>\n",
       "    </tr>\n",
       "    <tr>\n",
       "      <th>...</th>\n",
       "      <td>...</td>\n",
       "      <td>...</td>\n",
       "      <td>...</td>\n",
       "      <td>...</td>\n",
       "      <td>...</td>\n",
       "      <td>...</td>\n",
       "    </tr>\n",
       "    <tr>\n",
       "      <th>495</th>\n",
       "      <td>NCT02481453</td>\n",
       "      <td>Rapamycine vs Placebo for the Treatment of Inc...</td>\n",
       "      <td>False</td>\n",
       "      <td>10.1016/j.nmd.2010.03.014</td>\n",
       "      <td>20413309.0</td>\n",
       "      <td>background</td>\n",
       "    </tr>\n",
       "    <tr>\n",
       "      <th>496</th>\n",
       "      <td>NCT02481453</td>\n",
       "      <td>Rapamycine vs Placebo for the Treatment of Inc...</td>\n",
       "      <td>False</td>\n",
       "      <td>10.1212/WNL.0000000000000642</td>\n",
       "      <td>24975859.0</td>\n",
       "      <td>background</td>\n",
       "    </tr>\n",
       "    <tr>\n",
       "      <th>497</th>\n",
       "      <td>NCT02481453</td>\n",
       "      <td>Rapamycine vs Placebo for the Treatment of Inc...</td>\n",
       "      <td>False</td>\n",
       "      <td>10.1016/S2665-9913(20)30280-0</td>\n",
       "      <td>38273639.0</td>\n",
       "      <td>résultats négatifs</td>\n",
       "    </tr>\n",
       "    <tr>\n",
       "      <th>498</th>\n",
       "      <td>NCT02658253</td>\n",
       "      <td>Trial to Evaluate the Safety and Immunogenicit...</td>\n",
       "      <td>False</td>\n",
       "      <td>10.3389/fimmu.2021.634508</td>\n",
       "      <td>33717176.0</td>\n",
       "      <td>publi</td>\n",
       "    </tr>\n",
       "    <tr>\n",
       "      <th>499</th>\n",
       "      <td>NCT02658253</td>\n",
       "      <td>Trial to Evaluate the Safety and Immunogenicit...</td>\n",
       "      <td>False</td>\n",
       "      <td>10.1016/S1473-3099(19)30739-X</td>\n",
       "      <td>32032566.0</td>\n",
       "      <td>publi</td>\n",
       "    </tr>\n",
       "  </tbody>\n",
       "</table>\n",
       "<p>500 rows × 6 columns</p>\n",
       "</div>"
      ],
      "text/plain": [
       "           NCTId                                         BriefTitle  \\\n",
       "0    NCT02592174  Prevalence, Characteristics and Risk Factors o...   \n",
       "1    NCT02273765  Raltegravir Versus Efavirenz in Naive HIV-1-in...   \n",
       "2    NCT05311865  Transmission of Covid-19 During Clubbing Event...   \n",
       "3    NCT05311865  Transmission of Covid-19 During Clubbing Event...   \n",
       "4    NCT02107365  Therapy With Asunaprevir, Daclatasvir, Ribavir...   \n",
       "..           ...                                                ...   \n",
       "495  NCT02481453  Rapamycine vs Placebo for the Treatment of Inc...   \n",
       "496  NCT02481453  Rapamycine vs Placebo for the Treatment of Inc...   \n",
       "497  NCT02481453  Rapamycine vs Placebo for the Treatment of Inc...   \n",
       "498  NCT02658253  Trial to Evaluate the Safety and Immunogenicit...   \n",
       "499  NCT02658253  Trial to Evaluate the Safety and Immunogenicit...   \n",
       "\n",
       "     HasResults                            doi        pmid       type de publi  \n",
       "0         False             10.1093/cid/ciz670  31755936.0               publi  \n",
       "1         False  10.1016/S1473-3099(20)30869-0  33667406.0               publi  \n",
       "2         False      10.3389/fpubh.2022.981213  36438274.0           protocole  \n",
       "3         False            10.1093/cid/ciad603  37795682.0               publi  \n",
       "4         False                            NaN         NaN                 NaN  \n",
       "..          ...                            ...         ...                 ...  \n",
       "495       False      10.1016/j.nmd.2010.03.014  20413309.0          background  \n",
       "496       False   10.1212/WNL.0000000000000642  24975859.0          background  \n",
       "497       False  10.1016/S2665-9913(20)30280-0  38273639.0  résultats négatifs  \n",
       "498       False      10.3389/fimmu.2021.634508  33717176.0               publi  \n",
       "499       False  10.1016/S1473-3099(19)30739-X  32032566.0               publi  \n",
       "\n",
       "[500 rows x 6 columns]"
      ]
     },
     "execution_count": 46,
     "metadata": {},
     "output_type": "execute_result"
    }
   ],
   "source": [
    "df_to_copy = df_tmp.merge(\n",
    "    df_from_excel.loc[:, ['NCTId', 'pmid', 'type de publi']],\n",
    "    on=['NCTId', 'pmid'],\n",
    "    how='left',\n",
    "    validate='one_to_one',\n",
    ")\n",
    "df_to_copy"
   ]
  },
  {
   "cell_type": "code",
   "execution_count": 47,
   "id": "347d193f-9e72-47c7-a445-21181bc164eb",
   "metadata": {},
   "outputs": [
    {
     "data": {
      "text/plain": [
       "type de publi\n",
       "publi                 224\n",
       "background             77\n",
       "résultats négatifs     21\n",
       "protocole              19\n",
       "commentaire             2\n",
       "méta analyse            1\n",
       "Name: count, dtype: int64"
      ]
     },
     "execution_count": 47,
     "metadata": {},
     "output_type": "execute_result"
    }
   ],
   "source": [
    "df_to_copy.loc[:, 'type de publi'].value_counts()"
   ]
  },
  {
   "cell_type": "code",
   "execution_count": 49,
   "id": "bf31568f-6f52-4103-84ff-c2f1e2398525",
   "metadata": {},
   "outputs": [],
   "source": [
    "df_to_copy.to_csv(\n",
    "    'Data/outputs/df_to_copy.csv',\n",
    "    # columns=columns_to_export,\n",
    "    sep=';',\n",
    "    index=False,\n",
    "    encoding='utf-8-sig',\n",
    ")"
   ]
  },
  {
   "cell_type": "code",
   "execution_count": null,
   "id": "78a525eb-50e3-48a5-9886-27814d53fdb7",
   "metadata": {},
   "outputs": [],
   "source": []
  }
 ],
 "metadata": {
  "kernelspec": {
   "display_name": "Python 3 (ipykernel)",
   "language": "python",
   "name": "python3"
  },
  "language_info": {
   "codemirror_mode": {
    "name": "ipython",
    "version": 3
   },
   "file_extension": ".py",
   "mimetype": "text/x-python",
   "name": "python",
   "nbconvert_exporter": "python",
   "pygments_lexer": "ipython3",
   "version": "3.12.2"
  }
 },
 "nbformat": 4,
 "nbformat_minor": 5
}
