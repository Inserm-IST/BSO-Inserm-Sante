{
 "cells": [
  {
   "cell_type": "code",
   "execution_count": 1,
   "id": "80370fb5-4b94-4de3-a388-7a38087e2f11",
   "metadata": {},
   "outputs": [],
   "source": [
    "from matplotlib import colors as plt_colors # For color conversions\n",
    "import pandas as pd\n",
    "import plotly.graph_objects as go\n",
    "import seaborn as sns"
   ]
  },
  {
   "cell_type": "markdown",
   "id": "f863351c-48a9-484c-9899-05b219b14990",
   "metadata": {},
   "source": [
    "## Import du fichier Excel traité manuellement :"
   ]
  },
  {
   "cell_type": "code",
   "execution_count": 2,
   "id": "03fbbdf2-ffcd-4efc-81b9-af40a3bb5055",
   "metadata": {},
   "outputs": [
    {
     "name": "stderr",
     "output_type": "stream",
     "text": [
      "C:\\Users\\julien.bacquart\\Development\\BSO-Inserm-Sante\\venv\\Lib\\site-packages\\openpyxl\\worksheet\\_reader.py:329: UserWarning: Data Validation extension is not supported and will be removed\n",
      "  warn(msg)\n"
     ]
    }
   ],
   "source": [
    "df_from_excel = pd.read_excel(\n",
    "    'Data/inputs/20240531_df_results.xlsx',\n",
    "    usecols=[\n",
    "        'NCTId',\n",
    "        'pmid',\n",
    "        'type_de_publication',\n",
    "        'commentaire',\n",
    "    ],\n",
    ")\n",
    "df_from_excel = df_from_excel.astype(\n",
    "    {\n",
    "        'pmid': 'Int64',\n",
    "        'type_de_publication': 'category',\n",
    "    }\n",
    ")"
   ]
  },
  {
   "cell_type": "code",
   "execution_count": 3,
   "id": "d2d196e4-3d39-4e87-9056-dacf2f671daa",
   "metadata": {},
   "outputs": [
    {
     "data": {
      "text/html": [
       "<div>\n",
       "<style scoped>\n",
       "    .dataframe tbody tr th:only-of-type {\n",
       "        vertical-align: middle;\n",
       "    }\n",
       "\n",
       "    .dataframe tbody tr th {\n",
       "        vertical-align: top;\n",
       "    }\n",
       "\n",
       "    .dataframe thead th {\n",
       "        text-align: right;\n",
       "    }\n",
       "</style>\n",
       "<table border=\"1\" class=\"dataframe\">\n",
       "  <thead>\n",
       "    <tr style=\"text-align: right;\">\n",
       "      <th></th>\n",
       "      <th>NCTId</th>\n",
       "      <th>pmid</th>\n",
       "      <th>type_de_publication</th>\n",
       "      <th>commentaire</th>\n",
       "    </tr>\n",
       "  </thead>\n",
       "  <tbody>\n",
       "    <tr>\n",
       "      <th>0</th>\n",
       "      <td>NCT02592174</td>\n",
       "      <td>31755936</td>\n",
       "      <td>publication</td>\n",
       "      <td>NaN</td>\n",
       "    </tr>\n",
       "    <tr>\n",
       "      <th>1</th>\n",
       "      <td>NCT02273765</td>\n",
       "      <td>33667406</td>\n",
       "      <td>publication</td>\n",
       "      <td>NaN</td>\n",
       "    </tr>\n",
       "    <tr>\n",
       "      <th>2</th>\n",
       "      <td>NCT05311865</td>\n",
       "      <td>36438274</td>\n",
       "      <td>protocole</td>\n",
       "      <td>NaN</td>\n",
       "    </tr>\n",
       "    <tr>\n",
       "      <th>3</th>\n",
       "      <td>NCT05311865</td>\n",
       "      <td>37795682</td>\n",
       "      <td>publication</td>\n",
       "      <td>NaN</td>\n",
       "    </tr>\n",
       "    <tr>\n",
       "      <th>4</th>\n",
       "      <td>NCT02107365</td>\n",
       "      <td>&lt;NA&gt;</td>\n",
       "      <td>NaN</td>\n",
       "      <td>NaN</td>\n",
       "    </tr>\n",
       "    <tr>\n",
       "      <th>...</th>\n",
       "      <td>...</td>\n",
       "      <td>...</td>\n",
       "      <td>...</td>\n",
       "      <td>...</td>\n",
       "    </tr>\n",
       "    <tr>\n",
       "      <th>495</th>\n",
       "      <td>NCT02481453</td>\n",
       "      <td>20413309</td>\n",
       "      <td>background</td>\n",
       "      <td>NaN</td>\n",
       "    </tr>\n",
       "    <tr>\n",
       "      <th>496</th>\n",
       "      <td>NCT02481453</td>\n",
       "      <td>24975859</td>\n",
       "      <td>background</td>\n",
       "      <td>NaN</td>\n",
       "    </tr>\n",
       "    <tr>\n",
       "      <th>497</th>\n",
       "      <td>NCT02481453</td>\n",
       "      <td>38273639</td>\n",
       "      <td>résultat négatif</td>\n",
       "      <td>NaN</td>\n",
       "    </tr>\n",
       "    <tr>\n",
       "      <th>498</th>\n",
       "      <td>NCT02658253</td>\n",
       "      <td>33717176</td>\n",
       "      <td>publication</td>\n",
       "      <td>NaN</td>\n",
       "    </tr>\n",
       "    <tr>\n",
       "      <th>499</th>\n",
       "      <td>NCT02658253</td>\n",
       "      <td>32032566</td>\n",
       "      <td>publication</td>\n",
       "      <td>NaN</td>\n",
       "    </tr>\n",
       "  </tbody>\n",
       "</table>\n",
       "<p>500 rows × 4 columns</p>\n",
       "</div>"
      ],
      "text/plain": [
       "           NCTId      pmid type_de_publication commentaire\n",
       "0    NCT02592174  31755936         publication         NaN\n",
       "1    NCT02273765  33667406         publication         NaN\n",
       "2    NCT05311865  36438274           protocole         NaN\n",
       "3    NCT05311865  37795682         publication         NaN\n",
       "4    NCT02107365      <NA>                 NaN         NaN\n",
       "..           ...       ...                 ...         ...\n",
       "495  NCT02481453  20413309          background         NaN\n",
       "496  NCT02481453  24975859          background         NaN\n",
       "497  NCT02481453  38273639    résultat négatif         NaN\n",
       "498  NCT02658253  33717176         publication         NaN\n",
       "499  NCT02658253  32032566         publication         NaN\n",
       "\n",
       "[500 rows x 4 columns]"
      ]
     },
     "execution_count": 3,
     "metadata": {},
     "output_type": "execute_result"
    }
   ],
   "source": [
    "df_from_excel"
   ]
  },
  {
   "cell_type": "code",
   "execution_count": 4,
   "id": "b8e5e29c-7918-4542-b5ff-a092f650ca5a",
   "metadata": {},
   "outputs": [
    {
     "name": "stdout",
     "output_type": "stream",
     "text": [
      "<class 'pandas.core.frame.DataFrame'>\n",
      "RangeIndex: 500 entries, 0 to 499\n",
      "Data columns (total 4 columns):\n",
      " #   Column               Non-Null Count  Dtype   \n",
      "---  ------               --------------  -----   \n",
      " 0   NCTId                500 non-null    object  \n",
      " 1   pmid                 394 non-null    Int64   \n",
      " 2   type_de_publication  394 non-null    category\n",
      " 3   commentaire          10 non-null     object  \n",
      "dtypes: Int64(1), category(1), object(2)\n",
      "memory usage: 13.0+ KB\n"
     ]
    }
   ],
   "source": [
    "df_from_excel.info()"
   ]
  },
  {
   "cell_type": "code",
   "execution_count": null,
   "id": "265c8f52-3fc8-40f1-a73e-9d674bb0cb6e",
   "metadata": {},
   "outputs": [],
   "source": []
  },
  {
   "cell_type": "markdown",
   "id": "b63926af-cce9-4175-9950-110d5d7819a8",
   "metadata": {},
   "source": [
    "#### type_de_publication :"
   ]
  },
  {
   "cell_type": "code",
   "execution_count": 5,
   "id": "e9a7b426-256c-408f-a59c-b9fcba8f7540",
   "metadata": {},
   "outputs": [
    {
     "data": {
      "text/plain": [
       "type_de_publication\n",
       "publication         233\n",
       "background          113\n",
       "protocole            19\n",
       "résultat négatif     17\n",
       "autre                 7\n",
       "méta-analyse          5\n",
       "Name: count, dtype: int64"
      ]
     },
     "execution_count": 5,
     "metadata": {},
     "output_type": "execute_result"
    }
   ],
   "source": [
    "df_from_excel.loc[:, 'type_de_publication'].value_counts()"
   ]
  },
  {
   "cell_type": "code",
   "execution_count": null,
   "id": "56d5278a-003e-44e5-99ed-055df1db65ff",
   "metadata": {},
   "outputs": [],
   "source": []
  },
  {
   "cell_type": "markdown",
   "id": "e9fa6eea-7106-4926-bf76-31b6867b8d97",
   "metadata": {},
   "source": [
    "## Import de la DataFrame :"
   ]
  },
  {
   "cell_type": "code",
   "execution_count": 6,
   "id": "be2ad446-e2f3-45c4-86a4-d8973196f771",
   "metadata": {},
   "outputs": [],
   "source": [
    "df_corrected = pd.read_csv('Data/outputs/df_corrected.csv', sep=';', encoding='utf-8-sig')"
   ]
  },
  {
   "cell_type": "code",
   "execution_count": 7,
   "id": "7812d5b9-bea7-47c8-a044-4f307cd1bee1",
   "metadata": {},
   "outputs": [
    {
     "name": "stdout",
     "output_type": "stream",
     "text": [
      "<class 'pandas.core.frame.DataFrame'>\n",
      "RangeIndex: 500 entries, 0 to 499\n",
      "Data columns (total 26 columns):\n",
      " #   Column               Non-Null Count  Dtype         \n",
      "---  ------               --------------  -----         \n",
      " 0   NCTId                500 non-null    object        \n",
      " 1   BriefTitle           500 non-null    object        \n",
      " 2   LeadSponsorName      500 non-null    object        \n",
      " 3   CollaboratorName     225 non-null    object        \n",
      " 4   OverallStatus        500 non-null    category      \n",
      " 5   StudyType            500 non-null    category      \n",
      " 6   HasResults           500 non-null    bool          \n",
      " 7   StudyFirstPostDate   500 non-null    datetime64[ns]\n",
      " 8   StartDate            500 non-null    datetime64[ns]\n",
      " 9   CompletionDate       500 non-null    datetime64[ns]\n",
      " 10  pmid                 394 non-null    Int64         \n",
      " 11  type                 394 non-null    category      \n",
      " 12  title                394 non-null    object        \n",
      " 13  authors              394 non-null    object        \n",
      " 14  doi                  393 non-null    object        \n",
      " 15  publication_types    394 non-null    object        \n",
      " 16  is_paratext          393 non-null    boolean       \n",
      " 17  published_date       393 non-null    datetime64[ns]\n",
      " 18  is_oa                393 non-null    boolean       \n",
      " 19  oa_status            393 non-null    category      \n",
      " 20  has_repository_copy  393 non-null    boolean       \n",
      " 21  type_openalex        393 non-null    category      \n",
      " 22  primary_topic        393 non-null    category      \n",
      " 23  subfield             393 non-null    category      \n",
      " 24  field                393 non-null    category      \n",
      " 25  domain               393 non-null    category      \n",
      "dtypes: Int64(1), bool(1), boolean(3), category(9), datetime64[ns](4), object(8)\n",
      "memory usage: 64.7+ KB\n"
     ]
    }
   ],
   "source": [
    "df_corrected = df_corrected.astype(\n",
    "    {\n",
    "        # ClinicalTrial\n",
    "        'OverallStatus': 'category',\n",
    "        'StudyType': 'category',\n",
    "        'type': 'category',\n",
    "\n",
    "        'pmid': 'Int64',\n",
    "\n",
    "        'StudyFirstPostDate': 'datetime64[ns]',\n",
    "        'StartDate': 'datetime64[ns]',\n",
    "        'CompletionDate': 'datetime64[ns]',\n",
    "\n",
    "        # Unpaywall\n",
    "        'is_paratext': 'boolean',\n",
    "        'published_date': 'datetime64[ns]',\n",
    "        'is_oa': 'boolean',\n",
    "        'oa_status': 'category',\n",
    "        'has_repository_copy': 'boolean',\n",
    "\n",
    "        # OpenAlex\n",
    "        'type_openalex': 'category',\n",
    "        'primary_topic': 'category',\n",
    "        'subfield': 'category',\n",
    "        'field': 'category',\n",
    "        'domain': 'category',\n",
    "    }\n",
    ")  # fmt: skip\n",
    "# df_corrected = df_extract.convert_dtypes()\n",
    "df_corrected.info()"
   ]
  },
  {
   "cell_type": "code",
   "execution_count": null,
   "id": "31ecb4d2-514c-475f-8eac-47b1aa09b449",
   "metadata": {},
   "outputs": [],
   "source": []
  },
  {
   "cell_type": "markdown",
   "id": "3dfc8567-f02f-4b2e-80c2-224dfa5e467f",
   "metadata": {},
   "source": [
    "On incorpore les données du traitement manuel dans notre dataframe  :"
   ]
  },
  {
   "cell_type": "code",
   "execution_count": 8,
   "id": "0e0f2424-dc9a-41fd-9fa2-61e63b2095f2",
   "metadata": {},
   "outputs": [],
   "source": [
    "df_complete = df_corrected.merge(\n",
    "    df_from_excel.loc[:, ['NCTId', 'pmid', 'type_de_publication']],\n",
    "    on=['NCTId', 'pmid'],\n",
    "    how='left',\n",
    "    validate='one_to_one',\n",
    ")"
   ]
  },
  {
   "cell_type": "code",
   "execution_count": 9,
   "id": "29ad60a6-4679-4d77-ad04-5d0d0414f868",
   "metadata": {},
   "outputs": [
    {
     "data": {
      "text/html": [
       "<div>\n",
       "<style scoped>\n",
       "    .dataframe tbody tr th:only-of-type {\n",
       "        vertical-align: middle;\n",
       "    }\n",
       "\n",
       "    .dataframe tbody tr th {\n",
       "        vertical-align: top;\n",
       "    }\n",
       "\n",
       "    .dataframe thead th {\n",
       "        text-align: right;\n",
       "    }\n",
       "</style>\n",
       "<table border=\"1\" class=\"dataframe\">\n",
       "  <thead>\n",
       "    <tr style=\"text-align: right;\">\n",
       "      <th></th>\n",
       "      <th>NCTId</th>\n",
       "      <th>pmid</th>\n",
       "      <th>type</th>\n",
       "      <th>type_de_publication</th>\n",
       "    </tr>\n",
       "  </thead>\n",
       "  <tbody>\n",
       "    <tr>\n",
       "      <th>0</th>\n",
       "      <td>NCT02592174</td>\n",
       "      <td>31755936</td>\n",
       "      <td>DERIVED</td>\n",
       "      <td>publication</td>\n",
       "    </tr>\n",
       "    <tr>\n",
       "      <th>1</th>\n",
       "      <td>NCT02273765</td>\n",
       "      <td>33667406</td>\n",
       "      <td>DERIVED</td>\n",
       "      <td>publication</td>\n",
       "    </tr>\n",
       "    <tr>\n",
       "      <th>2</th>\n",
       "      <td>NCT05311865</td>\n",
       "      <td>36438274</td>\n",
       "      <td>PUBMED</td>\n",
       "      <td>protocole</td>\n",
       "    </tr>\n",
       "    <tr>\n",
       "      <th>3</th>\n",
       "      <td>NCT05311865</td>\n",
       "      <td>37795682</td>\n",
       "      <td>PUBMED</td>\n",
       "      <td>publication</td>\n",
       "    </tr>\n",
       "    <tr>\n",
       "      <th>4</th>\n",
       "      <td>NCT02107365</td>\n",
       "      <td>&lt;NA&gt;</td>\n",
       "      <td>NaN</td>\n",
       "      <td>NaN</td>\n",
       "    </tr>\n",
       "    <tr>\n",
       "      <th>...</th>\n",
       "      <td>...</td>\n",
       "      <td>...</td>\n",
       "      <td>...</td>\n",
       "      <td>...</td>\n",
       "    </tr>\n",
       "    <tr>\n",
       "      <th>495</th>\n",
       "      <td>NCT02481453</td>\n",
       "      <td>20413309</td>\n",
       "      <td>BACKGROUND</td>\n",
       "      <td>background</td>\n",
       "    </tr>\n",
       "    <tr>\n",
       "      <th>496</th>\n",
       "      <td>NCT02481453</td>\n",
       "      <td>24975859</td>\n",
       "      <td>BACKGROUND</td>\n",
       "      <td>background</td>\n",
       "    </tr>\n",
       "    <tr>\n",
       "      <th>497</th>\n",
       "      <td>NCT02481453</td>\n",
       "      <td>38273639</td>\n",
       "      <td>PUBMED</td>\n",
       "      <td>résultat négatif</td>\n",
       "    </tr>\n",
       "    <tr>\n",
       "      <th>498</th>\n",
       "      <td>NCT02658253</td>\n",
       "      <td>33717176</td>\n",
       "      <td>DERIVED</td>\n",
       "      <td>publication</td>\n",
       "    </tr>\n",
       "    <tr>\n",
       "      <th>499</th>\n",
       "      <td>NCT02658253</td>\n",
       "      <td>32032566</td>\n",
       "      <td>DERIVED</td>\n",
       "      <td>publication</td>\n",
       "    </tr>\n",
       "  </tbody>\n",
       "</table>\n",
       "<p>500 rows × 4 columns</p>\n",
       "</div>"
      ],
      "text/plain": [
       "           NCTId      pmid        type type_de_publication\n",
       "0    NCT02592174  31755936     DERIVED         publication\n",
       "1    NCT02273765  33667406     DERIVED         publication\n",
       "2    NCT05311865  36438274      PUBMED           protocole\n",
       "3    NCT05311865  37795682      PUBMED         publication\n",
       "4    NCT02107365      <NA>         NaN                 NaN\n",
       "..           ...       ...         ...                 ...\n",
       "495  NCT02481453  20413309  BACKGROUND          background\n",
       "496  NCT02481453  24975859  BACKGROUND          background\n",
       "497  NCT02481453  38273639      PUBMED    résultat négatif\n",
       "498  NCT02658253  33717176     DERIVED         publication\n",
       "499  NCT02658253  32032566     DERIVED         publication\n",
       "\n",
       "[500 rows x 4 columns]"
      ]
     },
     "execution_count": 9,
     "metadata": {},
     "output_type": "execute_result"
    }
   ],
   "source": [
    "df_complete.loc[:, ['NCTId', 'pmid', 'type', 'type_de_publication']]"
   ]
  },
  {
   "cell_type": "code",
   "execution_count": null,
   "id": "47f3d323-9a60-408f-8640-f37ecca0dd3c",
   "metadata": {},
   "outputs": [],
   "source": []
  },
  {
   "cell_type": "markdown",
   "id": "bb7be8c2-03ad-4794-a0bc-9b911713e38d",
   "metadata": {},
   "source": [
    "Pour chaque étude clinique, on cherche à savoir si elle a donné lieu a la publication d'un résultat.  \n",
    "Donc pour chaque 'type_de_publication' issu du traitement manuel, on le répartit dans l'une des deux catégories :\n",
    "\n",
    "- Résultat :\n",
    "    + publication\n",
    "    + résultat négatif\n",
    "    + méta-analyse\n",
    "- Non Résultat:\n",
    "    + background\n",
    "    + protocole\n",
    "    + autre (commentaire, lettre, erratum...)\n"
   ]
  },
  {
   "cell_type": "code",
   "execution_count": 10,
   "id": "66f8f913-2168-4246-aad9-5b81d6b05aac",
   "metadata": {},
   "outputs": [],
   "source": [
    "mask_is_result = df_complete.loc[:, 'type_de_publication'].isin(['publication', 'résultat négatif', 'méta-analyse'])\n",
    "df_complete.loc[mask_is_result, 'is_result'] = True\n",
    "\n",
    "mask_not_result = df_complete.loc[:, 'type_de_publication'].isin(['background', 'protocole', 'autre'])\n",
    "df_complete.loc[mask_not_result, 'is_result'] = False\n",
    "\n",
    "df_complete['is_result'] = df_complete['is_result'].astype('boolean')"
   ]
  },
  {
   "cell_type": "code",
   "execution_count": 11,
   "id": "30075d11-028b-4346-addc-3646bbc70f67",
   "metadata": {},
   "outputs": [
    {
     "data": {
      "text/html": [
       "<div>\n",
       "<style scoped>\n",
       "    .dataframe tbody tr th:only-of-type {\n",
       "        vertical-align: middle;\n",
       "    }\n",
       "\n",
       "    .dataframe tbody tr th {\n",
       "        vertical-align: top;\n",
       "    }\n",
       "\n",
       "    .dataframe thead th {\n",
       "        text-align: right;\n",
       "    }\n",
       "</style>\n",
       "<table border=\"1\" class=\"dataframe\">\n",
       "  <thead>\n",
       "    <tr style=\"text-align: right;\">\n",
       "      <th></th>\n",
       "      <th>NCTId</th>\n",
       "      <th>type_de_publication</th>\n",
       "      <th>is_result</th>\n",
       "    </tr>\n",
       "  </thead>\n",
       "  <tbody>\n",
       "    <tr>\n",
       "      <th>0</th>\n",
       "      <td>NCT02592174</td>\n",
       "      <td>publication</td>\n",
       "      <td>True</td>\n",
       "    </tr>\n",
       "    <tr>\n",
       "      <th>1</th>\n",
       "      <td>NCT02273765</td>\n",
       "      <td>publication</td>\n",
       "      <td>True</td>\n",
       "    </tr>\n",
       "    <tr>\n",
       "      <th>2</th>\n",
       "      <td>NCT05311865</td>\n",
       "      <td>protocole</td>\n",
       "      <td>False</td>\n",
       "    </tr>\n",
       "    <tr>\n",
       "      <th>3</th>\n",
       "      <td>NCT05311865</td>\n",
       "      <td>publication</td>\n",
       "      <td>True</td>\n",
       "    </tr>\n",
       "    <tr>\n",
       "      <th>4</th>\n",
       "      <td>NCT02107365</td>\n",
       "      <td>NaN</td>\n",
       "      <td>&lt;NA&gt;</td>\n",
       "    </tr>\n",
       "    <tr>\n",
       "      <th>...</th>\n",
       "      <td>...</td>\n",
       "      <td>...</td>\n",
       "      <td>...</td>\n",
       "    </tr>\n",
       "    <tr>\n",
       "      <th>495</th>\n",
       "      <td>NCT02481453</td>\n",
       "      <td>background</td>\n",
       "      <td>False</td>\n",
       "    </tr>\n",
       "    <tr>\n",
       "      <th>496</th>\n",
       "      <td>NCT02481453</td>\n",
       "      <td>background</td>\n",
       "      <td>False</td>\n",
       "    </tr>\n",
       "    <tr>\n",
       "      <th>497</th>\n",
       "      <td>NCT02481453</td>\n",
       "      <td>résultat négatif</td>\n",
       "      <td>True</td>\n",
       "    </tr>\n",
       "    <tr>\n",
       "      <th>498</th>\n",
       "      <td>NCT02658253</td>\n",
       "      <td>publication</td>\n",
       "      <td>True</td>\n",
       "    </tr>\n",
       "    <tr>\n",
       "      <th>499</th>\n",
       "      <td>NCT02658253</td>\n",
       "      <td>publication</td>\n",
       "      <td>True</td>\n",
       "    </tr>\n",
       "  </tbody>\n",
       "</table>\n",
       "<p>500 rows × 3 columns</p>\n",
       "</div>"
      ],
      "text/plain": [
       "           NCTId type_de_publication  is_result\n",
       "0    NCT02592174         publication       True\n",
       "1    NCT02273765         publication       True\n",
       "2    NCT05311865           protocole      False\n",
       "3    NCT05311865         publication       True\n",
       "4    NCT02107365                 NaN       <NA>\n",
       "..           ...                 ...        ...\n",
       "495  NCT02481453          background      False\n",
       "496  NCT02481453          background      False\n",
       "497  NCT02481453    résultat négatif       True\n",
       "498  NCT02658253         publication       True\n",
       "499  NCT02658253         publication       True\n",
       "\n",
       "[500 rows x 3 columns]"
      ]
     },
     "execution_count": 11,
     "metadata": {},
     "output_type": "execute_result"
    }
   ],
   "source": [
    "df_complete.loc[:, ['NCTId', 'type_de_publication', 'is_result']]"
   ]
  },
  {
   "cell_type": "code",
   "execution_count": 12,
   "id": "8a546f37-4b95-4224-81e2-da096fa9505b",
   "metadata": {},
   "outputs": [
    {
     "data": {
      "text/plain": [
       "is_result\n",
       "True     255\n",
       "False    139\n",
       "<NA>     106\n",
       "Name: count, dtype: Int64"
      ]
     },
     "execution_count": 12,
     "metadata": {},
     "output_type": "execute_result"
    }
   ],
   "source": [
    "df_complete.loc[:, 'is_result'].value_counts(dropna=False)"
   ]
  },
  {
   "cell_type": "code",
   "execution_count": null,
   "id": "1813a5ce-59a2-42cb-8aae-9d73e8e091d2",
   "metadata": {},
   "outputs": [],
   "source": []
  },
  {
   "cell_type": "markdown",
   "id": "d642a385-1093-4b65-8615-51bff0cab0d0",
   "metadata": {},
   "source": [
    "## Correlation entre le 'type' ClinicalTrial et le 'type' du traitement manuel :"
   ]
  },
  {
   "cell_type": "markdown",
   "id": "60aa62f5-8574-4250-8487-2f97abb04bb4",
   "metadata": {},
   "source": [
    "On cherche a comparer la correlation des types renvoyés par ClinicalTrial ('RESULT', 'BACKGROUND', ...) et les types déterminés à l'issu du traitement manuel ('publication', 'background' ...).  \n",
    "Est-ce que les résultats concordent ?  \n",
    "Si la correlation est très forte, peut-on se passer du traitement manuel et faire uniquement confiance aux types renvoyés par CT ? "
   ]
  },
  {
   "cell_type": "code",
   "execution_count": 13,
   "id": "31a94f84-e543-46e1-bc12-0eef98717ff5",
   "metadata": {},
   "outputs": [
    {
     "data": {
      "text/plain": [
       "type\n",
       "DERIVED       142\n",
       "BACKGROUND    110\n",
       "RESULT         89\n",
       "PUBMED         31\n",
       "SUSPICIOUS     22\n",
       "Name: count, dtype: int64"
      ]
     },
     "execution_count": 13,
     "metadata": {},
     "output_type": "execute_result"
    }
   ],
   "source": [
    "count_type_ct = df_complete.loc[:, 'type'].value_counts()\n",
    "count_type_ct"
   ]
  },
  {
   "cell_type": "code",
   "execution_count": 14,
   "id": "bc42e9da-c930-4834-860e-c1a7e38075d3",
   "metadata": {},
   "outputs": [
    {
     "data": {
      "text/plain": [
       "type_de_publication\n",
       "publication         233\n",
       "background          113\n",
       "protocole            19\n",
       "résultat négatif     17\n",
       "autre                 7\n",
       "méta-analyse          5\n",
       "Name: count, dtype: int64"
      ]
     },
     "execution_count": 14,
     "metadata": {},
     "output_type": "execute_result"
    }
   ],
   "source": [
    "count_type_manual = df_complete.loc[:, 'type_de_publication'].value_counts()\n",
    "count_type_manual"
   ]
  },
  {
   "cell_type": "code",
   "execution_count": 15,
   "id": "dc989e96-380d-4a9c-b5d5-5db6c296a0a6",
   "metadata": {},
   "outputs": [
    {
     "data": {
      "text/html": [
       "<div>\n",
       "<style scoped>\n",
       "    .dataframe tbody tr th:only-of-type {\n",
       "        vertical-align: middle;\n",
       "    }\n",
       "\n",
       "    .dataframe tbody tr th {\n",
       "        vertical-align: top;\n",
       "    }\n",
       "\n",
       "    .dataframe thead th {\n",
       "        text-align: right;\n",
       "    }\n",
       "</style>\n",
       "<table border=\"1\" class=\"dataframe\">\n",
       "  <thead>\n",
       "    <tr style=\"text-align: right;\">\n",
       "      <th></th>\n",
       "      <th>type</th>\n",
       "      <th>type_de_publication</th>\n",
       "    </tr>\n",
       "  </thead>\n",
       "  <tbody>\n",
       "    <tr>\n",
       "      <th>0</th>\n",
       "      <td>DERIVED</td>\n",
       "      <td>publication</td>\n",
       "    </tr>\n",
       "    <tr>\n",
       "      <th>1</th>\n",
       "      <td>DERIVED</td>\n",
       "      <td>publication</td>\n",
       "    </tr>\n",
       "    <tr>\n",
       "      <th>2</th>\n",
       "      <td>PUBMED</td>\n",
       "      <td>protocole</td>\n",
       "    </tr>\n",
       "    <tr>\n",
       "      <th>3</th>\n",
       "      <td>PUBMED</td>\n",
       "      <td>publication</td>\n",
       "    </tr>\n",
       "    <tr>\n",
       "      <th>4</th>\n",
       "      <td>NaN</td>\n",
       "      <td>NaN</td>\n",
       "    </tr>\n",
       "    <tr>\n",
       "      <th>...</th>\n",
       "      <td>...</td>\n",
       "      <td>...</td>\n",
       "    </tr>\n",
       "    <tr>\n",
       "      <th>495</th>\n",
       "      <td>BACKGROUND</td>\n",
       "      <td>background</td>\n",
       "    </tr>\n",
       "    <tr>\n",
       "      <th>496</th>\n",
       "      <td>BACKGROUND</td>\n",
       "      <td>background</td>\n",
       "    </tr>\n",
       "    <tr>\n",
       "      <th>497</th>\n",
       "      <td>PUBMED</td>\n",
       "      <td>résultat négatif</td>\n",
       "    </tr>\n",
       "    <tr>\n",
       "      <th>498</th>\n",
       "      <td>DERIVED</td>\n",
       "      <td>publication</td>\n",
       "    </tr>\n",
       "    <tr>\n",
       "      <th>499</th>\n",
       "      <td>DERIVED</td>\n",
       "      <td>publication</td>\n",
       "    </tr>\n",
       "  </tbody>\n",
       "</table>\n",
       "<p>500 rows × 2 columns</p>\n",
       "</div>"
      ],
      "text/plain": [
       "           type type_de_publication\n",
       "0       DERIVED         publication\n",
       "1       DERIVED         publication\n",
       "2        PUBMED           protocole\n",
       "3        PUBMED         publication\n",
       "4           NaN                 NaN\n",
       "..          ...                 ...\n",
       "495  BACKGROUND          background\n",
       "496  BACKGROUND          background\n",
       "497      PUBMED    résultat négatif\n",
       "498     DERIVED         publication\n",
       "499     DERIVED         publication\n",
       "\n",
       "[500 rows x 2 columns]"
      ]
     },
     "execution_count": 15,
     "metadata": {},
     "output_type": "execute_result"
    }
   ],
   "source": [
    "df_complete.loc[:, ['type','type_de_publication']]"
   ]
  },
  {
   "cell_type": "markdown",
   "id": "c2b2e9d0-4ae4-49c6-86b3-0911ec373e46",
   "metadata": {},
   "source": [
    "### Pivot tables :"
   ]
  },
  {
   "cell_type": "code",
   "execution_count": 16,
   "id": "58366c5a-c58d-4b39-a817-39dccbda5617",
   "metadata": {},
   "outputs": [
    {
     "data": {
      "text/html": [
       "<div>\n",
       "<style scoped>\n",
       "    .dataframe tbody tr th:only-of-type {\n",
       "        vertical-align: middle;\n",
       "    }\n",
       "\n",
       "    .dataframe tbody tr th {\n",
       "        vertical-align: top;\n",
       "    }\n",
       "\n",
       "    .dataframe thead th {\n",
       "        text-align: right;\n",
       "    }\n",
       "</style>\n",
       "<table border=\"1\" class=\"dataframe\">\n",
       "  <thead>\n",
       "    <tr style=\"text-align: right;\">\n",
       "      <th>type_de_publication</th>\n",
       "      <th>publication</th>\n",
       "      <th>background</th>\n",
       "      <th>protocole</th>\n",
       "      <th>résultat négatif</th>\n",
       "      <th>autre</th>\n",
       "      <th>méta-analyse</th>\n",
       "    </tr>\n",
       "    <tr>\n",
       "      <th>type</th>\n",
       "      <th></th>\n",
       "      <th></th>\n",
       "      <th></th>\n",
       "      <th></th>\n",
       "      <th></th>\n",
       "      <th></th>\n",
       "    </tr>\n",
       "  </thead>\n",
       "  <tbody>\n",
       "    <tr>\n",
       "      <th>DERIVED</th>\n",
       "      <td>110</td>\n",
       "      <td>1</td>\n",
       "      <td>12</td>\n",
       "      <td>14</td>\n",
       "      <td>2</td>\n",
       "      <td>3</td>\n",
       "    </tr>\n",
       "    <tr>\n",
       "      <th>BACKGROUND</th>\n",
       "      <td>13</td>\n",
       "      <td>88</td>\n",
       "      <td>6</td>\n",
       "      <td>0</td>\n",
       "      <td>2</td>\n",
       "      <td>1</td>\n",
       "    </tr>\n",
       "    <tr>\n",
       "      <th>RESULT</th>\n",
       "      <td>82</td>\n",
       "      <td>3</td>\n",
       "      <td>0</td>\n",
       "      <td>1</td>\n",
       "      <td>3</td>\n",
       "      <td>0</td>\n",
       "    </tr>\n",
       "    <tr>\n",
       "      <th>PUBMED</th>\n",
       "      <td>27</td>\n",
       "      <td>0</td>\n",
       "      <td>1</td>\n",
       "      <td>2</td>\n",
       "      <td>0</td>\n",
       "      <td>1</td>\n",
       "    </tr>\n",
       "    <tr>\n",
       "      <th>SUSPICIOUS</th>\n",
       "      <td>1</td>\n",
       "      <td>21</td>\n",
       "      <td>0</td>\n",
       "      <td>0</td>\n",
       "      <td>0</td>\n",
       "      <td>0</td>\n",
       "    </tr>\n",
       "  </tbody>\n",
       "</table>\n",
       "</div>"
      ],
      "text/plain": [
       "type_de_publication  publication  background  protocole  résultat négatif  \\\n",
       "type                                                                        \n",
       "DERIVED                      110           1         12                14   \n",
       "BACKGROUND                    13          88          6                 0   \n",
       "RESULT                        82           3          0                 1   \n",
       "PUBMED                        27           0          1                 2   \n",
       "SUSPICIOUS                     1          21          0                 0   \n",
       "\n",
       "type_de_publication  autre  méta-analyse  \n",
       "type                                      \n",
       "DERIVED                  2             3  \n",
       "BACKGROUND               2             1  \n",
       "RESULT                   3             0  \n",
       "PUBMED                   0             1  \n",
       "SUSPICIOUS               0             0  "
      ]
     },
     "execution_count": 16,
     "metadata": {},
     "output_type": "execute_result"
    }
   ],
   "source": [
    "df_correlation = pd.pivot_table(\n",
    "    df_complete,\n",
    "    index='type',\n",
    "    columns='type_de_publication',\n",
    "    aggfunc='size',\n",
    "    observed=False,\n",
    ")\n",
    "\n",
    "index_order = count_type_ct.index.values\n",
    "column_order = count_type_manual.index.values\n",
    "df_correlation = df_correlation.reindex(index=index_order, columns=column_order)\n",
    "df_correlation"
   ]
  },
  {
   "cell_type": "code",
   "execution_count": 17,
   "id": "86eca84f-9fa1-4e76-ab7a-3cee07673bf8",
   "metadata": {},
   "outputs": [
    {
     "data": {
      "text/html": [
       "<div>\n",
       "<style scoped>\n",
       "    .dataframe tbody tr th:only-of-type {\n",
       "        vertical-align: middle;\n",
       "    }\n",
       "\n",
       "    .dataframe tbody tr th {\n",
       "        vertical-align: top;\n",
       "    }\n",
       "\n",
       "    .dataframe thead th {\n",
       "        text-align: right;\n",
       "    }\n",
       "</style>\n",
       "<table border=\"1\" class=\"dataframe\">\n",
       "  <thead>\n",
       "    <tr style=\"text-align: right;\">\n",
       "      <th>type_de_publication</th>\n",
       "      <th>publication</th>\n",
       "      <th>background</th>\n",
       "      <th>protocole</th>\n",
       "      <th>résultat négatif</th>\n",
       "      <th>autre</th>\n",
       "      <th>méta-analyse</th>\n",
       "    </tr>\n",
       "    <tr>\n",
       "      <th>type</th>\n",
       "      <th></th>\n",
       "      <th></th>\n",
       "      <th></th>\n",
       "      <th></th>\n",
       "      <th></th>\n",
       "      <th></th>\n",
       "    </tr>\n",
       "  </thead>\n",
       "  <tbody>\n",
       "    <tr>\n",
       "      <th>DERIVED</th>\n",
       "      <td>0.774648</td>\n",
       "      <td>0.007042</td>\n",
       "      <td>0.084507</td>\n",
       "      <td>0.098592</td>\n",
       "      <td>0.014085</td>\n",
       "      <td>0.021127</td>\n",
       "    </tr>\n",
       "    <tr>\n",
       "      <th>BACKGROUND</th>\n",
       "      <td>0.118182</td>\n",
       "      <td>0.800000</td>\n",
       "      <td>0.054545</td>\n",
       "      <td>0.000000</td>\n",
       "      <td>0.018182</td>\n",
       "      <td>0.009091</td>\n",
       "    </tr>\n",
       "    <tr>\n",
       "      <th>RESULT</th>\n",
       "      <td>0.921348</td>\n",
       "      <td>0.033708</td>\n",
       "      <td>0.000000</td>\n",
       "      <td>0.011236</td>\n",
       "      <td>0.033708</td>\n",
       "      <td>0.000000</td>\n",
       "    </tr>\n",
       "    <tr>\n",
       "      <th>PUBMED</th>\n",
       "      <td>0.870968</td>\n",
       "      <td>0.000000</td>\n",
       "      <td>0.032258</td>\n",
       "      <td>0.064516</td>\n",
       "      <td>0.000000</td>\n",
       "      <td>0.032258</td>\n",
       "    </tr>\n",
       "    <tr>\n",
       "      <th>SUSPICIOUS</th>\n",
       "      <td>0.045455</td>\n",
       "      <td>0.954545</td>\n",
       "      <td>0.000000</td>\n",
       "      <td>0.000000</td>\n",
       "      <td>0.000000</td>\n",
       "      <td>0.000000</td>\n",
       "    </tr>\n",
       "  </tbody>\n",
       "</table>\n",
       "</div>"
      ],
      "text/plain": [
       "type_de_publication  publication  background  protocole  résultat négatif  \\\n",
       "type                                                                        \n",
       "DERIVED                 0.774648    0.007042   0.084507          0.098592   \n",
       "BACKGROUND              0.118182    0.800000   0.054545          0.000000   \n",
       "RESULT                  0.921348    0.033708   0.000000          0.011236   \n",
       "PUBMED                  0.870968    0.000000   0.032258          0.064516   \n",
       "SUSPICIOUS              0.045455    0.954545   0.000000          0.000000   \n",
       "\n",
       "type_de_publication     autre  méta-analyse  \n",
       "type                                         \n",
       "DERIVED              0.014085      0.021127  \n",
       "BACKGROUND           0.018182      0.009091  \n",
       "RESULT               0.033708      0.000000  \n",
       "PUBMED               0.000000      0.032258  \n",
       "SUSPICIOUS           0.000000      0.000000  "
      ]
     },
     "execution_count": 17,
     "metadata": {},
     "output_type": "execute_result"
    }
   ],
   "source": [
    "df_correlation_perc = pd.crosstab(\n",
    "    index=df_corrected.loc[:,'type'],\n",
    "    columns=df_complete.loc[:,'type_de_publication'],\n",
    "    normalize= 'index',\n",
    "    # aggfunc='size',\n",
    "    # fill_value=0,\n",
    "    # observed=False,\n",
    ")\n",
    "df_correlation_perc = df_correlation_perc.reindex(index=index_order, columns=column_order)\n",
    "df_correlation_perc"
   ]
  },
  {
   "cell_type": "markdown",
   "id": "0e9514e0-b5fc-4fe6-899c-ab18468dc096",
   "metadata": {},
   "source": [
    "### Heatmaps :"
   ]
  },
  {
   "cell_type": "markdown",
   "id": "07fc611a-5c4b-4fad-8098-2532233f1a9a",
   "metadata": {},
   "source": [
    "#### Effectifs :"
   ]
  },
  {
   "cell_type": "code",
   "execution_count": 18,
   "id": "90888731-1f6a-450b-8b2b-99a9b0eb8cc4",
   "metadata": {},
   "outputs": [
    {
     "data": {
      "text/plain": [
       "<Axes: xlabel='type_de_publication', ylabel='type'>"
      ]
     },
     "execution_count": 18,
     "metadata": {},
     "output_type": "execute_result"
    },
    {
     "data": {
      "image/png": "[encoded data removed]",
      "text/plain": [
       "<Figure size 640x480 with 2 Axes>"
      ]
     },
     "metadata": {},
     "output_type": "display_data"
    }
   ],
   "source": [
    "sns.heatmap(\n",
    "    df_correlation, \n",
    "    annot =True,\n",
    "    linewidth=.4,\n",
    "    fmt='d'\n",
    ")"
   ]
  },
  {
   "cell_type": "markdown",
   "id": "02f6c6b1-e3c8-4388-af87-29efcc8f4447",
   "metadata": {},
   "source": [
    "#### Pourcentages :"
   ]
  },
  {
   "cell_type": "code",
   "execution_count": 19,
   "id": "c27f3827-bc72-4904-b3b7-7d92c9d9212c",
   "metadata": {},
   "outputs": [
    {
     "data": {
      "text/plain": [
       "<Axes: xlabel='type_de_publication', ylabel='type'>"
      ]
     },
     "execution_count": 19,
     "metadata": {},
     "output_type": "execute_result"
    },
    {
     "data": {
      "image/png": "[encoded data removed]",
      "text/plain": [
       "<Figure size 640x480 with 2 Axes>"
      ]
     },
     "metadata": {},
     "output_type": "display_data"
    }
   ],
   "source": [
    "sns.heatmap(\n",
    "    df_correlation_perc, \n",
    "    annot=True,\n",
    "    linewidth=.4,\n",
    ")"
   ]
  },
  {
   "cell_type": "markdown",
   "id": "d4aab448-d7b9-4cee-9abb-eeae87e53b92",
   "metadata": {},
   "source": [
    "Les 'types' où la correlation est la plus faible sont malheuresement les types où l'effectif est le plus important."
   ]
  },
  {
   "cell_type": "markdown",
   "id": "d87e806a-3ac5-4003-aad1-9c38e4c32137",
   "metadata": {},
   "source": [
    "## Correlation entre le 'type' ClinicalTrial et 'is_result' du traitement manuel :"
   ]
  },
  {
   "cell_type": "code",
   "execution_count": 20,
   "id": "a3d8ab0e-a8ab-4abb-be33-13ff787cb503",
   "metadata": {},
   "outputs": [
    {
     "data": {
      "text/html": [
       "<div>\n",
       "<style scoped>\n",
       "    .dataframe tbody tr th:only-of-type {\n",
       "        vertical-align: middle;\n",
       "    }\n",
       "\n",
       "    .dataframe tbody tr th {\n",
       "        vertical-align: top;\n",
       "    }\n",
       "\n",
       "    .dataframe thead th {\n",
       "        text-align: right;\n",
       "    }\n",
       "</style>\n",
       "<table border=\"1\" class=\"dataframe\">\n",
       "  <thead>\n",
       "    <tr style=\"text-align: right;\">\n",
       "      <th></th>\n",
       "      <th>type</th>\n",
       "      <th>is_result</th>\n",
       "    </tr>\n",
       "  </thead>\n",
       "  <tbody>\n",
       "    <tr>\n",
       "      <th>0</th>\n",
       "      <td>DERIVED</td>\n",
       "      <td>True</td>\n",
       "    </tr>\n",
       "    <tr>\n",
       "      <th>1</th>\n",
       "      <td>DERIVED</td>\n",
       "      <td>True</td>\n",
       "    </tr>\n",
       "    <tr>\n",
       "      <th>2</th>\n",
       "      <td>PUBMED</td>\n",
       "      <td>False</td>\n",
       "    </tr>\n",
       "    <tr>\n",
       "      <th>3</th>\n",
       "      <td>PUBMED</td>\n",
       "      <td>True</td>\n",
       "    </tr>\n",
       "    <tr>\n",
       "      <th>4</th>\n",
       "      <td>NaN</td>\n",
       "      <td>&lt;NA&gt;</td>\n",
       "    </tr>\n",
       "    <tr>\n",
       "      <th>...</th>\n",
       "      <td>...</td>\n",
       "      <td>...</td>\n",
       "    </tr>\n",
       "    <tr>\n",
       "      <th>495</th>\n",
       "      <td>BACKGROUND</td>\n",
       "      <td>False</td>\n",
       "    </tr>\n",
       "    <tr>\n",
       "      <th>496</th>\n",
       "      <td>BACKGROUND</td>\n",
       "      <td>False</td>\n",
       "    </tr>\n",
       "    <tr>\n",
       "      <th>497</th>\n",
       "      <td>PUBMED</td>\n",
       "      <td>True</td>\n",
       "    </tr>\n",
       "    <tr>\n",
       "      <th>498</th>\n",
       "      <td>DERIVED</td>\n",
       "      <td>True</td>\n",
       "    </tr>\n",
       "    <tr>\n",
       "      <th>499</th>\n",
       "      <td>DERIVED</td>\n",
       "      <td>True</td>\n",
       "    </tr>\n",
       "  </tbody>\n",
       "</table>\n",
       "<p>500 rows × 2 columns</p>\n",
       "</div>"
      ],
      "text/plain": [
       "           type  is_result\n",
       "0       DERIVED       True\n",
       "1       DERIVED       True\n",
       "2        PUBMED      False\n",
       "3        PUBMED       True\n",
       "4           NaN       <NA>\n",
       "..          ...        ...\n",
       "495  BACKGROUND      False\n",
       "496  BACKGROUND      False\n",
       "497      PUBMED       True\n",
       "498     DERIVED       True\n",
       "499     DERIVED       True\n",
       "\n",
       "[500 rows x 2 columns]"
      ]
     },
     "execution_count": 20,
     "metadata": {},
     "output_type": "execute_result"
    }
   ],
   "source": [
    "df_complete.loc[:, ['type','is_result']]"
   ]
  },
  {
   "cell_type": "markdown",
   "id": "b2a05c0d-0053-4eda-a71d-b2229ddd0224",
   "metadata": {},
   "source": [
    "### Pivot tables :"
   ]
  },
  {
   "cell_type": "code",
   "execution_count": 21,
   "id": "9d87cedc-a001-454e-b385-07d1a68ba272",
   "metadata": {},
   "outputs": [
    {
     "data": {
      "text/html": [
       "<div>\n",
       "<style scoped>\n",
       "    .dataframe tbody tr th:only-of-type {\n",
       "        vertical-align: middle;\n",
       "    }\n",
       "\n",
       "    .dataframe tbody tr th {\n",
       "        vertical-align: top;\n",
       "    }\n",
       "\n",
       "    .dataframe thead th {\n",
       "        text-align: right;\n",
       "    }\n",
       "</style>\n",
       "<table border=\"1\" class=\"dataframe\">\n",
       "  <thead>\n",
       "    <tr style=\"text-align: right;\">\n",
       "      <th>is_result</th>\n",
       "      <th>False</th>\n",
       "      <th>True</th>\n",
       "    </tr>\n",
       "    <tr>\n",
       "      <th>type</th>\n",
       "      <th></th>\n",
       "      <th></th>\n",
       "    </tr>\n",
       "  </thead>\n",
       "  <tbody>\n",
       "    <tr>\n",
       "      <th>BACKGROUND</th>\n",
       "      <td>96</td>\n",
       "      <td>14</td>\n",
       "    </tr>\n",
       "    <tr>\n",
       "      <th>DERIVED</th>\n",
       "      <td>15</td>\n",
       "      <td>127</td>\n",
       "    </tr>\n",
       "    <tr>\n",
       "      <th>PUBMED</th>\n",
       "      <td>1</td>\n",
       "      <td>30</td>\n",
       "    </tr>\n",
       "    <tr>\n",
       "      <th>RESULT</th>\n",
       "      <td>6</td>\n",
       "      <td>83</td>\n",
       "    </tr>\n",
       "    <tr>\n",
       "      <th>SUSPICIOUS</th>\n",
       "      <td>21</td>\n",
       "      <td>1</td>\n",
       "    </tr>\n",
       "  </tbody>\n",
       "</table>\n",
       "</div>"
      ],
      "text/plain": [
       "is_result   False  True \n",
       "type                    \n",
       "BACKGROUND     96     14\n",
       "DERIVED        15    127\n",
       "PUBMED          1     30\n",
       "RESULT          6     83\n",
       "SUSPICIOUS     21      1"
      ]
     },
     "execution_count": 21,
     "metadata": {},
     "output_type": "execute_result"
    }
   ],
   "source": [
    "df_correlation_result = pd.pivot_table(\n",
    "    df_complete,\n",
    "    index='type',\n",
    "    columns='is_result',\n",
    "    aggfunc='size',\n",
    "    observed=False,\n",
    ")\n",
    "df_correlation_result"
   ]
  },
  {
   "cell_type": "code",
   "execution_count": 22,
   "id": "1a1f5181-1117-488e-84da-cafc88b10ce1",
   "metadata": {},
   "outputs": [
    {
     "data": {
      "text/html": [
       "<div>\n",
       "<style scoped>\n",
       "    .dataframe tbody tr th:only-of-type {\n",
       "        vertical-align: middle;\n",
       "    }\n",
       "\n",
       "    .dataframe tbody tr th {\n",
       "        vertical-align: top;\n",
       "    }\n",
       "\n",
       "    .dataframe thead th {\n",
       "        text-align: right;\n",
       "    }\n",
       "</style>\n",
       "<table border=\"1\" class=\"dataframe\">\n",
       "  <thead>\n",
       "    <tr style=\"text-align: right;\">\n",
       "      <th>is_result</th>\n",
       "      <th>False</th>\n",
       "      <th>True</th>\n",
       "    </tr>\n",
       "    <tr>\n",
       "      <th>type</th>\n",
       "      <th></th>\n",
       "      <th></th>\n",
       "    </tr>\n",
       "  </thead>\n",
       "  <tbody>\n",
       "    <tr>\n",
       "      <th>BACKGROUND</th>\n",
       "      <td>0.872727</td>\n",
       "      <td>0.127273</td>\n",
       "    </tr>\n",
       "    <tr>\n",
       "      <th>DERIVED</th>\n",
       "      <td>0.105634</td>\n",
       "      <td>0.894366</td>\n",
       "    </tr>\n",
       "    <tr>\n",
       "      <th>PUBMED</th>\n",
       "      <td>0.032258</td>\n",
       "      <td>0.967742</td>\n",
       "    </tr>\n",
       "    <tr>\n",
       "      <th>RESULT</th>\n",
       "      <td>0.067416</td>\n",
       "      <td>0.932584</td>\n",
       "    </tr>\n",
       "    <tr>\n",
       "      <th>SUSPICIOUS</th>\n",
       "      <td>0.954545</td>\n",
       "      <td>0.045455</td>\n",
       "    </tr>\n",
       "  </tbody>\n",
       "</table>\n",
       "</div>"
      ],
      "text/plain": [
       "is_result      False     True \n",
       "type                          \n",
       "BACKGROUND  0.872727  0.127273\n",
       "DERIVED     0.105634  0.894366\n",
       "PUBMED      0.032258  0.967742\n",
       "RESULT      0.067416  0.932584\n",
       "SUSPICIOUS  0.954545  0.045455"
      ]
     },
     "execution_count": 22,
     "metadata": {},
     "output_type": "execute_result"
    }
   ],
   "source": [
    "df_correlation_result_perc = pd.crosstab(\n",
    "    index=df_corrected.loc[:,'type'], \n",
    "    columns=df_complete.loc[:, 'is_result'],\n",
    "    normalize='index',\n",
    "    # aggfunc='size',\n",
    "    # fill_value=0,\n",
    "    # observed=False,\n",
    ")\n",
    "df_correlation_result_perc"
   ]
  },
  {
   "cell_type": "markdown",
   "id": "bc09010a-20e1-4385-bf09-936f3ac563cf",
   "metadata": {},
   "source": [
    "### Heatmaps :"
   ]
  },
  {
   "cell_type": "markdown",
   "id": "9fcdbecd-936d-447e-a98f-8a102649e114",
   "metadata": {},
   "source": [
    "#### Effectifs :"
   ]
  },
  {
   "cell_type": "code",
   "execution_count": 23,
   "id": "7fd5191b-f860-4114-839b-57d2c06e3c16",
   "metadata": {},
   "outputs": [
    {
     "data": {
      "text/plain": [
       "<Axes: xlabel='is_result', ylabel='type'>"
      ]
     },
     "execution_count": 23,
     "metadata": {},
     "output_type": "execute_result"
    },
    {
     "data": {
      "image/png": "[encoded data removed]",
      "text/plain": [
       "<Figure size 640x480 with 2 Axes>"
      ]
     },
     "metadata": {},
     "output_type": "display_data"
    }
   ],
   "source": [
    "sns.heatmap(\n",
    "    df_correlation_result, \n",
    "    annot=True,\n",
    "    linewidth=.4,\n",
    "    fmt='d'\n",
    ")"
   ]
  },
  {
   "cell_type": "markdown",
   "id": "8a9b4ae0-af67-4b38-82b3-e05ed046a471",
   "metadata": {},
   "source": [
    "#### Pourcentages :"
   ]
  },
  {
   "cell_type": "code",
   "execution_count": 24,
   "id": "e154b992-f670-46b1-8cc0-5d7d18514538",
   "metadata": {},
   "outputs": [
    {
     "data": {
      "text/plain": [
       "<Axes: xlabel='is_result', ylabel='type'>"
      ]
     },
     "execution_count": 24,
     "metadata": {},
     "output_type": "execute_result"
    },
    {
     "data": {
      "image/png": "[encoded data removed]",
      "text/plain": [
       "<Figure size 640x480 with 2 Axes>"
      ]
     },
     "metadata": {},
     "output_type": "display_data"
    }
   ],
   "source": [
    "sns.heatmap(\n",
    "    df_correlation_result_perc, \n",
    "    annot=True,\n",
    "    linewidth=.4,\n",
    ")"
   ]
  },
  {
   "cell_type": "markdown",
   "id": "8cc7701b-1f43-4d80-a981-12f69e5beac5",
   "metadata": {},
   "source": [
    "Les 'types' où la correlation est la plus faible sont malheuresement les types où l'effectif est le plus important."
   ]
  },
  {
   "cell_type": "code",
   "execution_count": null,
   "id": "5bea5b56-49bc-40d4-8a11-f761c82f4ca2",
   "metadata": {},
   "outputs": [],
   "source": []
  },
  {
   "cell_type": "markdown",
   "id": "21a120dd-70ff-4f06-9952-6801df7f20bc",
   "metadata": {},
   "source": [
    "## Sankey Diagram :"
   ]
  },
  {
   "cell_type": "code",
   "execution_count": 143,
   "id": "bf69b018-ac1a-41fb-8e41-8667359e1b19",
   "metadata": {},
   "outputs": [],
   "source": [
    "type_ct_list = list(count_type_ct.index.values)\n",
    "type_manual_list = list(count_type_manual.index.values)\n",
    "labels = (\n",
    "    ['Ensemble des publications']\n",
    "    + type_ct_list\n",
    "    + type_manual_list\n",
    "    + ['Résultat', 'Non résultat']\n",
    ")"
   ]
  },
  {
   "cell_type": "code",
   "execution_count": 141,
   "id": "6431dfe0-7b7c-417c-ad20-e561b4e1d060",
   "metadata": {},
   "outputs": [
    {
     "data": {
      "text/plain": [
       "{'Ensemble des publications': 0,\n",
       " 'DERIVED': 1,\n",
       " 'BACKGROUND': 2,\n",
       " 'RESULT': 3,\n",
       " 'PUBMED': 4,\n",
       " 'SUSPICIOUS': 5,\n",
       " 'publication': 6,\n",
       " 'background': 7,\n",
       " 'protocole': 8,\n",
       " 'résultat négatif': 9,\n",
       " 'autre': 10,\n",
       " 'méta-analyse': 11,\n",
       " 'Résultat': 12,\n",
       " 'Non résultat': 13}"
      ]
     },
     "execution_count": 141,
     "metadata": {},
     "output_type": "execute_result"
    }
   ],
   "source": [
    "# Associate a number to each label, so we can indicate the links between nodes in the Sankey diagram,\n",
    "# 0 -> 1, 0 -> 2, etc. \n",
    "# Kind of a dirty Enum\n",
    "# {'Ensemble ...': 0, 'DERIVED': 1, 'BACKGROUND': 2, ...}\n",
    "d = {t : i for i, t in enumerate(labels)}\n",
    "d"
   ]
  },
  {
   "cell_type": "code",
   "execution_count": 145,
   "id": "0b06ead0-d52c-4056-aa3a-8630d701b375",
   "metadata": {},
   "outputs": [
    {
     "data": {
      "application/vnd.plotly.v1+json": {
       "config": {
        "plotlyServerURL": "https://plot.ly"
       },
       "data": [
        {
         "link": {
          "hoverlabel": {
           "bgcolor": "#444"
          },
          "hovertemplate": "%{source.label} > %{target.label}",
          "source": [
           0,
           0,
           0,
           0,
           0,
           1,
           1,
           1,
           1,
           1,
           1,
           2,
           2,
           2,
           2,
           2,
           2,
           3,
           3,
           3,
           3,
           3,
           3,
           4,
           4,
           4,
           4,
           4,
           4,
           5,
           5,
           5,
           5,
           5,
           5,
           6,
           7,
           8,
           9,
           10,
           11
          ],
          "target": [
           1,
           2,
           3,
           4,
           5,
           6,
           7,
           8,
           9,
           10,
           11,
           6,
           7,
           8,
           9,
           10,
           11,
           6,
           7,
           8,
           9,
           10,
           11,
           6,
           7,
           8,
           9,
           10,
           11,
           6,
           7,
           8,
           9,
           10,
           11,
           12,
           13,
           13,
           12,
           13,
           12
          ],
          "value": [
           142,
           110,
           89,
           31,
           22,
           110,
           1,
           12,
           14,
           2,
           3,
           13,
           88,
           6,
           0,
           2,
           1,
           82,
           3,
           0,
           1,
           3,
           0,
           27,
           0,
           1,
           2,
           0,
           1,
           1,
           21,
           0,
           0,
           0,
           0,
           233,
           113,
           19,
           17,
           7,
           5
          ]
         },
         "node": {
          "hovertemplate": "%{label}:",
          "label": [
           "<b>Ensemble des publications</b>",
           "<b>DERIVED</b>",
           "<b>BACKGROUND</b>",
           "<b>RESULT</b>",
           "<b>PUBMED</b>",
           "<b>SUSPICIOUS</b>",
           "<b>publication</b>",
           "<b>background</b>",
           "<b>protocole</b>",
           "<b>résultat négatif</b>",
           "<b>autre</b>",
           "<b>méta-analyse</b>",
           "<b>Résultat</b>",
           "<b>Non résultat</b>"
          ]
         },
         "type": "sankey",
         "valueformat": "d",
         "valuesuffix": " publications"
        }
       ],
       "layout": {
        "autosize": true,
        "template": {
         "data": {
          "bar": [
           {
            "error_x": {
             "color": "#2a3f5f"
            },
            "error_y": {
             "color": "#2a3f5f"
            },
            "marker": {
             "line": {
              "color": "#E5ECF6",
              "width": 0.5
             },
             "pattern": {
              "fillmode": "overlay",
              "size": 10,
              "solidity": 0.2
             }
            },
            "type": "bar"
           }
          ],
          "barpolar": [
           {
            "marker": {
             "line": {
              "color": "#E5ECF6",
              "width": 0.5
             },
             "pattern": {
              "fillmode": "overlay",
              "size": 10,
              "solidity": 0.2
             }
            },
            "type": "barpolar"
           }
          ],
          "carpet": [
           {
            "aaxis": {
             "endlinecolor": "#2a3f5f",
             "gridcolor": "white",
             "linecolor": "white",
             "minorgridcolor": "white",
             "startlinecolor": "#2a3f5f"
            },
            "baxis": {
             "endlinecolor": "#2a3f5f",
             "gridcolor": "white",
             "linecolor": "white",
             "minorgridcolor": "white",
             "startlinecolor": "#2a3f5f"
            },
            "type": "carpet"
           }
          ],
          "choropleth": [
           {
            "colorbar": {
             "outlinewidth": 0,
             "ticks": ""
            },
            "type": "choropleth"
           }
          ],
          "contour": [
           {
            "colorbar": {
             "outlinewidth": 0,
             "ticks": ""
            },
            "colorscale": [
             [
              0,
              "#0d0887"
             ],
             [
              0.1111111111111111,
              "#46039f"
             ],
             [
              0.2222222222222222,
              "#7201a8"
             ],
             [
              0.3333333333333333,
              "#9c179e"
             ],
             [
              0.4444444444444444,
              "#bd3786"
             ],
             [
              0.5555555555555556,
              "#d8576b"
             ],
             [
              0.6666666666666666,
              "#ed7953"
             ],
             [
              0.7777777777777778,
              "#fb9f3a"
             ],
             [
              0.8888888888888888,
              "#fdca26"
             ],
             [
              1,
              "#f0f921"
             ]
            ],
            "type": "contour"
           }
          ],
          "contourcarpet": [
           {
            "colorbar": {
             "outlinewidth": 0,
             "ticks": ""
            },
            "type": "contourcarpet"
           }
          ],
          "heatmap": [
           {
            "colorbar": {
             "outlinewidth": 0,
             "ticks": ""
            },
            "colorscale": [
             [
              0,
              "#0d0887"
             ],
             [
              0.1111111111111111,
              "#46039f"
             ],
             [
              0.2222222222222222,
              "#7201a8"
             ],
             [
              0.3333333333333333,
              "#9c179e"
             ],
             [
              0.4444444444444444,
              "#bd3786"
             ],
             [
              0.5555555555555556,
              "#d8576b"
             ],
             [
              0.6666666666666666,
              "#ed7953"
             ],
             [
              0.7777777777777778,
              "#fb9f3a"
             ],
             [
              0.8888888888888888,
              "#fdca26"
             ],
             [
              1,
              "#f0f921"
             ]
            ],
            "type": "heatmap"
           }
          ],
          "heatmapgl": [
           {
            "colorbar": {
             "outlinewidth": 0,
             "ticks": ""
            },
            "colorscale": [
             [
              0,
              "#0d0887"
             ],
             [
              0.1111111111111111,
              "#46039f"
             ],
             [
              0.2222222222222222,
              "#7201a8"
             ],
             [
              0.3333333333333333,
              "#9c179e"
             ],
             [
              0.4444444444444444,
              "#bd3786"
             ],
             [
              0.5555555555555556,
              "#d8576b"
             ],
             [
              0.6666666666666666,
              "#ed7953"
             ],
             [
              0.7777777777777778,
              "#fb9f3a"
             ],
             [
              0.8888888888888888,
              "#fdca26"
             ],
             [
              1,
              "#f0f921"
             ]
            ],
            "type": "heatmapgl"
           }
          ],
          "histogram": [
           {
            "marker": {
             "pattern": {
              "fillmode": "overlay",
              "size": 10,
              "solidity": 0.2
             }
            },
            "type": "histogram"
           }
          ],
          "histogram2d": [
           {
            "colorbar": {
             "outlinewidth": 0,
             "ticks": ""
            },
            "colorscale": [
             [
              0,
              "#0d0887"
             ],
             [
              0.1111111111111111,
              "#46039f"
             ],
             [
              0.2222222222222222,
              "#7201a8"
             ],
             [
              0.3333333333333333,
              "#9c179e"
             ],
             [
              0.4444444444444444,
              "#bd3786"
             ],
             [
              0.5555555555555556,
              "#d8576b"
             ],
             [
              0.6666666666666666,
              "#ed7953"
             ],
             [
              0.7777777777777778,
              "#fb9f3a"
             ],
             [
              0.8888888888888888,
              "#fdca26"
             ],
             [
              1,
              "#f0f921"
             ]
            ],
            "type": "histogram2d"
           }
          ],
          "histogram2dcontour": [
           {
            "colorbar": {
             "outlinewidth": 0,
             "ticks": ""
            },
            "colorscale": [
             [
              0,
              "#0d0887"
             ],
             [
              0.1111111111111111,
              "#46039f"
             ],
             [
              0.2222222222222222,
              "#7201a8"
             ],
             [
              0.3333333333333333,
              "#9c179e"
             ],
             [
              0.4444444444444444,
              "#bd3786"
             ],
             [
              0.5555555555555556,
              "#d8576b"
             ],
             [
              0.6666666666666666,
              "#ed7953"
             ],
             [
              0.7777777777777778,
              "#fb9f3a"
             ],
             [
              0.8888888888888888,
              "#fdca26"
             ],
             [
              1,
              "#f0f921"
             ]
            ],
            "type": "histogram2dcontour"
           }
          ],
          "mesh3d": [
           {
            "colorbar": {
             "outlinewidth": 0,
             "ticks": ""
            },
            "type": "mesh3d"
           }
          ],
          "parcoords": [
           {
            "line": {
             "colorbar": {
              "outlinewidth": 0,
              "ticks": ""
             }
            },
            "type": "parcoords"
           }
          ],
          "pie": [
           {
            "automargin": true,
            "type": "pie"
           }
          ],
          "scatter": [
           {
            "fillpattern": {
             "fillmode": "overlay",
             "size": 10,
             "solidity": 0.2
            },
            "type": "scatter"
           }
          ],
          "scatter3d": [
           {
            "line": {
             "colorbar": {
              "outlinewidth": 0,
              "ticks": ""
             }
            },
            "marker": {
             "colorbar": {
              "outlinewidth": 0,
              "ticks": ""
             }
            },
            "type": "scatter3d"
           }
          ],
          "scattercarpet": [
           {
            "marker": {
             "colorbar": {
              "outlinewidth": 0,
              "ticks": ""
             }
            },
            "type": "scattercarpet"
           }
          ],
          "scattergeo": [
           {
            "marker": {
             "colorbar": {
              "outlinewidth": 0,
              "ticks": ""
             }
            },
            "type": "scattergeo"
           }
          ],
          "scattergl": [
           {
            "marker": {
             "colorbar": {
              "outlinewidth": 0,
              "ticks": ""
             }
            },
            "type": "scattergl"
           }
          ],
          "scattermapbox": [
           {
            "marker": {
             "colorbar": {
              "outlinewidth": 0,
              "ticks": ""
             }
            },
            "type": "scattermapbox"
           }
          ],
          "scatterpolar": [
           {
            "marker": {
             "colorbar": {
              "outlinewidth": 0,
              "ticks": ""
             }
            },
            "type": "scatterpolar"
           }
          ],
          "scatterpolargl": [
           {
            "marker": {
             "colorbar": {
              "outlinewidth": 0,
              "ticks": ""
             }
            },
            "type": "scatterpolargl"
           }
          ],
          "scatterternary": [
           {
            "marker": {
             "colorbar": {
              "outlinewidth": 0,
              "ticks": ""
             }
            },
            "type": "scatterternary"
           }
          ],
          "surface": [
           {
            "colorbar": {
             "outlinewidth": 0,
             "ticks": ""
            },
            "colorscale": [
             [
              0,
              "#0d0887"
             ],
             [
              0.1111111111111111,
              "#46039f"
             ],
             [
              0.2222222222222222,
              "#7201a8"
             ],
             [
              0.3333333333333333,
              "#9c179e"
             ],
             [
              0.4444444444444444,
              "#bd3786"
             ],
             [
              0.5555555555555556,
              "#d8576b"
             ],
             [
              0.6666666666666666,
              "#ed7953"
             ],
             [
              0.7777777777777778,
              "#fb9f3a"
             ],
             [
              0.8888888888888888,
              "#fdca26"
             ],
             [
              1,
              "#f0f921"
             ]
            ],
            "type": "surface"
           }
          ],
          "table": [
           {
            "cells": {
             "fill": {
              "color": "#EBF0F8"
             },
             "line": {
              "color": "white"
             }
            },
            "header": {
             "fill": {
              "color": "#C8D4E3"
             },
             "line": {
              "color": "white"
             }
            },
            "type": "table"
           }
          ]
         },
         "layout": {
          "annotationdefaults": {
           "arrowcolor": "#2a3f5f",
           "arrowhead": 0,
           "arrowwidth": 1
          },
          "autotypenumbers": "strict",
          "coloraxis": {
           "colorbar": {
            "outlinewidth": 0,
            "ticks": ""
           }
          },
          "colorscale": {
           "diverging": [
            [
             0,
             "#8e0152"
            ],
            [
             0.1,
             "#c51b7d"
            ],
            [
             0.2,
             "#de77ae"
            ],
            [
             0.3,
             "#f1b6da"
            ],
            [
             0.4,
             "#fde0ef"
            ],
            [
             0.5,
             "#f7f7f7"
            ],
            [
             0.6,
             "#e6f5d0"
            ],
            [
             0.7,
             "#b8e186"
            ],
            [
             0.8,
             "#7fbc41"
            ],
            [
             0.9,
             "#4d9221"
            ],
            [
             1,
             "#276419"
            ]
           ],
           "sequential": [
            [
             0,
             "#0d0887"
            ],
            [
             0.1111111111111111,
             "#46039f"
            ],
            [
             0.2222222222222222,
             "#7201a8"
            ],
            [
             0.3333333333333333,
             "#9c179e"
            ],
            [
             0.4444444444444444,
             "#bd3786"
            ],
            [
             0.5555555555555556,
             "#d8576b"
            ],
            [
             0.6666666666666666,
             "#ed7953"
            ],
            [
             0.7777777777777778,
             "#fb9f3a"
            ],
            [
             0.8888888888888888,
             "#fdca26"
            ],
            [
             1,
             "#f0f921"
            ]
           ],
           "sequentialminus": [
            [
             0,
             "#0d0887"
            ],
            [
             0.1111111111111111,
             "#46039f"
            ],
            [
             0.2222222222222222,
             "#7201a8"
            ],
            [
             0.3333333333333333,
             "#9c179e"
            ],
            [
             0.4444444444444444,
             "#bd3786"
            ],
            [
             0.5555555555555556,
             "#d8576b"
            ],
            [
             0.6666666666666666,
             "#ed7953"
            ],
            [
             0.7777777777777778,
             "#fb9f3a"
            ],
            [
             0.8888888888888888,
             "#fdca26"
            ],
            [
             1,
             "#f0f921"
            ]
           ]
          },
          "colorway": [
           "#636efa",
           "#EF553B",
           "#00cc96",
           "#ab63fa",
           "#FFA15A",
           "#19d3f3",
           "#FF6692",
           "#B6E880",
           "#FF97FF",
           "#FECB52"
          ],
          "font": {
           "color": "#2a3f5f"
          },
          "geo": {
           "bgcolor": "white",
           "lakecolor": "white",
           "landcolor": "#E5ECF6",
           "showlakes": true,
           "showland": true,
           "subunitcolor": "white"
          },
          "hoverlabel": {
           "align": "left"
          },
          "hovermode": "closest",
          "mapbox": {
           "style": "light"
          },
          "paper_bgcolor": "white",
          "plot_bgcolor": "#E5ECF6",
          "polar": {
           "angularaxis": {
            "gridcolor": "white",
            "linecolor": "white",
            "ticks": ""
           },
           "bgcolor": "#E5ECF6",
           "radialaxis": {
            "gridcolor": "white",
            "linecolor": "white",
            "ticks": ""
           }
          },
          "scene": {
           "xaxis": {
            "backgroundcolor": "#E5ECF6",
            "gridcolor": "white",
            "gridwidth": 2,
            "linecolor": "white",
            "showbackground": true,
            "ticks": "",
            "zerolinecolor": "white"
           },
           "yaxis": {
            "backgroundcolor": "#E5ECF6",
            "gridcolor": "white",
            "gridwidth": 2,
            "linecolor": "white",
            "showbackground": true,
            "ticks": "",
            "zerolinecolor": "white"
           },
           "zaxis": {
            "backgroundcolor": "#E5ECF6",
            "gridcolor": "white",
            "gridwidth": 2,
            "linecolor": "white",
            "showbackground": true,
            "ticks": "",
            "zerolinecolor": "white"
           }
          },
          "shapedefaults": {
           "line": {
            "color": "#2a3f5f"
           }
          },
          "ternary": {
           "aaxis": {
            "gridcolor": "white",
            "linecolor": "white",
            "ticks": ""
           },
           "baxis": {
            "gridcolor": "white",
            "linecolor": "white",
            "ticks": ""
           },
           "bgcolor": "#E5ECF6",
           "caxis": {
            "gridcolor": "white",
            "linecolor": "white",
            "ticks": ""
           }
          },
          "title": {
           "x": 0.05
          },
          "xaxis": {
           "automargin": true,
           "gridcolor": "white",
           "linecolor": "white",
           "ticks": "",
           "title": {
            "standoff": 15
           },
           "zerolinecolor": "white",
           "zerolinewidth": 2
          },
          "yaxis": {
           "automargin": true,
           "gridcolor": "white",
           "linecolor": "white",
           "ticks": "",
           "title": {
            "standoff": 15
           },
           "zerolinecolor": "white",
           "zerolinewidth": 2
          }
         }
        }
       }
      },
      "image/png": "[encoded data removed]",
      "text/html": [
       "<div>                            <div id=\"f666e5aa-f897-466f-99f0-03126b1993b2\" class=\"plotly-graph-div\" style=\"height:525px; width:100%;\"></div>            <script type=\"text/javascript\">                require([\"plotly\"], function(Plotly) {                    window.PLOTLYENV=window.PLOTLYENV || {};                                    if (document.getElementById(\"f666e5aa-f897-466f-99f0-03126b1993b2\")) {                    Plotly.newPlot(                        \"f666e5aa-f897-466f-99f0-03126b1993b2\",                        [{\"link\":{\"hoverlabel\":{\"bgcolor\":\"#444\"},\"hovertemplate\":\"%{source.label} \\u003e %{target.label}\",\"source\":[0,0,0,0,0,1,1,1,1,1,1,2,2,2,2,2,2,3,3,3,3,3,3,4,4,4,4,4,4,5,5,5,5,5,5,6,7,8,9,10,11],\"target\":[1,2,3,4,5,6,7,8,9,10,11,6,7,8,9,10,11,6,7,8,9,10,11,6,7,8,9,10,11,6,7,8,9,10,11,12,13,13,12,13,12],\"value\":[142,110,89,31,22,110,1,12,14,2,3,13,88,6,0,2,1,82,3,0,1,3,0,27,0,1,2,0,1,1,21,0,0,0,0,233,113,19,17,7,5]},\"node\":{\"hovertemplate\":\"%{label}:\",\"label\":[\"\\u003cb\\u003eEnsemble des publications\\u003c\\u002fb\\u003e\",\"\\u003cb\\u003eDERIVED\\u003c\\u002fb\\u003e\",\"\\u003cb\\u003eBACKGROUND\\u003c\\u002fb\\u003e\",\"\\u003cb\\u003eRESULT\\u003c\\u002fb\\u003e\",\"\\u003cb\\u003ePUBMED\\u003c\\u002fb\\u003e\",\"\\u003cb\\u003eSUSPICIOUS\\u003c\\u002fb\\u003e\",\"\\u003cb\\u003epublication\\u003c\\u002fb\\u003e\",\"\\u003cb\\u003ebackground\\u003c\\u002fb\\u003e\",\"\\u003cb\\u003eprotocole\\u003c\\u002fb\\u003e\",\"\\u003cb\\u003er\\u00e9sultat n\\u00e9gatif\\u003c\\u002fb\\u003e\",\"\\u003cb\\u003eautre\\u003c\\u002fb\\u003e\",\"\\u003cb\\u003em\\u00e9ta-analyse\\u003c\\u002fb\\u003e\",\"\\u003cb\\u003eR\\u00e9sultat\\u003c\\u002fb\\u003e\",\"\\u003cb\\u003eNon r\\u00e9sultat\\u003c\\u002fb\\u003e\"]},\"valueformat\":\"d\",\"valuesuffix\":\" publications\",\"type\":\"sankey\"}],                        {\"template\":{\"data\":{\"histogram2dcontour\":[{\"type\":\"histogram2dcontour\",\"colorbar\":{\"outlinewidth\":0,\"ticks\":\"\"},\"colorscale\":[[0.0,\"#0d0887\"],[0.1111111111111111,\"#46039f\"],[0.2222222222222222,\"#7201a8\"],[0.3333333333333333,\"#9c179e\"],[0.4444444444444444,\"#bd3786\"],[0.5555555555555556,\"#d8576b\"],[0.6666666666666666,\"#ed7953\"],[0.7777777777777778,\"#fb9f3a\"],[0.8888888888888888,\"#fdca26\"],[1.0,\"#f0f921\"]]}],\"choropleth\":[{\"type\":\"choropleth\",\"colorbar\":{\"outlinewidth\":0,\"ticks\":\"\"}}],\"histogram2d\":[{\"type\":\"histogram2d\",\"colorbar\":{\"outlinewidth\":0,\"ticks\":\"\"},\"colorscale\":[[0.0,\"#0d0887\"],[0.1111111111111111,\"#46039f\"],[0.2222222222222222,\"#7201a8\"],[0.3333333333333333,\"#9c179e\"],[0.4444444444444444,\"#bd3786\"],[0.5555555555555556,\"#d8576b\"],[0.6666666666666666,\"#ed7953\"],[0.7777777777777778,\"#fb9f3a\"],[0.8888888888888888,\"#fdca26\"],[1.0,\"#f0f921\"]]}],\"heatmap\":[{\"type\":\"heatmap\",\"colorbar\":{\"outlinewidth\":0,\"ticks\":\"\"},\"colorscale\":[[0.0,\"#0d0887\"],[0.1111111111111111,\"#46039f\"],[0.2222222222222222,\"#7201a8\"],[0.3333333333333333,\"#9c179e\"],[0.4444444444444444,\"#bd3786\"],[0.5555555555555556,\"#d8576b\"],[0.6666666666666666,\"#ed7953\"],[0.7777777777777778,\"#fb9f3a\"],[0.8888888888888888,\"#fdca26\"],[1.0,\"#f0f921\"]]}],\"heatmapgl\":[{\"type\":\"heatmapgl\",\"colorbar\":{\"outlinewidth\":0,\"ticks\":\"\"},\"colorscale\":[[0.0,\"#0d0887\"],[0.1111111111111111,\"#46039f\"],[0.2222222222222222,\"#7201a8\"],[0.3333333333333333,\"#9c179e\"],[0.4444444444444444,\"#bd3786\"],[0.5555555555555556,\"#d8576b\"],[0.6666666666666666,\"#ed7953\"],[0.7777777777777778,\"#fb9f3a\"],[0.8888888888888888,\"#fdca26\"],[1.0,\"#f0f921\"]]}],\"contourcarpet\":[{\"type\":\"contourcarpet\",\"colorbar\":{\"outlinewidth\":0,\"ticks\":\"\"}}],\"contour\":[{\"type\":\"contour\",\"colorbar\":{\"outlinewidth\":0,\"ticks\":\"\"},\"colorscale\":[[0.0,\"#0d0887\"],[0.1111111111111111,\"#46039f\"],[0.2222222222222222,\"#7201a8\"],[0.3333333333333333,\"#9c179e\"],[0.4444444444444444,\"#bd3786\"],[0.5555555555555556,\"#d8576b\"],[0.6666666666666666,\"#ed7953\"],[0.7777777777777778,\"#fb9f3a\"],[0.8888888888888888,\"#fdca26\"],[1.0,\"#f0f921\"]]}],\"surface\":[{\"type\":\"surface\",\"colorbar\":{\"outlinewidth\":0,\"ticks\":\"\"},\"colorscale\":[[0.0,\"#0d0887\"],[0.1111111111111111,\"#46039f\"],[0.2222222222222222,\"#7201a8\"],[0.3333333333333333,\"#9c179e\"],[0.4444444444444444,\"#bd3786\"],[0.5555555555555556,\"#d8576b\"],[0.6666666666666666,\"#ed7953\"],[0.7777777777777778,\"#fb9f3a\"],[0.8888888888888888,\"#fdca26\"],[1.0,\"#f0f921\"]]}],\"mesh3d\":[{\"type\":\"mesh3d\",\"colorbar\":{\"outlinewidth\":0,\"ticks\":\"\"}}],\"scatter\":[{\"fillpattern\":{\"fillmode\":\"overlay\",\"size\":10,\"solidity\":0.2},\"type\":\"scatter\"}],\"parcoords\":[{\"type\":\"parcoords\",\"line\":{\"colorbar\":{\"outlinewidth\":0,\"ticks\":\"\"}}}],\"scatterpolargl\":[{\"type\":\"scatterpolargl\",\"marker\":{\"colorbar\":{\"outlinewidth\":0,\"ticks\":\"\"}}}],\"bar\":[{\"error_x\":{\"color\":\"#2a3f5f\"},\"error_y\":{\"color\":\"#2a3f5f\"},\"marker\":{\"line\":{\"color\":\"#E5ECF6\",\"width\":0.5},\"pattern\":{\"fillmode\":\"overlay\",\"size\":10,\"solidity\":0.2}},\"type\":\"bar\"}],\"scattergeo\":[{\"type\":\"scattergeo\",\"marker\":{\"colorbar\":{\"outlinewidth\":0,\"ticks\":\"\"}}}],\"scatterpolar\":[{\"type\":\"scatterpolar\",\"marker\":{\"colorbar\":{\"outlinewidth\":0,\"ticks\":\"\"}}}],\"histogram\":[{\"marker\":{\"pattern\":{\"fillmode\":\"overlay\",\"size\":10,\"solidity\":0.2}},\"type\":\"histogram\"}],\"scattergl\":[{\"type\":\"scattergl\",\"marker\":{\"colorbar\":{\"outlinewidth\":0,\"ticks\":\"\"}}}],\"scatter3d\":[{\"type\":\"scatter3d\",\"line\":{\"colorbar\":{\"outlinewidth\":0,\"ticks\":\"\"}},\"marker\":{\"colorbar\":{\"outlinewidth\":0,\"ticks\":\"\"}}}],\"scattermapbox\":[{\"type\":\"scattermapbox\",\"marker\":{\"colorbar\":{\"outlinewidth\":0,\"ticks\":\"\"}}}],\"scatterternary\":[{\"type\":\"scatterternary\",\"marker\":{\"colorbar\":{\"outlinewidth\":0,\"ticks\":\"\"}}}],\"scattercarpet\":[{\"type\":\"scattercarpet\",\"marker\":{\"colorbar\":{\"outlinewidth\":0,\"ticks\":\"\"}}}],\"carpet\":[{\"aaxis\":{\"endlinecolor\":\"#2a3f5f\",\"gridcolor\":\"white\",\"linecolor\":\"white\",\"minorgridcolor\":\"white\",\"startlinecolor\":\"#2a3f5f\"},\"baxis\":{\"endlinecolor\":\"#2a3f5f\",\"gridcolor\":\"white\",\"linecolor\":\"white\",\"minorgridcolor\":\"white\",\"startlinecolor\":\"#2a3f5f\"},\"type\":\"carpet\"}],\"table\":[{\"cells\":{\"fill\":{\"color\":\"#EBF0F8\"},\"line\":{\"color\":\"white\"}},\"header\":{\"fill\":{\"color\":\"#C8D4E3\"},\"line\":{\"color\":\"white\"}},\"type\":\"table\"}],\"barpolar\":[{\"marker\":{\"line\":{\"color\":\"#E5ECF6\",\"width\":0.5},\"pattern\":{\"fillmode\":\"overlay\",\"size\":10,\"solidity\":0.2}},\"type\":\"barpolar\"}],\"pie\":[{\"automargin\":true,\"type\":\"pie\"}]},\"layout\":{\"autotypenumbers\":\"strict\",\"colorway\":[\"#636efa\",\"#EF553B\",\"#00cc96\",\"#ab63fa\",\"#FFA15A\",\"#19d3f3\",\"#FF6692\",\"#B6E880\",\"#FF97FF\",\"#FECB52\"],\"font\":{\"color\":\"#2a3f5f\"},\"hovermode\":\"closest\",\"hoverlabel\":{\"align\":\"left\"},\"paper_bgcolor\":\"white\",\"plot_bgcolor\":\"#E5ECF6\",\"polar\":{\"bgcolor\":\"#E5ECF6\",\"angularaxis\":{\"gridcolor\":\"white\",\"linecolor\":\"white\",\"ticks\":\"\"},\"radialaxis\":{\"gridcolor\":\"white\",\"linecolor\":\"white\",\"ticks\":\"\"}},\"ternary\":{\"bgcolor\":\"#E5ECF6\",\"aaxis\":{\"gridcolor\":\"white\",\"linecolor\":\"white\",\"ticks\":\"\"},\"baxis\":{\"gridcolor\":\"white\",\"linecolor\":\"white\",\"ticks\":\"\"},\"caxis\":{\"gridcolor\":\"white\",\"linecolor\":\"white\",\"ticks\":\"\"}},\"coloraxis\":{\"colorbar\":{\"outlinewidth\":0,\"ticks\":\"\"}},\"colorscale\":{\"sequential\":[[0.0,\"#0d0887\"],[0.1111111111111111,\"#46039f\"],[0.2222222222222222,\"#7201a8\"],[0.3333333333333333,\"#9c179e\"],[0.4444444444444444,\"#bd3786\"],[0.5555555555555556,\"#d8576b\"],[0.6666666666666666,\"#ed7953\"],[0.7777777777777778,\"#fb9f3a\"],[0.8888888888888888,\"#fdca26\"],[1.0,\"#f0f921\"]],\"sequentialminus\":[[0.0,\"#0d0887\"],[0.1111111111111111,\"#46039f\"],[0.2222222222222222,\"#7201a8\"],[0.3333333333333333,\"#9c179e\"],[0.4444444444444444,\"#bd3786\"],[0.5555555555555556,\"#d8576b\"],[0.6666666666666666,\"#ed7953\"],[0.7777777777777778,\"#fb9f3a\"],[0.8888888888888888,\"#fdca26\"],[1.0,\"#f0f921\"]],\"diverging\":[[0,\"#8e0152\"],[0.1,\"#c51b7d\"],[0.2,\"#de77ae\"],[0.3,\"#f1b6da\"],[0.4,\"#fde0ef\"],[0.5,\"#f7f7f7\"],[0.6,\"#e6f5d0\"],[0.7,\"#b8e186\"],[0.8,\"#7fbc41\"],[0.9,\"#4d9221\"],[1,\"#276419\"]]},\"xaxis\":{\"gridcolor\":\"white\",\"linecolor\":\"white\",\"ticks\":\"\",\"title\":{\"standoff\":15},\"zerolinecolor\":\"white\",\"automargin\":true,\"zerolinewidth\":2},\"yaxis\":{\"gridcolor\":\"white\",\"linecolor\":\"white\",\"ticks\":\"\",\"title\":{\"standoff\":15},\"zerolinecolor\":\"white\",\"automargin\":true,\"zerolinewidth\":2},\"scene\":{\"xaxis\":{\"backgroundcolor\":\"#E5ECF6\",\"gridcolor\":\"white\",\"linecolor\":\"white\",\"showbackground\":true,\"ticks\":\"\",\"zerolinecolor\":\"white\",\"gridwidth\":2},\"yaxis\":{\"backgroundcolor\":\"#E5ECF6\",\"gridcolor\":\"white\",\"linecolor\":\"white\",\"showbackground\":true,\"ticks\":\"\",\"zerolinecolor\":\"white\",\"gridwidth\":2},\"zaxis\":{\"backgroundcolor\":\"#E5ECF6\",\"gridcolor\":\"white\",\"linecolor\":\"white\",\"showbackground\":true,\"ticks\":\"\",\"zerolinecolor\":\"white\",\"gridwidth\":2}},\"shapedefaults\":{\"line\":{\"color\":\"#2a3f5f\"}},\"annotationdefaults\":{\"arrowcolor\":\"#2a3f5f\",\"arrowhead\":0,\"arrowwidth\":1},\"geo\":{\"bgcolor\":\"white\",\"landcolor\":\"#E5ECF6\",\"subunitcolor\":\"white\",\"showland\":true,\"showlakes\":true,\"lakecolor\":\"white\"},\"title\":{\"x\":0.05},\"mapbox\":{\"style\":\"light\"}}}},                        {\"responsive\": true}                    ).then(function(){\n",
       "                            \n",
       "var gd = document.getElementById('f666e5aa-f897-466f-99f0-03126b1993b2');\n",
       "var x = new MutationObserver(function (mutations, observer) {{\n",
       "        var display = window.getComputedStyle(gd).display;\n",
       "        if (!display || display === 'none') {{\n",
       "            console.log([gd, 'removed!']);\n",
       "            Plotly.purge(gd);\n",
       "            observer.disconnect();\n",
       "        }}\n",
       "}});\n",
       "\n",
       "// Listen for the removal of the full notebook cells\n",
       "var notebookContainer = gd.closest('#notebook-container');\n",
       "if (notebookContainer) {{\n",
       "    x.observe(notebookContainer, {childList: true});\n",
       "}}\n",
       "\n",
       "// Listen for the clearing of the current output cell\n",
       "var outputEl = gd.closest('.output');\n",
       "if (outputEl) {{\n",
       "    x.observe(outputEl, {childList: true});\n",
       "}}\n",
       "\n",
       "                        })                };                });            </script>        </div>"
      ]
     },
     "metadata": {},
     "output_type": "display_data"
    }
   ],
   "source": [
    "import itertools\n",
    "\n",
    "# First level:\n",
    "# From all publications to ClinicalTrial types:\n",
    "source_all = [d['Ensemble des publications']] * len(type_ct_list)\n",
    "target_type_ct = [d[t] for t in type_ct_list]\n",
    "value_type_ct = [count_type_ct.loc[t] for t in type_ct_list]\n",
    "\n",
    "## Second level:\n",
    "# From ClinicalTrial types to manually processed types:\n",
    "# [1,1,1,1,1,1,2,2,...]\n",
    "source_type_ct = list(\n",
    "    itertools.chain.from_iterable(\n",
    "        [[d[t]] * len(type_manual_list) for t in type_ct_list]\n",
    "    )\n",
    ")\n",
    "# [6,7,8,9,10,11,6,7,...]\n",
    "source_type_ct = list(\n",
    "    itertools.chain.from_iterable(\n",
    "        [[d[t]] * len(type_manual_list) for t in type_ct_list]\n",
    "    )\n",
    ")\n",
    "# Cartesian product of all CT types with all manual processed types\n",
    "value_type_manual = [\n",
    "    df_correlation.loc[t, t_d_p]\n",
    "    for t, t_d_p in itertools.product(type_ct_list, type_manual_list)\n",
    "]\n",
    "\n",
    "### Third level:\n",
    "# From manually processed types to is_result:\n",
    "source_manual = [d[t] for t in type_manual_list]\n",
    "target_is_result = [\n",
    "    d['Résultat']\n",
    "    if t in ['publication', 'résultat négatif', 'méta-analyse']\n",
    "    else d['Non résultat']\n",
    "    for t in type_manual_list\n",
    "]\n",
    "value_is_result = [count_type_manual.loc[t] for t in type_manual_list]\n",
    "\n",
    "# Put together\n",
    "source = source_all + source_type_ct + source_manual\n",
    "target = target_type_ct + target_type_manual + target_is_result\n",
    "value = value_type_ct + value_type_manual + value_is_result\n",
    "\n",
    "# colors = [\"cornflowerblue\", \"tomato\", \"mediumseagreen\", \"#4CAF50\", \"gold\"]\n",
    "# TODO: Add percents\n",
    "# percentages = [f\"{(value[t-1]/num_trials):.2%}\" for t in target]\n",
    "\n",
    "# TODO: Add color transparency\n",
    "# Add transparency to the list of colors, to display links with partial opacity\n",
    "# transparency = 0.5\n",
    "# colors_transparency = [\n",
    "#     f'rgba({rgba_color[0] * 255:.0f}, {rgba_color[1] * 255:.0f}, {rgba_color[2] * 255:.0f}, {rgba_color[3]})'\n",
    "#     for color in colors\n",
    "#     if (rgba_color := plt_colors.to_rgba(color, transparency))\n",
    "# ]\n",
    "\n",
    "fig = go.Figure(\n",
    "    data=[\n",
    "        go.Sankey(\n",
    "            valuesuffix=' publications',\n",
    "            valueformat='d',\n",
    "            # Nodes\n",
    "            node=dict(\n",
    "                label=[f'<b>{label}</b>' for label in labels],\n",
    "                # line = dict(color = \"black\", width = 0.),\n",
    "                hovertemplate='%{label}:',\n",
    "            ),\n",
    "            # Links\n",
    "            link=dict(\n",
    "                # arrowlen=15,\n",
    "                source=source,\n",
    "                target=target,\n",
    "                value=value,\n",
    "                # customdata=percentages,\n",
    "                # hovertemplate = \"%{label}%{value}<extra>%{customdata}</extra>\",\n",
    "                hovertemplate='%{source.label} > %{target.label}',\n",
    "                hoverlabel=dict(bgcolor='#444'),\n",
    "                # color = colors_transparency[1:],\n",
    "                # hovercolor = colors[1:],\n",
    "            ),\n",
    "        )\n",
    "    ]\n",
    ")\n",
    "\n",
    "# fig.update_layout(title_text='Basic Sankey Diagram', font_size=10)\n",
    "fig.show()"
   ]
  },
  {
   "cell_type": "code",
   "execution_count": null,
   "id": "4b992f53-057d-4b5b-8f13-63156356ef26",
   "metadata": {},
   "outputs": [],
   "source": []
  },
  {
   "cell_type": "markdown",
   "id": "03c68a79-a12b-48e9-86a6-c41c7eed2374",
   "metadata": {},
   "source": [
    "## Date de fin d'étude antérieure à 2023 :"
   ]
  },
  {
   "cell_type": "markdown",
   "id": "2e8c702d-4674-4700-97b2-01b77041576a",
   "metadata": {},
   "source": [
    "Les essais terminés doivent normalement faire l'objet d’un dépôt des résultats de ces essais, dans les 12 mois au plus tard après\n",
    "la date de la fin d’étude et d’une publication dans les journaux.  \n",
    "Pour des données récoltées en 2024, on va donc se limiter aux essais terminés en 2022 et qui ont pu faire l'objet de publications en 2023."
   ]
  },
  {
   "cell_type": "markdown",
   "id": "18370a22-dd49-4af7-96fe-3c93c0b3e587",
   "metadata": {},
   "source": [
    "<span style=\"color:red\">**Mettre à jour la date si nécessaire**</span>"
   ]
  },
  {
   "cell_type": "code",
   "execution_count": 44,
   "id": "50b1fa47-2a0f-4448-a879-bb1c7d966d1c",
   "metadata": {},
   "outputs": [],
   "source": [
    "mask_date = df_complete['CompletionDate'].dt.year < 2023\n",
    "# df_complete.loc[mask_date, 'CompletionDate']"
   ]
  },
  {
   "cell_type": "code",
   "execution_count": 45,
   "id": "eb339587-a2f4-4bfc-ab18-3274638b95e4",
   "metadata": {},
   "outputs": [],
   "source": [
    "df_complete_date = df_complete.loc[mask_date]\n",
    "# df_complete_date"
   ]
  },
  {
   "cell_type": "code",
   "execution_count": null,
   "id": "c5e81a43-7564-410d-9dd8-77f93d0cf7f9",
   "metadata": {},
   "outputs": [],
   "source": []
  },
  {
   "cell_type": "code",
   "execution_count": null,
   "id": "ff17c926-f476-4cf2-be6a-04086bbcff37",
   "metadata": {},
   "outputs": [],
   "source": []
  },
  {
   "cell_type": "code",
   "execution_count": null,
   "id": "a457a0b1-c554-4314-9335-d6f767814456",
   "metadata": {},
   "outputs": [],
   "source": []
  },
  {
   "cell_type": "markdown",
   "id": "d3f5e931-3bf1-4881-b72d-47978c02eec8",
   "metadata": {},
   "source": [
    "#### Nombre d'études cliniques:"
   ]
  },
  {
   "cell_type": "code",
   "execution_count": 46,
   "id": "815d2a05-8aeb-4394-9a70-aefb74aebdef",
   "metadata": {},
   "outputs": [
    {
     "data": {
      "text/plain": [
       "190"
      ]
     },
     "execution_count": 46,
     "metadata": {},
     "output_type": "execute_result"
    }
   ],
   "source": [
    "num_trials = len(df_complete_date.loc[:, 'NCTId'].unique())\n",
    "num_trials"
   ]
  },
  {
   "cell_type": "markdown",
   "id": "c5fc6a6e-4166-4052-8bb9-a497c6a29191",
   "metadata": {},
   "source": [
    "#### Nombre de publications :"
   ]
  },
  {
   "cell_type": "code",
   "execution_count": 47,
   "id": "f048d913-a46d-4702-9b95-cbcbe5b395b1",
   "metadata": {},
   "outputs": [
    {
     "data": {
      "text/plain": [
       "368"
      ]
     },
     "execution_count": 47,
     "metadata": {},
     "output_type": "execute_result"
    }
   ],
   "source": [
    "num_publications = df_complete_date.loc[:, 'pmid'].notna().sum()\n",
    "num_publications"
   ]
  },
  {
   "cell_type": "code",
   "execution_count": null,
   "id": "b792512d-bd21-4807-aa5e-5535e7c72e8c",
   "metadata": {},
   "outputs": [],
   "source": []
  },
  {
   "cell_type": "markdown",
   "id": "96bd59e5-813a-4785-a351-f5b7108544d1",
   "metadata": {},
   "source": [
    "#### Nombre d'études sans publications :"
   ]
  },
  {
   "cell_type": "code",
   "execution_count": 48,
   "id": "7adf2e9a-7dbc-487c-9705-4b459d769085",
   "metadata": {},
   "outputs": [
    {
     "name": "stdout",
     "output_type": "stream",
     "text": [
      "Nombre d'études sans publications:\n",
      "99 / 190 (52.11%)\n"
     ]
    }
   ],
   "source": [
    "num_trials_wo_pub = len(df_complete_date.loc[df_complete_date.loc[:, 'pmid'].isna(), 'NCTId'])\n",
    "print(\"Nombre d'études sans publications:\")\n",
    "print(f'{num_trials_wo_pub} / {num_trials} ({num_trials_wo_pub / num_trials:.2%})')"
   ]
  },
  {
   "cell_type": "markdown",
   "id": "9354c40a-3b04-4b24-b023-326525aef5d9",
   "metadata": {},
   "source": [
    "#### Nombre d'études avec publications :"
   ]
  },
  {
   "cell_type": "code",
   "execution_count": 49,
   "id": "9b81c3a4-7cb7-4be2-b2b5-7ec4dc558fa3",
   "metadata": {},
   "outputs": [
    {
     "name": "stdout",
     "output_type": "stream",
     "text": [
      "Nombre d'études avec au moins une publication :\n",
      "91 / 190 (47.89%)\n"
     ]
    }
   ],
   "source": [
    "num_trials_with_pub = len(\n",
    "    df_complete_date.loc[df_complete_date.loc[:, 'pmid'].notna(), 'NCTId'].unique()\n",
    ")\n",
    "print(\"Nombre d'études avec au moins une publication :\")\n",
    "print(f'{num_trials_with_pub} / {num_trials} ({num_trials_with_pub / num_trials:.2%})')"
   ]
  },
  {
   "cell_type": "code",
   "execution_count": null,
   "id": "b38c2ae9-bf2c-4cb5-8853-926c3929251e",
   "metadata": {},
   "outputs": [],
   "source": []
  },
  {
   "cell_type": "markdown",
   "id": "64bb2a5d-e531-4489-a067-b25c6ef00653",
   "metadata": {},
   "source": [
    "#### Nombre d'études avec au moins une publication de type 'Résultat' :"
   ]
  },
  {
   "cell_type": "code",
   "execution_count": 50,
   "id": "2bc2077b-a1fe-4f78-9ed9-46ddf034c322",
   "metadata": {},
   "outputs": [
    {
     "name": "stdout",
     "output_type": "stream",
     "text": [
      "Nombre d'études avec au moins une publication de type 'Résultat' :\n",
      "78 / 190 (41.05%)\n"
     ]
    }
   ],
   "source": [
    "# 'is_result' == True\n",
    "mask_is_result = df_complete_date.loc[:, 'is_result']\n",
    "num_trials_with_result = len(df_complete_date.loc[mask_is_result, 'NCTId'].unique())\n",
    "\n",
    "print(\"Nombre d'études avec au moins une publication de type 'Résultat' :\")\n",
    "print(f'{num_trials_with_result} / {num_trials} ({num_trials_with_result / num_trials:.2%})')"
   ]
  },
  {
   "cell_type": "markdown",
   "id": "00726e8b-1049-4f51-b8f5-353b22955f3f",
   "metadata": {},
   "source": [
    "#### Nombre d'études avec des publications, mais aucune de type 'Résultat' :"
   ]
  },
  {
   "cell_type": "code",
   "execution_count": 51,
   "id": "4ccd2e0a-3f5b-4c6a-b019-53a7ba1e4032",
   "metadata": {},
   "outputs": [
    {
     "name": "stdout",
     "output_type": "stream",
     "text": [
      "Nombre d'études avec des publications, mais aucune de type 'Résultat :\n",
      "13 / 190 (6.84%)\n"
     ]
    }
   ],
   "source": [
    "nctids = df_complete_date.loc[:, 'NCTId'].unique()\n",
    "\n",
    "# NCTIDs with publications, but none of their publications are of type result\n",
    "# (eq. for which all 'is_result' are False)\n",
    "res = []\n",
    "for nctid in nctids:\n",
    "    mask = df_complete_date.loc[:, 'NCTId'] == nctid\n",
    "    \n",
    "    # 'is_result' is not <NA> and all the values of 'is_result' are False\n",
    "    if (not df_complete_date.loc[mask, 'is_result'].dropna().empty and (~(df_complete_date.loc[mask, 'is_result'])).all()):\n",
    "        res.append(nctid)\n",
    "\n",
    "num_trials_wo_any_result = len(res)\n",
    "# df_complete_date.loc[df_complete_date.loc[:, 'NCTId'].isin(res), ['NCTId', 'type_de_publication', 'is_result']]\n",
    "\n",
    "print(\"Nombre d'études avec des publications, mais aucune de type 'Résultat :\")\n",
    "print(f'{num_trials_wo_any_result} / {num_trials} ({num_trials_wo_any_result / num_trials:.2%})')"
   ]
  },
  {
   "cell_type": "code",
   "execution_count": null,
   "id": "69cb31ac-4968-4e1c-825f-441d7517bac9",
   "metadata": {},
   "outputs": [],
   "source": []
  },
  {
   "cell_type": "markdown",
   "id": "2b81d7ee-63d8-46fa-9467-edc9de304fb6",
   "metadata": {},
   "source": [
    "#### Etudes :"
   ]
  },
  {
   "cell_type": "code",
   "execution_count": 52,
   "id": "b02a2842-a19e-4228-981f-195d0d675cfa",
   "metadata": {},
   "outputs": [
    {
     "data": {
      "application/vnd.plotly.v1+json": {
       "config": {
        "plotlyServerURL": "https://plot.ly"
       },
       "data": [
        {
         "link": {
          "arrowlen": 15,
          "color": [
           "rgba(255, 99, 71, 0.5)",
           "rgba(60, 179, 113, 0.5)",
           "rgba(76, 175, 80, 0.5)",
           "rgba(255, 215, 0, 0.5)"
          ],
          "customdata": [
           "52.11%",
           "47.89%",
           "41.05%",
           "6.84%"
          ],
          "hovercolor": [
           "tomato",
           "mediumseagreen",
           "#4CAF50",
           "gold"
          ],
          "hoverlabel": {
           "bgcolor": "#444"
          },
          "hovertemplate": "%{label}%{value}<extra>%{customdata}</extra>",
          "source": [
           0,
           0,
           2,
           2
          ],
          "target": [
           1,
           2,
           3,
           4
          ],
          "value": [
           99,
           91,
           78,
           13
          ]
         },
         "node": {
          "align": "left",
          "color": [
           "cornflowerblue",
           "tomato",
           "mediumseagreen",
           "#4CAF50",
           "gold"
          ],
          "hovertemplate": "%{label}:",
          "label": [
           "<b>Ensemble des études</b>",
           "<b>Etudes sans publications</b>",
           "<b>Etudes avec publications</b>",
           "<b>Au moins une publication de type résultat</b>",
           "<b>Sans publications de type résultat</b>"
          ],
          "line": {
           "color": "black",
           "width": 0
          }
         },
         "type": "sankey",
         "valueformat": "d",
         "valuesuffix": " études"
        }
       ],
       "layout": {
        "autosize": true,
        "template": {
         "data": {
          "bar": [
           {
            "error_x": {
             "color": "#2a3f5f"
            },
            "error_y": {
             "color": "#2a3f5f"
            },
            "marker": {
             "line": {
              "color": "#E5ECF6",
              "width": 0.5
             },
             "pattern": {
              "fillmode": "overlay",
              "size": 10,
              "solidity": 0.2
             }
            },
            "type": "bar"
           }
          ],
          "barpolar": [
           {
            "marker": {
             "line": {
              "color": "#E5ECF6",
              "width": 0.5
             },
             "pattern": {
              "fillmode": "overlay",
              "size": 10,
              "solidity": 0.2
             }
            },
            "type": "barpolar"
           }
          ],
          "carpet": [
           {
            "aaxis": {
             "endlinecolor": "#2a3f5f",
             "gridcolor": "white",
             "linecolor": "white",
             "minorgridcolor": "white",
             "startlinecolor": "#2a3f5f"
            },
            "baxis": {
             "endlinecolor": "#2a3f5f",
             "gridcolor": "white",
             "linecolor": "white",
             "minorgridcolor": "white",
             "startlinecolor": "#2a3f5f"
            },
            "type": "carpet"
           }
          ],
          "choropleth": [
           {
            "colorbar": {
             "outlinewidth": 0,
             "ticks": ""
            },
            "type": "choropleth"
           }
          ],
          "contour": [
           {
            "colorbar": {
             "outlinewidth": 0,
             "ticks": ""
            },
            "colorscale": [
             [
              0,
              "#0d0887"
             ],
             [
              0.1111111111111111,
              "#46039f"
             ],
             [
              0.2222222222222222,
              "#7201a8"
             ],
             [
              0.3333333333333333,
              "#9c179e"
             ],
             [
              0.4444444444444444,
              "#bd3786"
             ],
             [
              0.5555555555555556,
              "#d8576b"
             ],
             [
              0.6666666666666666,
              "#ed7953"
             ],
             [
              0.7777777777777778,
              "#fb9f3a"
             ],
             [
              0.8888888888888888,
              "#fdca26"
             ],
             [
              1,
              "#f0f921"
             ]
            ],
            "type": "contour"
           }
          ],
          "contourcarpet": [
           {
            "colorbar": {
             "outlinewidth": 0,
             "ticks": ""
            },
            "type": "contourcarpet"
           }
          ],
          "heatmap": [
           {
            "colorbar": {
             "outlinewidth": 0,
             "ticks": ""
            },
            "colorscale": [
             [
              0,
              "#0d0887"
             ],
             [
              0.1111111111111111,
              "#46039f"
             ],
             [
              0.2222222222222222,
              "#7201a8"
             ],
             [
              0.3333333333333333,
              "#9c179e"
             ],
             [
              0.4444444444444444,
              "#bd3786"
             ],
             [
              0.5555555555555556,
              "#d8576b"
             ],
             [
              0.6666666666666666,
              "#ed7953"
             ],
             [
              0.7777777777777778,
              "#fb9f3a"
             ],
             [
              0.8888888888888888,
              "#fdca26"
             ],
             [
              1,
              "#f0f921"
             ]
            ],
            "type": "heatmap"
           }
          ],
          "heatmapgl": [
           {
            "colorbar": {
             "outlinewidth": 0,
             "ticks": ""
            },
            "colorscale": [
             [
              0,
              "#0d0887"
             ],
             [
              0.1111111111111111,
              "#46039f"
             ],
             [
              0.2222222222222222,
              "#7201a8"
             ],
             [
              0.3333333333333333,
              "#9c179e"
             ],
             [
              0.4444444444444444,
              "#bd3786"
             ],
             [
              0.5555555555555556,
              "#d8576b"
             ],
             [
              0.6666666666666666,
              "#ed7953"
             ],
             [
              0.7777777777777778,
              "#fb9f3a"
             ],
             [
              0.8888888888888888,
              "#fdca26"
             ],
             [
              1,
              "#f0f921"
             ]
            ],
            "type": "heatmapgl"
           }
          ],
          "histogram": [
           {
            "marker": {
             "pattern": {
              "fillmode": "overlay",
              "size": 10,
              "solidity": 0.2
             }
            },
            "type": "histogram"
           }
          ],
          "histogram2d": [
           {
            "colorbar": {
             "outlinewidth": 0,
             "ticks": ""
            },
            "colorscale": [
             [
              0,
              "#0d0887"
             ],
             [
              0.1111111111111111,
              "#46039f"
             ],
             [
              0.2222222222222222,
              "#7201a8"
             ],
             [
              0.3333333333333333,
              "#9c179e"
             ],
             [
              0.4444444444444444,
              "#bd3786"
             ],
             [
              0.5555555555555556,
              "#d8576b"
             ],
             [
              0.6666666666666666,
              "#ed7953"
             ],
             [
              0.7777777777777778,
              "#fb9f3a"
             ],
             [
              0.8888888888888888,
              "#fdca26"
             ],
             [
              1,
              "#f0f921"
             ]
            ],
            "type": "histogram2d"
           }
          ],
          "histogram2dcontour": [
           {
            "colorbar": {
             "outlinewidth": 0,
             "ticks": ""
            },
            "colorscale": [
             [
              0,
              "#0d0887"
             ],
             [
              0.1111111111111111,
              "#46039f"
             ],
             [
              0.2222222222222222,
              "#7201a8"
             ],
             [
              0.3333333333333333,
              "#9c179e"
             ],
             [
              0.4444444444444444,
              "#bd3786"
             ],
             [
              0.5555555555555556,
              "#d8576b"
             ],
             [
              0.6666666666666666,
              "#ed7953"
             ],
             [
              0.7777777777777778,
              "#fb9f3a"
             ],
             [
              0.8888888888888888,
              "#fdca26"
             ],
             [
              1,
              "#f0f921"
             ]
            ],
            "type": "histogram2dcontour"
           }
          ],
          "mesh3d": [
           {
            "colorbar": {
             "outlinewidth": 0,
             "ticks": ""
            },
            "type": "mesh3d"
           }
          ],
          "parcoords": [
           {
            "line": {
             "colorbar": {
              "outlinewidth": 0,
              "ticks": ""
             }
            },
            "type": "parcoords"
           }
          ],
          "pie": [
           {
            "automargin": true,
            "type": "pie"
           }
          ],
          "scatter": [
           {
            "fillpattern": {
             "fillmode": "overlay",
             "size": 10,
             "solidity": 0.2
            },
            "type": "scatter"
           }
          ],
          "scatter3d": [
           {
            "line": {
             "colorbar": {
              "outlinewidth": 0,
              "ticks": ""
             }
            },
            "marker": {
             "colorbar": {
              "outlinewidth": 0,
              "ticks": ""
             }
            },
            "type": "scatter3d"
           }
          ],
          "scattercarpet": [
           {
            "marker": {
             "colorbar": {
              "outlinewidth": 0,
              "ticks": ""
             }
            },
            "type": "scattercarpet"
           }
          ],
          "scattergeo": [
           {
            "marker": {
             "colorbar": {
              "outlinewidth": 0,
              "ticks": ""
             }
            },
            "type": "scattergeo"
           }
          ],
          "scattergl": [
           {
            "marker": {
             "colorbar": {
              "outlinewidth": 0,
              "ticks": ""
             }
            },
            "type": "scattergl"
           }
          ],
          "scattermapbox": [
           {
            "marker": {
             "colorbar": {
              "outlinewidth": 0,
              "ticks": ""
             }
            },
            "type": "scattermapbox"
           }
          ],
          "scatterpolar": [
           {
            "marker": {
             "colorbar": {
              "outlinewidth": 0,
              "ticks": ""
             }
            },
            "type": "scatterpolar"
           }
          ],
          "scatterpolargl": [
           {
            "marker": {
             "colorbar": {
              "outlinewidth": 0,
              "ticks": ""
             }
            },
            "type": "scatterpolargl"
           }
          ],
          "scatterternary": [
           {
            "marker": {
             "colorbar": {
              "outlinewidth": 0,
              "ticks": ""
             }
            },
            "type": "scatterternary"
           }
          ],
          "surface": [
           {
            "colorbar": {
             "outlinewidth": 0,
             "ticks": ""
            },
            "colorscale": [
             [
              0,
              "#0d0887"
             ],
             [
              0.1111111111111111,
              "#46039f"
             ],
             [
              0.2222222222222222,
              "#7201a8"
             ],
             [
              0.3333333333333333,
              "#9c179e"
             ],
             [
              0.4444444444444444,
              "#bd3786"
             ],
             [
              0.5555555555555556,
              "#d8576b"
             ],
             [
              0.6666666666666666,
              "#ed7953"
             ],
             [
              0.7777777777777778,
              "#fb9f3a"
             ],
             [
              0.8888888888888888,
              "#fdca26"
             ],
             [
              1,
              "#f0f921"
             ]
            ],
            "type": "surface"
           }
          ],
          "table": [
           {
            "cells": {
             "fill": {
              "color": "#EBF0F8"
             },
             "line": {
              "color": "white"
             }
            },
            "header": {
             "fill": {
              "color": "#C8D4E3"
             },
             "line": {
              "color": "white"
             }
            },
            "type": "table"
           }
          ]
         },
         "layout": {
          "annotationdefaults": {
           "arrowcolor": "#2a3f5f",
           "arrowhead": 0,
           "arrowwidth": 1
          },
          "autotypenumbers": "strict",
          "coloraxis": {
           "colorbar": {
            "outlinewidth": 0,
            "ticks": ""
           }
          },
          "colorscale": {
           "diverging": [
            [
             0,
             "#8e0152"
            ],
            [
             0.1,
             "#c51b7d"
            ],
            [
             0.2,
             "#de77ae"
            ],
            [
             0.3,
             "#f1b6da"
            ],
            [
             0.4,
             "#fde0ef"
            ],
            [
             0.5,
             "#f7f7f7"
            ],
            [
             0.6,
             "#e6f5d0"
            ],
            [
             0.7,
             "#b8e186"
            ],
            [
             0.8,
             "#7fbc41"
            ],
            [
             0.9,
             "#4d9221"
            ],
            [
             1,
             "#276419"
            ]
           ],
           "sequential": [
            [
             0,
             "#0d0887"
            ],
            [
             0.1111111111111111,
             "#46039f"
            ],
            [
             0.2222222222222222,
             "#7201a8"
            ],
            [
             0.3333333333333333,
             "#9c179e"
            ],
            [
             0.4444444444444444,
             "#bd3786"
            ],
            [
             0.5555555555555556,
             "#d8576b"
            ],
            [
             0.6666666666666666,
             "#ed7953"
            ],
            [
             0.7777777777777778,
             "#fb9f3a"
            ],
            [
             0.8888888888888888,
             "#fdca26"
            ],
            [
             1,
             "#f0f921"
            ]
           ],
           "sequentialminus": [
            [
             0,
             "#0d0887"
            ],
            [
             0.1111111111111111,
             "#46039f"
            ],
            [
             0.2222222222222222,
             "#7201a8"
            ],
            [
             0.3333333333333333,
             "#9c179e"
            ],
            [
             0.4444444444444444,
             "#bd3786"
            ],
            [
             0.5555555555555556,
             "#d8576b"
            ],
            [
             0.6666666666666666,
             "#ed7953"
            ],
            [
             0.7777777777777778,
             "#fb9f3a"
            ],
            [
             0.8888888888888888,
             "#fdca26"
            ],
            [
             1,
             "#f0f921"
            ]
           ]
          },
          "colorway": [
           "#636efa",
           "#EF553B",
           "#00cc96",
           "#ab63fa",
           "#FFA15A",
           "#19d3f3",
           "#FF6692",
           "#B6E880",
           "#FF97FF",
           "#FECB52"
          ],
          "font": {
           "color": "#2a3f5f"
          },
          "geo": {
           "bgcolor": "white",
           "lakecolor": "white",
           "landcolor": "#E5ECF6",
           "showlakes": true,
           "showland": true,
           "subunitcolor": "white"
          },
          "hoverlabel": {
           "align": "left"
          },
          "hovermode": "closest",
          "mapbox": {
           "style": "light"
          },
          "paper_bgcolor": "white",
          "plot_bgcolor": "#E5ECF6",
          "polar": {
           "angularaxis": {
            "gridcolor": "white",
            "linecolor": "white",
            "ticks": ""
           },
           "bgcolor": "#E5ECF6",
           "radialaxis": {
            "gridcolor": "white",
            "linecolor": "white",
            "ticks": ""
           }
          },
          "scene": {
           "xaxis": {
            "backgroundcolor": "#E5ECF6",
            "gridcolor": "white",
            "gridwidth": 2,
            "linecolor": "white",
            "showbackground": true,
            "ticks": "",
            "zerolinecolor": "white"
           },
           "yaxis": {
            "backgroundcolor": "#E5ECF6",
            "gridcolor": "white",
            "gridwidth": 2,
            "linecolor": "white",
            "showbackground": true,
            "ticks": "",
            "zerolinecolor": "white"
           },
           "zaxis": {
            "backgroundcolor": "#E5ECF6",
            "gridcolor": "white",
            "gridwidth": 2,
            "linecolor": "white",
            "showbackground": true,
            "ticks": "",
            "zerolinecolor": "white"
           }
          },
          "shapedefaults": {
           "line": {
            "color": "#2a3f5f"
           }
          },
          "ternary": {
           "aaxis": {
            "gridcolor": "white",
            "linecolor": "white",
            "ticks": ""
           },
           "baxis": {
            "gridcolor": "white",
            "linecolor": "white",
            "ticks": ""
           },
           "bgcolor": "#E5ECF6",
           "caxis": {
            "gridcolor": "white",
            "linecolor": "white",
            "ticks": ""
           }
          },
          "title": {
           "x": 0.05
          },
          "xaxis": {
           "automargin": true,
           "gridcolor": "white",
           "linecolor": "white",
           "ticks": "",
           "title": {
            "standoff": 15
           },
           "zerolinecolor": "white",
           "zerolinewidth": 2
          },
          "yaxis": {
           "automargin": true,
           "gridcolor": "white",
           "linecolor": "white",
           "ticks": "",
           "title": {
            "standoff": 15
           },
           "zerolinecolor": "white",
           "zerolinewidth": 2
          }
         }
        }
       }
      },
      "image/png": "[encoded data removed]",
      "text/html": [
       "<div>                            <div id=\"d3d37506-712d-4852-aec1-893e5fe0ed5b\" class=\"plotly-graph-div\" style=\"height:525px; width:100%;\"></div>            <script type=\"text/javascript\">                require([\"plotly\"], function(Plotly) {                    window.PLOTLYENV=window.PLOTLYENV || {};                                    if (document.getElementById(\"d3d37506-712d-4852-aec1-893e5fe0ed5b\")) {                    Plotly.newPlot(                        \"d3d37506-712d-4852-aec1-893e5fe0ed5b\",                        [{\"link\":{\"arrowlen\":15,\"color\":[\"rgba(255, 99, 71, 0.5)\",\"rgba(60, 179, 113, 0.5)\",\"rgba(76, 175, 80, 0.5)\",\"rgba(255, 215, 0, 0.5)\"],\"customdata\":[\"52.11%\",\"47.89%\",\"41.05%\",\"6.84%\"],\"hovercolor\":[\"tomato\",\"mediumseagreen\",\"#4CAF50\",\"gold\"],\"hoverlabel\":{\"bgcolor\":\"#444\"},\"hovertemplate\":\"%{label}%{value}\\u003cextra\\u003e%{customdata}\\u003c\\u002fextra\\u003e\",\"source\":[0,0,2,2],\"target\":[1,2,3,4],\"value\":[99,91,78,13]},\"node\":{\"align\":\"left\",\"color\":[\"cornflowerblue\",\"tomato\",\"mediumseagreen\",\"#4CAF50\",\"gold\"],\"hovertemplate\":\"%{label}:\",\"label\":[\"\\u003cb\\u003eEnsemble des \\u00e9tudes\\u003c\\u002fb\\u003e\",\"\\u003cb\\u003eEtudes sans publications\\u003c\\u002fb\\u003e\",\"\\u003cb\\u003eEtudes avec publications\\u003c\\u002fb\\u003e\",\"\\u003cb\\u003eAu moins une publication de type r\\u00e9sultat\\u003c\\u002fb\\u003e\",\"\\u003cb\\u003eSans publications de type r\\u00e9sultat\\u003c\\u002fb\\u003e\"],\"line\":{\"color\":\"black\",\"width\":0.0}},\"valueformat\":\"d\",\"valuesuffix\":\" \\u00e9tudes\",\"type\":\"sankey\"}],                        {\"template\":{\"data\":{\"histogram2dcontour\":[{\"type\":\"histogram2dcontour\",\"colorbar\":{\"outlinewidth\":0,\"ticks\":\"\"},\"colorscale\":[[0.0,\"#0d0887\"],[0.1111111111111111,\"#46039f\"],[0.2222222222222222,\"#7201a8\"],[0.3333333333333333,\"#9c179e\"],[0.4444444444444444,\"#bd3786\"],[0.5555555555555556,\"#d8576b\"],[0.6666666666666666,\"#ed7953\"],[0.7777777777777778,\"#fb9f3a\"],[0.8888888888888888,\"#fdca26\"],[1.0,\"#f0f921\"]]}],\"choropleth\":[{\"type\":\"choropleth\",\"colorbar\":{\"outlinewidth\":0,\"ticks\":\"\"}}],\"histogram2d\":[{\"type\":\"histogram2d\",\"colorbar\":{\"outlinewidth\":0,\"ticks\":\"\"},\"colorscale\":[[0.0,\"#0d0887\"],[0.1111111111111111,\"#46039f\"],[0.2222222222222222,\"#7201a8\"],[0.3333333333333333,\"#9c179e\"],[0.4444444444444444,\"#bd3786\"],[0.5555555555555556,\"#d8576b\"],[0.6666666666666666,\"#ed7953\"],[0.7777777777777778,\"#fb9f3a\"],[0.8888888888888888,\"#fdca26\"],[1.0,\"#f0f921\"]]}],\"heatmap\":[{\"type\":\"heatmap\",\"colorbar\":{\"outlinewidth\":0,\"ticks\":\"\"},\"colorscale\":[[0.0,\"#0d0887\"],[0.1111111111111111,\"#46039f\"],[0.2222222222222222,\"#7201a8\"],[0.3333333333333333,\"#9c179e\"],[0.4444444444444444,\"#bd3786\"],[0.5555555555555556,\"#d8576b\"],[0.6666666666666666,\"#ed7953\"],[0.7777777777777778,\"#fb9f3a\"],[0.8888888888888888,\"#fdca26\"],[1.0,\"#f0f921\"]]}],\"heatmapgl\":[{\"type\":\"heatmapgl\",\"colorbar\":{\"outlinewidth\":0,\"ticks\":\"\"},\"colorscale\":[[0.0,\"#0d0887\"],[0.1111111111111111,\"#46039f\"],[0.2222222222222222,\"#7201a8\"],[0.3333333333333333,\"#9c179e\"],[0.4444444444444444,\"#bd3786\"],[0.5555555555555556,\"#d8576b\"],[0.6666666666666666,\"#ed7953\"],[0.7777777777777778,\"#fb9f3a\"],[0.8888888888888888,\"#fdca26\"],[1.0,\"#f0f921\"]]}],\"contourcarpet\":[{\"type\":\"contourcarpet\",\"colorbar\":{\"outlinewidth\":0,\"ticks\":\"\"}}],\"contour\":[{\"type\":\"contour\",\"colorbar\":{\"outlinewidth\":0,\"ticks\":\"\"},\"colorscale\":[[0.0,\"#0d0887\"],[0.1111111111111111,\"#46039f\"],[0.2222222222222222,\"#7201a8\"],[0.3333333333333333,\"#9c179e\"],[0.4444444444444444,\"#bd3786\"],[0.5555555555555556,\"#d8576b\"],[0.6666666666666666,\"#ed7953\"],[0.7777777777777778,\"#fb9f3a\"],[0.8888888888888888,\"#fdca26\"],[1.0,\"#f0f921\"]]}],\"surface\":[{\"type\":\"surface\",\"colorbar\":{\"outlinewidth\":0,\"ticks\":\"\"},\"colorscale\":[[0.0,\"#0d0887\"],[0.1111111111111111,\"#46039f\"],[0.2222222222222222,\"#7201a8\"],[0.3333333333333333,\"#9c179e\"],[0.4444444444444444,\"#bd3786\"],[0.5555555555555556,\"#d8576b\"],[0.6666666666666666,\"#ed7953\"],[0.7777777777777778,\"#fb9f3a\"],[0.8888888888888888,\"#fdca26\"],[1.0,\"#f0f921\"]]}],\"mesh3d\":[{\"type\":\"mesh3d\",\"colorbar\":{\"outlinewidth\":0,\"ticks\":\"\"}}],\"scatter\":[{\"fillpattern\":{\"fillmode\":\"overlay\",\"size\":10,\"solidity\":0.2},\"type\":\"scatter\"}],\"parcoords\":[{\"type\":\"parcoords\",\"line\":{\"colorbar\":{\"outlinewidth\":0,\"ticks\":\"\"}}}],\"scatterpolargl\":[{\"type\":\"scatterpolargl\",\"marker\":{\"colorbar\":{\"outlinewidth\":0,\"ticks\":\"\"}}}],\"bar\":[{\"error_x\":{\"color\":\"#2a3f5f\"},\"error_y\":{\"color\":\"#2a3f5f\"},\"marker\":{\"line\":{\"color\":\"#E5ECF6\",\"width\":0.5},\"pattern\":{\"fillmode\":\"overlay\",\"size\":10,\"solidity\":0.2}},\"type\":\"bar\"}],\"scattergeo\":[{\"type\":\"scattergeo\",\"marker\":{\"colorbar\":{\"outlinewidth\":0,\"ticks\":\"\"}}}],\"scatterpolar\":[{\"type\":\"scatterpolar\",\"marker\":{\"colorbar\":{\"outlinewidth\":0,\"ticks\":\"\"}}}],\"histogram\":[{\"marker\":{\"pattern\":{\"fillmode\":\"overlay\",\"size\":10,\"solidity\":0.2}},\"type\":\"histogram\"}],\"scattergl\":[{\"type\":\"scattergl\",\"marker\":{\"colorbar\":{\"outlinewidth\":0,\"ticks\":\"\"}}}],\"scatter3d\":[{\"type\":\"scatter3d\",\"line\":{\"colorbar\":{\"outlinewidth\":0,\"ticks\":\"\"}},\"marker\":{\"colorbar\":{\"outlinewidth\":0,\"ticks\":\"\"}}}],\"scattermapbox\":[{\"type\":\"scattermapbox\",\"marker\":{\"colorbar\":{\"outlinewidth\":0,\"ticks\":\"\"}}}],\"scatterternary\":[{\"type\":\"scatterternary\",\"marker\":{\"colorbar\":{\"outlinewidth\":0,\"ticks\":\"\"}}}],\"scattercarpet\":[{\"type\":\"scattercarpet\",\"marker\":{\"colorbar\":{\"outlinewidth\":0,\"ticks\":\"\"}}}],\"carpet\":[{\"aaxis\":{\"endlinecolor\":\"#2a3f5f\",\"gridcolor\":\"white\",\"linecolor\":\"white\",\"minorgridcolor\":\"white\",\"startlinecolor\":\"#2a3f5f\"},\"baxis\":{\"endlinecolor\":\"#2a3f5f\",\"gridcolor\":\"white\",\"linecolor\":\"white\",\"minorgridcolor\":\"white\",\"startlinecolor\":\"#2a3f5f\"},\"type\":\"carpet\"}],\"table\":[{\"cells\":{\"fill\":{\"color\":\"#EBF0F8\"},\"line\":{\"color\":\"white\"}},\"header\":{\"fill\":{\"color\":\"#C8D4E3\"},\"line\":{\"color\":\"white\"}},\"type\":\"table\"}],\"barpolar\":[{\"marker\":{\"line\":{\"color\":\"#E5ECF6\",\"width\":0.5},\"pattern\":{\"fillmode\":\"overlay\",\"size\":10,\"solidity\":0.2}},\"type\":\"barpolar\"}],\"pie\":[{\"automargin\":true,\"type\":\"pie\"}]},\"layout\":{\"autotypenumbers\":\"strict\",\"colorway\":[\"#636efa\",\"#EF553B\",\"#00cc96\",\"#ab63fa\",\"#FFA15A\",\"#19d3f3\",\"#FF6692\",\"#B6E880\",\"#FF97FF\",\"#FECB52\"],\"font\":{\"color\":\"#2a3f5f\"},\"hovermode\":\"closest\",\"hoverlabel\":{\"align\":\"left\"},\"paper_bgcolor\":\"white\",\"plot_bgcolor\":\"#E5ECF6\",\"polar\":{\"bgcolor\":\"#E5ECF6\",\"angularaxis\":{\"gridcolor\":\"white\",\"linecolor\":\"white\",\"ticks\":\"\"},\"radialaxis\":{\"gridcolor\":\"white\",\"linecolor\":\"white\",\"ticks\":\"\"}},\"ternary\":{\"bgcolor\":\"#E5ECF6\",\"aaxis\":{\"gridcolor\":\"white\",\"linecolor\":\"white\",\"ticks\":\"\"},\"baxis\":{\"gridcolor\":\"white\",\"linecolor\":\"white\",\"ticks\":\"\"},\"caxis\":{\"gridcolor\":\"white\",\"linecolor\":\"white\",\"ticks\":\"\"}},\"coloraxis\":{\"colorbar\":{\"outlinewidth\":0,\"ticks\":\"\"}},\"colorscale\":{\"sequential\":[[0.0,\"#0d0887\"],[0.1111111111111111,\"#46039f\"],[0.2222222222222222,\"#7201a8\"],[0.3333333333333333,\"#9c179e\"],[0.4444444444444444,\"#bd3786\"],[0.5555555555555556,\"#d8576b\"],[0.6666666666666666,\"#ed7953\"],[0.7777777777777778,\"#fb9f3a\"],[0.8888888888888888,\"#fdca26\"],[1.0,\"#f0f921\"]],\"sequentialminus\":[[0.0,\"#0d0887\"],[0.1111111111111111,\"#46039f\"],[0.2222222222222222,\"#7201a8\"],[0.3333333333333333,\"#9c179e\"],[0.4444444444444444,\"#bd3786\"],[0.5555555555555556,\"#d8576b\"],[0.6666666666666666,\"#ed7953\"],[0.7777777777777778,\"#fb9f3a\"],[0.8888888888888888,\"#fdca26\"],[1.0,\"#f0f921\"]],\"diverging\":[[0,\"#8e0152\"],[0.1,\"#c51b7d\"],[0.2,\"#de77ae\"],[0.3,\"#f1b6da\"],[0.4,\"#fde0ef\"],[0.5,\"#f7f7f7\"],[0.6,\"#e6f5d0\"],[0.7,\"#b8e186\"],[0.8,\"#7fbc41\"],[0.9,\"#4d9221\"],[1,\"#276419\"]]},\"xaxis\":{\"gridcolor\":\"white\",\"linecolor\":\"white\",\"ticks\":\"\",\"title\":{\"standoff\":15},\"zerolinecolor\":\"white\",\"automargin\":true,\"zerolinewidth\":2},\"yaxis\":{\"gridcolor\":\"white\",\"linecolor\":\"white\",\"ticks\":\"\",\"title\":{\"standoff\":15},\"zerolinecolor\":\"white\",\"automargin\":true,\"zerolinewidth\":2},\"scene\":{\"xaxis\":{\"backgroundcolor\":\"#E5ECF6\",\"gridcolor\":\"white\",\"linecolor\":\"white\",\"showbackground\":true,\"ticks\":\"\",\"zerolinecolor\":\"white\",\"gridwidth\":2},\"yaxis\":{\"backgroundcolor\":\"#E5ECF6\",\"gridcolor\":\"white\",\"linecolor\":\"white\",\"showbackground\":true,\"ticks\":\"\",\"zerolinecolor\":\"white\",\"gridwidth\":2},\"zaxis\":{\"backgroundcolor\":\"#E5ECF6\",\"gridcolor\":\"white\",\"linecolor\":\"white\",\"showbackground\":true,\"ticks\":\"\",\"zerolinecolor\":\"white\",\"gridwidth\":2}},\"shapedefaults\":{\"line\":{\"color\":\"#2a3f5f\"}},\"annotationdefaults\":{\"arrowcolor\":\"#2a3f5f\",\"arrowhead\":0,\"arrowwidth\":1},\"geo\":{\"bgcolor\":\"white\",\"landcolor\":\"#E5ECF6\",\"subunitcolor\":\"white\",\"showland\":true,\"showlakes\":true,\"lakecolor\":\"white\"},\"title\":{\"x\":0.05},\"mapbox\":{\"style\":\"light\"}}}},                        {\"responsive\": true}                    ).then(function(){\n",
       "                            \n",
       "var gd = document.getElementById('d3d37506-712d-4852-aec1-893e5fe0ed5b');\n",
       "var x = new MutationObserver(function (mutations, observer) {{\n",
       "        var display = window.getComputedStyle(gd).display;\n",
       "        if (!display || display === 'none') {{\n",
       "            console.log([gd, 'removed!']);\n",
       "            Plotly.purge(gd);\n",
       "            observer.disconnect();\n",
       "        }}\n",
       "}});\n",
       "\n",
       "// Listen for the removal of the full notebook cells\n",
       "var notebookContainer = gd.closest('#notebook-container');\n",
       "if (notebookContainer) {{\n",
       "    x.observe(notebookContainer, {childList: true});\n",
       "}}\n",
       "\n",
       "// Listen for the clearing of the current output cell\n",
       "var outputEl = gd.closest('.output');\n",
       "if (outputEl) {{\n",
       "    x.observe(outputEl, {childList: true});\n",
       "}}\n",
       "\n",
       "                        })                };                });            </script>        </div>"
      ]
     },
     "metadata": {},
     "output_type": "display_data"
    }
   ],
   "source": [
    "labels=[\"Ensemble des études\", \"Etudes sans publications\", \"Etudes avec publications\", \"Au moins une publication de type résultat\", \"Sans publications de type résultat\"]\n",
    "source=[0, 0, 2, 2,]\n",
    "target=[1, 2, 3, 4,]\n",
    "value=[num_trials_wo_pub, num_trials_with_pub, num_trials_with_result, num_trials_wo_any_result]\n",
    "colors = [\"cornflowerblue\", \"tomato\", \"mediumseagreen\", \"#4CAF50\", \"gold\"]\n",
    "percentages = [f\"{(value[t-1]/num_trials):.2%}\" for t in target]\n",
    "\n",
    "# Add transparency to the list of colors, to display links with partial opacity\n",
    "transparency = 0.5\n",
    "colors_transparency = [\n",
    "    f'rgba({rgba_color[0] * 255:.0f}, {rgba_color[1] * 255:.0f}, {rgba_color[2] * 255:.0f}, {rgba_color[3]})'\n",
    "    for color in colors\n",
    "    if (rgba_color := plt_colors.to_rgba(color, transparency))\n",
    "]\n",
    "\n",
    "fig = go.Figure(\n",
    "    data=[\n",
    "        go.Sankey(\n",
    "            valuesuffix = \" études\",\n",
    "            valueformat = \"d\",\n",
    "            \n",
    "            # Nodes\n",
    "            node=dict(\n",
    "                # label=label,\n",
    "                label = [f\"<b>{label}</b>\" for label in labels],\n",
    "                color = colors,\n",
    "                line = dict(color = \"black\", width = 0.),\n",
    "                align = \"left\",\n",
    "                hovertemplate='%{label}:',\n",
    "                # hoverlabel = dict(bgcolor = \"#FFFFFF\"), # white background\n",
    "            ),\n",
    "            \n",
    "            # Links\n",
    "            link=dict(\n",
    "                arrowlen=15,\n",
    "                source=source,\n",
    "                target=target,\n",
    "                value=value,\n",
    "                customdata=percentages,\n",
    "                hovertemplate = \"%{label}%{value}<extra>%{customdata}</extra>\",\n",
    "                hoverlabel = dict(bgcolor ='#444'),\n",
    "                color = colors_transparency[1:],\n",
    "                hovercolor = colors[1:],\n",
    "            ),\n",
    "        )\n",
    "    ]\n",
    ")\n",
    "\n",
    "# fig.update_layout(title_text='Basic Sankey Diagram', font_size=10)\n",
    "fig.show()"
   ]
  },
  {
   "cell_type": "code",
   "execution_count": null,
   "id": "54c28af1-6701-4e25-aea0-e05a108ebda0",
   "metadata": {},
   "outputs": [],
   "source": []
  },
  {
   "cell_type": "code",
   "execution_count": null,
   "id": "e9dcbf8b-cb7d-4201-b874-36e24211777b",
   "metadata": {},
   "outputs": [],
   "source": []
  },
  {
   "cell_type": "code",
   "execution_count": null,
   "id": "dd676d23-a5e3-4bc5-a38a-83917a0214b9",
   "metadata": {},
   "outputs": [],
   "source": []
  },
  {
   "cell_type": "code",
   "execution_count": 56,
   "id": "3207ad5d-1e11-4d7e-8e43-44e30768e3a8",
   "metadata": {},
   "outputs": [
    {
     "data": {
      "text/plain": [
       "StudyType\n",
       "INTERVENTIONAL    130\n",
       "OBSERVATIONAL      60\n",
       "Name: count, dtype: int64"
      ]
     },
     "execution_count": 56,
     "metadata": {},
     "output_type": "execute_result"
    }
   ],
   "source": [
    "df_complete_date.drop_duplicates(subset=['NCTId']).loc[:, 'StudyType'].value_counts()"
   ]
  },
  {
   "cell_type": "code",
   "execution_count": 57,
   "id": "5a7bb89e-b732-4ee9-832c-8986963466a7",
   "metadata": {},
   "outputs": [
    {
     "data": {
      "text/plain": [
       "StudyType\n",
       "INTERVENTIONAL    130\n",
       "OBSERVATIONAL      60\n",
       "Name: count, dtype: int64"
      ]
     },
     "execution_count": 57,
     "metadata": {},
     "output_type": "execute_result"
    }
   ],
   "source": [
    "df_complete_date.loc[~df_complete_date.loc[:, 'NCTId'].duplicated(), 'StudyType'].value_counts()"
   ]
  },
  {
   "cell_type": "code",
   "execution_count": null,
   "id": "b3d26ba8-2111-455d-891d-4f4d11f5511b",
   "metadata": {},
   "outputs": [],
   "source": []
  },
  {
   "cell_type": "code",
   "execution_count": 58,
   "id": "a5ff856a-60b2-4ec0-9e35-8dbec1f8373d",
   "metadata": {},
   "outputs": [
    {
     "data": {
      "text/plain": [
       "is_oa\n",
       "True     66.76%\n",
       "False    33.24%\n",
       "Name: proportion, dtype: object"
      ]
     },
     "execution_count": 58,
     "metadata": {},
     "output_type": "execute_result"
    }
   ],
   "source": [
    "df_complete_date.loc[:, 'is_oa'].value_counts(normalize=True).mul(100).round(2).astype(str) + '%'"
   ]
  },
  {
   "cell_type": "code",
   "execution_count": 59,
   "id": "c6b5e856-ce09-4f0e-bcb6-64fe130bcaf7",
   "metadata": {},
   "outputs": [
    {
     "data": {
      "text/plain": [
       "is_oa\n",
       "True     67.8%\n",
       "False    32.2%\n",
       "Name: proportion, dtype: object"
      ]
     },
     "execution_count": 59,
     "metadata": {},
     "output_type": "execute_result"
    }
   ],
   "source": [
    "df_complete_date.loc[df_complete['is_result'], 'is_oa'].value_counts(normalize=True).mul(100).round(2).astype(str) + '%'"
   ]
  },
  {
   "cell_type": "code",
   "execution_count": null,
   "id": "4a0cea57-8305-4a63-9fe1-cdf686d37a01",
   "metadata": {},
   "outputs": [],
   "source": []
  },
  {
   "cell_type": "code",
   "execution_count": null,
   "id": "eb77fc0e-daa1-4621-8995-16f1021d32fa",
   "metadata": {},
   "outputs": [],
   "source": []
  },
  {
   "cell_type": "code",
   "execution_count": null,
   "id": "2edf6ccc-0250-4e3d-8303-452ec39146b1",
   "metadata": {},
   "outputs": [],
   "source": []
  },
  {
   "cell_type": "code",
   "execution_count": null,
   "id": "af01f5ba-d0b9-4357-b821-599a71a7b267",
   "metadata": {},
   "outputs": [],
   "source": []
  },
  {
   "cell_type": "code",
   "execution_count": null,
   "id": "7b034e56-8e97-4da8-a4b4-b93923c652a4",
   "metadata": {},
   "outputs": [],
   "source": []
  },
  {
   "cell_type": "code",
   "execution_count": null,
   "id": "558f7fdf-22b3-4268-98cd-ebe584ba6f57",
   "metadata": {},
   "outputs": [],
   "source": []
  },
  {
   "cell_type": "code",
   "execution_count": 60,
   "id": "6439b8e8-1bd2-4c50-8e76-b2219ab16de2",
   "metadata": {},
   "outputs": [
    {
     "data": {
      "text/html": [
       "<div>\n",
       "<style scoped>\n",
       "    .dataframe tbody tr th:only-of-type {\n",
       "        vertical-align: middle;\n",
       "    }\n",
       "\n",
       "    .dataframe tbody tr th {\n",
       "        vertical-align: top;\n",
       "    }\n",
       "\n",
       "    .dataframe thead th {\n",
       "        text-align: right;\n",
       "    }\n",
       "</style>\n",
       "<table border=\"1\" class=\"dataframe\">\n",
       "  <thead>\n",
       "    <tr style=\"text-align: right;\">\n",
       "      <th></th>\n",
       "      <th>NCTId</th>\n",
       "      <th>BriefTitle</th>\n",
       "      <th>pmid</th>\n",
       "      <th>title</th>\n",
       "      <th>type</th>\n",
       "      <th>type_de_publication</th>\n",
       "    </tr>\n",
       "  </thead>\n",
       "  <tbody>\n",
       "    <tr>\n",
       "      <th>32</th>\n",
       "      <td>NCT00640263</td>\n",
       "      <td>Comparison of Efficacy and Safety of Infant Pe...</td>\n",
       "      <td>17825642</td>\n",
       "      <td>Prevention of human immunodeficiency virus-1 t...</td>\n",
       "      <td>BACKGROUND</td>\n",
       "      <td>background</td>\n",
       "    </tr>\n",
       "    <tr>\n",
       "      <th>33</th>\n",
       "      <td>NCT00640263</td>\n",
       "      <td>Comparison of Efficacy and Safety of Infant Pe...</td>\n",
       "      <td>32991450</td>\n",
       "      <td>Antiretroviral treatment and its impact on ora...</td>\n",
       "      <td>DERIVED</td>\n",
       "      <td>publication</td>\n",
       "    </tr>\n",
       "    <tr>\n",
       "      <th>34</th>\n",
       "      <td>NCT00640263</td>\n",
       "      <td>Comparison of Efficacy and Safety of Infant Pe...</td>\n",
       "      <td>23039034</td>\n",
       "      <td>Lopinavir/Ritonavir versus Lamivudine peri-exp...</td>\n",
       "      <td>DERIVED</td>\n",
       "      <td>protocole</td>\n",
       "    </tr>\n",
       "    <tr>\n",
       "      <th>35</th>\n",
       "      <td>NCT00640263</td>\n",
       "      <td>Comparison of Efficacy and Safety of Infant Pe...</td>\n",
       "      <td>32067040</td>\n",
       "      <td>Clinical and Biological Factors Associated Wit...</td>\n",
       "      <td>DERIVED</td>\n",
       "      <td>publication</td>\n",
       "    </tr>\n",
       "    <tr>\n",
       "      <th>36</th>\n",
       "      <td>NCT00640263</td>\n",
       "      <td>Comparison of Efficacy and Safety of Infant Pe...</td>\n",
       "      <td>31994250</td>\n",
       "      <td>Association of maternal HIV-1 severity with de...</td>\n",
       "      <td>DERIVED</td>\n",
       "      <td>publication</td>\n",
       "    </tr>\n",
       "    <tr>\n",
       "      <th>37</th>\n",
       "      <td>NCT00640263</td>\n",
       "      <td>Comparison of Efficacy and Safety of Infant Pe...</td>\n",
       "      <td>30814028</td>\n",
       "      <td>Growth in HIV-1-exposed but uninfected infants...</td>\n",
       "      <td>DERIVED</td>\n",
       "      <td>publication</td>\n",
       "    </tr>\n",
       "    <tr>\n",
       "      <th>38</th>\n",
       "      <td>NCT00640263</td>\n",
       "      <td>Comparison of Efficacy and Safety of Infant Pe...</td>\n",
       "      <td>26603917</td>\n",
       "      <td>Extended pre-exposure prophylaxis with lopinav...</td>\n",
       "      <td>DERIVED</td>\n",
       "      <td>publication</td>\n",
       "    </tr>\n",
       "    <tr>\n",
       "      <th>39</th>\n",
       "      <td>NCT00640263</td>\n",
       "      <td>Comparison of Efficacy and Safety of Infant Pe...</td>\n",
       "      <td>28469697</td>\n",
       "      <td>Breastfeeding patterns and its determinants am...</td>\n",
       "      <td>DERIVED</td>\n",
       "      <td>publication</td>\n",
       "    </tr>\n",
       "    <tr>\n",
       "      <th>40</th>\n",
       "      <td>NCT00640263</td>\n",
       "      <td>Comparison of Efficacy and Safety of Infant Pe...</td>\n",
       "      <td>31633158</td>\n",
       "      <td>Lopinavir-Ritonavir Impairs Adrenal Function i...</td>\n",
       "      <td>DERIVED</td>\n",
       "      <td>publication</td>\n",
       "    </tr>\n",
       "    <tr>\n",
       "      <th>41</th>\n",
       "      <td>NCT00640263</td>\n",
       "      <td>Comparison of Efficacy and Safety of Infant Pe...</td>\n",
       "      <td>32228542</td>\n",
       "      <td>Caries experience and oral health related qual...</td>\n",
       "      <td>DERIVED</td>\n",
       "      <td>publication</td>\n",
       "    </tr>\n",
       "    <tr>\n",
       "      <th>42</th>\n",
       "      <td>NCT00640263</td>\n",
       "      <td>Comparison of Efficacy and Safety of Infant Pe...</td>\n",
       "      <td>34425825</td>\n",
       "      <td>The prevalence and socio-behavioural and clini...</td>\n",
       "      <td>PUBMED</td>\n",
       "      <td>publication</td>\n",
       "    </tr>\n",
       "    <tr>\n",
       "      <th>43</th>\n",
       "      <td>NCT00640263</td>\n",
       "      <td>Comparison of Efficacy and Safety of Infant Pe...</td>\n",
       "      <td>27895016</td>\n",
       "      <td>Are Prophylactic and Therapeutic Target Concen...</td>\n",
       "      <td>DERIVED</td>\n",
       "      <td>publication</td>\n",
       "    </tr>\n",
       "  </tbody>\n",
       "</table>\n",
       "</div>"
      ],
      "text/plain": [
       "          NCTId                                         BriefTitle      pmid  \\\n",
       "32  NCT00640263  Comparison of Efficacy and Safety of Infant Pe...  17825642   \n",
       "33  NCT00640263  Comparison of Efficacy and Safety of Infant Pe...  32991450   \n",
       "34  NCT00640263  Comparison of Efficacy and Safety of Infant Pe...  23039034   \n",
       "35  NCT00640263  Comparison of Efficacy and Safety of Infant Pe...  32067040   \n",
       "36  NCT00640263  Comparison of Efficacy and Safety of Infant Pe...  31994250   \n",
       "37  NCT00640263  Comparison of Efficacy and Safety of Infant Pe...  30814028   \n",
       "38  NCT00640263  Comparison of Efficacy and Safety of Infant Pe...  26603917   \n",
       "39  NCT00640263  Comparison of Efficacy and Safety of Infant Pe...  28469697   \n",
       "40  NCT00640263  Comparison of Efficacy and Safety of Infant Pe...  31633158   \n",
       "41  NCT00640263  Comparison of Efficacy and Safety of Infant Pe...  32228542   \n",
       "42  NCT00640263  Comparison of Efficacy and Safety of Infant Pe...  34425825   \n",
       "43  NCT00640263  Comparison of Efficacy and Safety of Infant Pe...  27895016   \n",
       "\n",
       "                                                title        type  \\\n",
       "32  Prevention of human immunodeficiency virus-1 t...  BACKGROUND   \n",
       "33  Antiretroviral treatment and its impact on ora...     DERIVED   \n",
       "34  Lopinavir/Ritonavir versus Lamivudine peri-exp...     DERIVED   \n",
       "35  Clinical and Biological Factors Associated Wit...     DERIVED   \n",
       "36  Association of maternal HIV-1 severity with de...     DERIVED   \n",
       "37  Growth in HIV-1-exposed but uninfected infants...     DERIVED   \n",
       "38  Extended pre-exposure prophylaxis with lopinav...     DERIVED   \n",
       "39  Breastfeeding patterns and its determinants am...     DERIVED   \n",
       "40  Lopinavir-Ritonavir Impairs Adrenal Function i...     DERIVED   \n",
       "41  Caries experience and oral health related qual...     DERIVED   \n",
       "42  The prevalence and socio-behavioural and clini...      PUBMED   \n",
       "43  Are Prophylactic and Therapeutic Target Concen...     DERIVED   \n",
       "\n",
       "   type_de_publication  \n",
       "32          background  \n",
       "33         publication  \n",
       "34           protocole  \n",
       "35         publication  \n",
       "36         publication  \n",
       "37         publication  \n",
       "38         publication  \n",
       "39         publication  \n",
       "40         publication  \n",
       "41         publication  \n",
       "42         publication  \n",
       "43         publication  "
      ]
     },
     "execution_count": 60,
     "metadata": {},
     "output_type": "execute_result"
    }
   ],
   "source": [
    "mask = df_complete.loc[:, 'NCTId'] == 'NCT00640263'\n",
    "df_complete.loc[mask, ['NCTId', 'BriefTitle', 'pmid', 'title', 'type', 'type_de_publication']]"
   ]
  },
  {
   "cell_type": "code",
   "execution_count": null,
   "id": "6ab8fe09-4210-4d44-b335-f293a5428081",
   "metadata": {},
   "outputs": [],
   "source": []
  },
  {
   "cell_type": "code",
   "execution_count": null,
   "id": "a5d1c50c-8524-46df-81e7-d8a62a6d4abd",
   "metadata": {},
   "outputs": [],
   "source": []
  },
  {
   "cell_type": "code",
   "execution_count": 61,
   "id": "0513ab8e-1866-41d4-af32-b03aa8aa21d3",
   "metadata": {},
   "outputs": [
    {
     "ename": "KeyError",
     "evalue": "\"['type de publi'] not in index\"",
     "output_type": "error",
     "traceback": [
      "\u001b[1;31m---------------------------------------------------------------------------\u001b[0m",
      "\u001b[1;31mKeyError\u001b[0m                                  Traceback (most recent call last)",
      "Cell \u001b[1;32mIn[61], line 1\u001b[0m\n\u001b[1;32m----> 1\u001b[0m \u001b[43mdf_from_excel\u001b[49m\u001b[38;5;241;43m.\u001b[39;49m\u001b[43mloc\u001b[49m\u001b[43m[\u001b[49m\u001b[43m:\u001b[49m\u001b[43m,\u001b[49m\u001b[43m \u001b[49m\u001b[43m[\u001b[49m\u001b[38;5;124;43m'\u001b[39;49m\u001b[38;5;124;43mNCTId\u001b[39;49m\u001b[38;5;124;43m'\u001b[39;49m\u001b[43m,\u001b[49m\u001b[43m \u001b[49m\u001b[38;5;124;43m'\u001b[39;49m\u001b[38;5;124;43mpmid\u001b[39;49m\u001b[38;5;124;43m'\u001b[39;49m\u001b[43m,\u001b[49m\u001b[43m \u001b[49m\u001b[38;5;124;43m'\u001b[39;49m\u001b[38;5;124;43mtype de publi\u001b[39;49m\u001b[38;5;124;43m'\u001b[39;49m\u001b[43m]\u001b[49m\u001b[43m]\u001b[49m\n",
      "File \u001b[1;32m~\\Development\\BSO-Inserm-Sante\\venv\\Lib\\site-packages\\pandas\\core\\indexing.py:1184\u001b[0m, in \u001b[0;36m_LocationIndexer.__getitem__\u001b[1;34m(self, key)\u001b[0m\n\u001b[0;32m   1182\u001b[0m     \u001b[38;5;28;01mif\u001b[39;00m \u001b[38;5;28mself\u001b[39m\u001b[38;5;241m.\u001b[39m_is_scalar_access(key):\n\u001b[0;32m   1183\u001b[0m         \u001b[38;5;28;01mreturn\u001b[39;00m \u001b[38;5;28mself\u001b[39m\u001b[38;5;241m.\u001b[39mobj\u001b[38;5;241m.\u001b[39m_get_value(\u001b[38;5;241m*\u001b[39mkey, takeable\u001b[38;5;241m=\u001b[39m\u001b[38;5;28mself\u001b[39m\u001b[38;5;241m.\u001b[39m_takeable)\n\u001b[1;32m-> 1184\u001b[0m     \u001b[38;5;28;01mreturn\u001b[39;00m \u001b[38;5;28;43mself\u001b[39;49m\u001b[38;5;241;43m.\u001b[39;49m\u001b[43m_getitem_tuple\u001b[49m\u001b[43m(\u001b[49m\u001b[43mkey\u001b[49m\u001b[43m)\u001b[49m\n\u001b[0;32m   1185\u001b[0m \u001b[38;5;28;01melse\u001b[39;00m:\n\u001b[0;32m   1186\u001b[0m     \u001b[38;5;66;03m# we by definition only have the 0th axis\u001b[39;00m\n\u001b[0;32m   1187\u001b[0m     axis \u001b[38;5;241m=\u001b[39m \u001b[38;5;28mself\u001b[39m\u001b[38;5;241m.\u001b[39maxis \u001b[38;5;129;01mor\u001b[39;00m \u001b[38;5;241m0\u001b[39m\n",
      "File \u001b[1;32m~\\Development\\BSO-Inserm-Sante\\venv\\Lib\\site-packages\\pandas\\core\\indexing.py:1377\u001b[0m, in \u001b[0;36m_LocIndexer._getitem_tuple\u001b[1;34m(self, tup)\u001b[0m\n\u001b[0;32m   1374\u001b[0m \u001b[38;5;28;01mif\u001b[39;00m \u001b[38;5;28mself\u001b[39m\u001b[38;5;241m.\u001b[39m_multi_take_opportunity(tup):\n\u001b[0;32m   1375\u001b[0m     \u001b[38;5;28;01mreturn\u001b[39;00m \u001b[38;5;28mself\u001b[39m\u001b[38;5;241m.\u001b[39m_multi_take(tup)\n\u001b[1;32m-> 1377\u001b[0m \u001b[38;5;28;01mreturn\u001b[39;00m \u001b[38;5;28;43mself\u001b[39;49m\u001b[38;5;241;43m.\u001b[39;49m\u001b[43m_getitem_tuple_same_dim\u001b[49m\u001b[43m(\u001b[49m\u001b[43mtup\u001b[49m\u001b[43m)\u001b[49m\n",
      "File \u001b[1;32m~\\Development\\BSO-Inserm-Sante\\venv\\Lib\\site-packages\\pandas\\core\\indexing.py:1020\u001b[0m, in \u001b[0;36m_LocationIndexer._getitem_tuple_same_dim\u001b[1;34m(self, tup)\u001b[0m\n\u001b[0;32m   1017\u001b[0m \u001b[38;5;28;01mif\u001b[39;00m com\u001b[38;5;241m.\u001b[39mis_null_slice(key):\n\u001b[0;32m   1018\u001b[0m     \u001b[38;5;28;01mcontinue\u001b[39;00m\n\u001b[1;32m-> 1020\u001b[0m retval \u001b[38;5;241m=\u001b[39m \u001b[38;5;28;43mgetattr\u001b[39;49m\u001b[43m(\u001b[49m\u001b[43mretval\u001b[49m\u001b[43m,\u001b[49m\u001b[43m \u001b[49m\u001b[38;5;28;43mself\u001b[39;49m\u001b[38;5;241;43m.\u001b[39;49m\u001b[43mname\u001b[49m\u001b[43m)\u001b[49m\u001b[38;5;241;43m.\u001b[39;49m\u001b[43m_getitem_axis\u001b[49m\u001b[43m(\u001b[49m\u001b[43mkey\u001b[49m\u001b[43m,\u001b[49m\u001b[43m \u001b[49m\u001b[43maxis\u001b[49m\u001b[38;5;241;43m=\u001b[39;49m\u001b[43mi\u001b[49m\u001b[43m)\u001b[49m\n\u001b[0;32m   1021\u001b[0m \u001b[38;5;66;03m# We should never have retval.ndim < self.ndim, as that should\u001b[39;00m\n\u001b[0;32m   1022\u001b[0m \u001b[38;5;66;03m#  be handled by the _getitem_lowerdim call above.\u001b[39;00m\n\u001b[0;32m   1023\u001b[0m \u001b[38;5;28;01massert\u001b[39;00m retval\u001b[38;5;241m.\u001b[39mndim \u001b[38;5;241m==\u001b[39m \u001b[38;5;28mself\u001b[39m\u001b[38;5;241m.\u001b[39mndim\n",
      "File \u001b[1;32m~\\Development\\BSO-Inserm-Sante\\venv\\Lib\\site-packages\\pandas\\core\\indexing.py:1420\u001b[0m, in \u001b[0;36m_LocIndexer._getitem_axis\u001b[1;34m(self, key, axis)\u001b[0m\n\u001b[0;32m   1417\u001b[0m     \u001b[38;5;28;01mif\u001b[39;00m \u001b[38;5;28mhasattr\u001b[39m(key, \u001b[38;5;124m\"\u001b[39m\u001b[38;5;124mndim\u001b[39m\u001b[38;5;124m\"\u001b[39m) \u001b[38;5;129;01mand\u001b[39;00m key\u001b[38;5;241m.\u001b[39mndim \u001b[38;5;241m>\u001b[39m \u001b[38;5;241m1\u001b[39m:\n\u001b[0;32m   1418\u001b[0m         \u001b[38;5;28;01mraise\u001b[39;00m \u001b[38;5;167;01mValueError\u001b[39;00m(\u001b[38;5;124m\"\u001b[39m\u001b[38;5;124mCannot index with multidimensional key\u001b[39m\u001b[38;5;124m\"\u001b[39m)\n\u001b[1;32m-> 1420\u001b[0m     \u001b[38;5;28;01mreturn\u001b[39;00m \u001b[38;5;28;43mself\u001b[39;49m\u001b[38;5;241;43m.\u001b[39;49m\u001b[43m_getitem_iterable\u001b[49m\u001b[43m(\u001b[49m\u001b[43mkey\u001b[49m\u001b[43m,\u001b[49m\u001b[43m \u001b[49m\u001b[43maxis\u001b[49m\u001b[38;5;241;43m=\u001b[39;49m\u001b[43maxis\u001b[49m\u001b[43m)\u001b[49m\n\u001b[0;32m   1422\u001b[0m \u001b[38;5;66;03m# nested tuple slicing\u001b[39;00m\n\u001b[0;32m   1423\u001b[0m \u001b[38;5;28;01mif\u001b[39;00m is_nested_tuple(key, labels):\n",
      "File \u001b[1;32m~\\Development\\BSO-Inserm-Sante\\venv\\Lib\\site-packages\\pandas\\core\\indexing.py:1360\u001b[0m, in \u001b[0;36m_LocIndexer._getitem_iterable\u001b[1;34m(self, key, axis)\u001b[0m\n\u001b[0;32m   1357\u001b[0m \u001b[38;5;28mself\u001b[39m\u001b[38;5;241m.\u001b[39m_validate_key(key, axis)\n\u001b[0;32m   1359\u001b[0m \u001b[38;5;66;03m# A collection of keys\u001b[39;00m\n\u001b[1;32m-> 1360\u001b[0m keyarr, indexer \u001b[38;5;241m=\u001b[39m \u001b[38;5;28;43mself\u001b[39;49m\u001b[38;5;241;43m.\u001b[39;49m\u001b[43m_get_listlike_indexer\u001b[49m\u001b[43m(\u001b[49m\u001b[43mkey\u001b[49m\u001b[43m,\u001b[49m\u001b[43m \u001b[49m\u001b[43maxis\u001b[49m\u001b[43m)\u001b[49m\n\u001b[0;32m   1361\u001b[0m \u001b[38;5;28;01mreturn\u001b[39;00m \u001b[38;5;28mself\u001b[39m\u001b[38;5;241m.\u001b[39mobj\u001b[38;5;241m.\u001b[39m_reindex_with_indexers(\n\u001b[0;32m   1362\u001b[0m     {axis: [keyarr, indexer]}, copy\u001b[38;5;241m=\u001b[39m\u001b[38;5;28;01mTrue\u001b[39;00m, allow_dups\u001b[38;5;241m=\u001b[39m\u001b[38;5;28;01mTrue\u001b[39;00m\n\u001b[0;32m   1363\u001b[0m )\n",
      "File \u001b[1;32m~\\Development\\BSO-Inserm-Sante\\venv\\Lib\\site-packages\\pandas\\core\\indexing.py:1558\u001b[0m, in \u001b[0;36m_LocIndexer._get_listlike_indexer\u001b[1;34m(self, key, axis)\u001b[0m\n\u001b[0;32m   1555\u001b[0m ax \u001b[38;5;241m=\u001b[39m \u001b[38;5;28mself\u001b[39m\u001b[38;5;241m.\u001b[39mobj\u001b[38;5;241m.\u001b[39m_get_axis(axis)\n\u001b[0;32m   1556\u001b[0m axis_name \u001b[38;5;241m=\u001b[39m \u001b[38;5;28mself\u001b[39m\u001b[38;5;241m.\u001b[39mobj\u001b[38;5;241m.\u001b[39m_get_axis_name(axis)\n\u001b[1;32m-> 1558\u001b[0m keyarr, indexer \u001b[38;5;241m=\u001b[39m \u001b[43max\u001b[49m\u001b[38;5;241;43m.\u001b[39;49m\u001b[43m_get_indexer_strict\u001b[49m\u001b[43m(\u001b[49m\u001b[43mkey\u001b[49m\u001b[43m,\u001b[49m\u001b[43m \u001b[49m\u001b[43maxis_name\u001b[49m\u001b[43m)\u001b[49m\n\u001b[0;32m   1560\u001b[0m \u001b[38;5;28;01mreturn\u001b[39;00m keyarr, indexer\n",
      "File \u001b[1;32m~\\Development\\BSO-Inserm-Sante\\venv\\Lib\\site-packages\\pandas\\core\\indexes\\base.py:6200\u001b[0m, in \u001b[0;36mIndex._get_indexer_strict\u001b[1;34m(self, key, axis_name)\u001b[0m\n\u001b[0;32m   6197\u001b[0m \u001b[38;5;28;01melse\u001b[39;00m:\n\u001b[0;32m   6198\u001b[0m     keyarr, indexer, new_indexer \u001b[38;5;241m=\u001b[39m \u001b[38;5;28mself\u001b[39m\u001b[38;5;241m.\u001b[39m_reindex_non_unique(keyarr)\n\u001b[1;32m-> 6200\u001b[0m \u001b[38;5;28;43mself\u001b[39;49m\u001b[38;5;241;43m.\u001b[39;49m\u001b[43m_raise_if_missing\u001b[49m\u001b[43m(\u001b[49m\u001b[43mkeyarr\u001b[49m\u001b[43m,\u001b[49m\u001b[43m \u001b[49m\u001b[43mindexer\u001b[49m\u001b[43m,\u001b[49m\u001b[43m \u001b[49m\u001b[43maxis_name\u001b[49m\u001b[43m)\u001b[49m\n\u001b[0;32m   6202\u001b[0m keyarr \u001b[38;5;241m=\u001b[39m \u001b[38;5;28mself\u001b[39m\u001b[38;5;241m.\u001b[39mtake(indexer)\n\u001b[0;32m   6203\u001b[0m \u001b[38;5;28;01mif\u001b[39;00m \u001b[38;5;28misinstance\u001b[39m(key, Index):\n\u001b[0;32m   6204\u001b[0m     \u001b[38;5;66;03m# GH 42790 - Preserve name from an Index\u001b[39;00m\n",
      "File \u001b[1;32m~\\Development\\BSO-Inserm-Sante\\venv\\Lib\\site-packages\\pandas\\core\\indexes\\base.py:6252\u001b[0m, in \u001b[0;36mIndex._raise_if_missing\u001b[1;34m(self, key, indexer, axis_name)\u001b[0m\n\u001b[0;32m   6249\u001b[0m     \u001b[38;5;28;01mraise\u001b[39;00m \u001b[38;5;167;01mKeyError\u001b[39;00m(\u001b[38;5;124mf\u001b[39m\u001b[38;5;124m\"\u001b[39m\u001b[38;5;124mNone of [\u001b[39m\u001b[38;5;132;01m{\u001b[39;00mkey\u001b[38;5;132;01m}\u001b[39;00m\u001b[38;5;124m] are in the [\u001b[39m\u001b[38;5;132;01m{\u001b[39;00maxis_name\u001b[38;5;132;01m}\u001b[39;00m\u001b[38;5;124m]\u001b[39m\u001b[38;5;124m\"\u001b[39m)\n\u001b[0;32m   6251\u001b[0m not_found \u001b[38;5;241m=\u001b[39m \u001b[38;5;28mlist\u001b[39m(ensure_index(key)[missing_mask\u001b[38;5;241m.\u001b[39mnonzero()[\u001b[38;5;241m0\u001b[39m]]\u001b[38;5;241m.\u001b[39munique())\n\u001b[1;32m-> 6252\u001b[0m \u001b[38;5;28;01mraise\u001b[39;00m \u001b[38;5;167;01mKeyError\u001b[39;00m(\u001b[38;5;124mf\u001b[39m\u001b[38;5;124m\"\u001b[39m\u001b[38;5;132;01m{\u001b[39;00mnot_found\u001b[38;5;132;01m}\u001b[39;00m\u001b[38;5;124m not in index\u001b[39m\u001b[38;5;124m\"\u001b[39m)\n",
      "\u001b[1;31mKeyError\u001b[0m: \"['type de publi'] not in index\""
     ]
    }
   ],
   "source": [
    "df_from_excel.loc[:, ['NCTId', 'pmid', 'type de publi']]"
   ]
  },
  {
   "cell_type": "code",
   "execution_count": null,
   "id": "6a7d28d2-f90f-41bc-bd9d-c67a92946946",
   "metadata": {},
   "outputs": [],
   "source": [
    "df_from_excel.loc[:, 'type de publi'].value_counts()"
   ]
  },
  {
   "cell_type": "code",
   "execution_count": null,
   "id": "ce148845-71be-48cf-81ab-544275b2a232",
   "metadata": {},
   "outputs": [],
   "source": [
    "df_tmp = pd.read_excel(\n",
    "    'Data/outputs/df_for_manual_treatment.xlsx',\n",
    "    usecols=[\n",
    "        'NCTId',\n",
    "        'BriefTitle',\n",
    "        'HasResults',\n",
    "        'pmid',\n",
    "        'doi',\n",
    "    ],\n",
    ")\n",
    "df_tmp"
   ]
  },
  {
   "cell_type": "code",
   "execution_count": null,
   "id": "96f010ed-169d-4035-9fe4-275dd786cfc4",
   "metadata": {},
   "outputs": [],
   "source": [
    "df_to_copy = df_tmp.merge(\n",
    "    df_from_excel.loc[:, ['NCTId', 'pmid', 'type de publi']],\n",
    "    on=['NCTId', 'pmid'],\n",
    "    how='left',\n",
    "    validate='one_to_one',\n",
    ")\n",
    "df_to_copy"
   ]
  },
  {
   "cell_type": "code",
   "execution_count": null,
   "id": "347d193f-9e72-47c7-a445-21181bc164eb",
   "metadata": {},
   "outputs": [],
   "source": [
    "df_to_copy.loc[:, 'type de publi'].value_counts()"
   ]
  },
  {
   "cell_type": "code",
   "execution_count": null,
   "id": "bf31568f-6f52-4103-84ff-c2f1e2398525",
   "metadata": {},
   "outputs": [],
   "source": [
    "df_to_copy.to_csv(\n",
    "    'Data/outputs/df_to_copy.csv',\n",
    "    # columns=columns_to_export,\n",
    "    sep=';',\n",
    "    index=False,\n",
    "    encoding='utf-8-sig',\n",
    ")"
   ]
  },
  {
   "cell_type": "code",
   "execution_count": null,
   "id": "78a525eb-50e3-48a5-9886-27814d53fdb7",
   "metadata": {},
   "outputs": [],
   "source": []
  }
 ],
 "metadata": {
  "kernelspec": {
   "display_name": "Python 3 (ipykernel)",
   "language": "python",
   "name": "python3"
  },
  "language_info": {
   "codemirror_mode": {
    "name": "ipython",
    "version": 3
   },
   "file_extension": ".py",
   "mimetype": "text/x-python",
   "name": "python",
   "nbconvert_exporter": "python",
   "pygments_lexer": "ipython3",
   "version": "3.12.2"
  }
 },
 "nbformat": 4,
 "nbformat_minor": 5
}
